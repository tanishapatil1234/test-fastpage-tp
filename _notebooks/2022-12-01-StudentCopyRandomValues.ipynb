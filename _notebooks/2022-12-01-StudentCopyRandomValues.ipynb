{
 "cells": [
  {
   "attachments": {},
   "cell_type": "markdown",
   "metadata": {},
   "source": [
    "# Unit 3.15 Random Values Student Copy\n",
    "> Here is our lesson about random values!\n",
    "\n",
    "- toc: true\n",
    "- comments: true\n",
    "- categories: [Week-13,Big-Idea-3]\n",
    "- image: /images/college-board-logo.png"
   ]
  },
  {
   "attachments": {},
   "cell_type": "markdown",
   "metadata": {},
   "source": [
    "Purpose/Objectives: Teach student how to implement randomness into their code to make their code simulate real life situations. \n",
    "\n",
    "In this lesson students will learn:\n",
    "- How to import random to python\n",
    "- How to use random with a list or number range \n",
    "- How to code randomness in everyday scenarios"
   ]
  },
  {
   "attachments": {},
   "cell_type": "markdown",
   "metadata": {},
   "source": [
    "ADD YOUR ADDITIONAL NOTES HERE:"
   ]
  },
  {
   "attachments": {},
   "cell_type": "markdown",
   "metadata": {},
   "source": [
    "## What are Random Values?"
   ]
  },
  {
   "attachments": {},
   "cell_type": "markdown",
   "metadata": {},
   "source": [
    "Random Values are a number generated using a large set of numbers and a mathematical algorithm which gives equal probability to all number occuring"
   ]
  },
  {
   "attachments": {},
   "cell_type": "markdown",
   "metadata": {},
   "source": [
    "Each Result from randomization is equally likely to occur\n",
    "Using random number generation in a program means each execution may produce a different result"
   ]
  },
  {
   "attachments": {},
   "cell_type": "markdown",
   "metadata": {},
   "source": [
    "What are Examples of Random outputs in the world?  Add a few you can think of. \n",
    "- Ex: Marbles\n"
   ]
  },
  {
   "attachments": {},
   "cell_type": "markdown",
   "metadata": {},
   "source": [
    "## Why do we need Random Values for code?"
   ]
  },
  {
   "attachments": {},
   "cell_type": "markdown",
   "metadata": {},
   "source": [
    "Random values can be used in coding:\n",
    "- "
   ]
  },
  {
   "cell_type": "code",
   "execution_count": 1,
   "metadata": {},
   "outputs": [
    {
     "name": "stdout",
     "output_type": "stream",
     "text": [
      "49\n"
     ]
    }
   ],
   "source": [
    "import random\n",
    "random_number = random.randint(1,100)\n",
    "print(random_number)"
   ]
  },
  {
   "cell_type": "code",
   "execution_count": 2,
   "metadata": {},
   "outputs": [
    {
     "name": "stdout",
     "output_type": "stream",
     "text": [
      "blueberry\n"
     ]
    }
   ],
   "source": [
    "def randomlist():\n",
    "    list = [\"apple\", \"banana\", \"cherry\", \"blueberry\"]\n",
    "    element = random.choice(list)\n",
    "    print(element)\n",
    "randomlist()"
   ]
  },
  {
   "attachments": {},
   "cell_type": "markdown",
   "metadata": {},
   "source": [
    "Real Life Examples:\n",
    "Dice Roll"
   ]
  },
  {
   "cell_type": "code",
   "execution_count": 3,
   "metadata": {},
   "outputs": [
    {
     "name": "stdout",
     "output_type": "stream",
     "text": [
      "Roll 1:1\n",
      "Roll 2:5\n",
      "Roll 3:5\n"
     ]
    }
   ],
   "source": [
    "import random\n",
    "for i in range(3):\n",
    "    roll = random.randint(1,6)\n",
    "    print(\"Roll \" + str(i + 1) + \":\" + str(roll))"
   ]
  },
  {
   "attachments": {},
   "cell_type": "markdown",
   "metadata": {},
   "source": [
    "## Challenge #1\n",
    "Write a function that will a simulate a coinflip and print the output"
   ]
  },
  {
   "cell_type": "code",
   "execution_count": 1,
   "metadata": {},
   "outputs": [
    {
     "name": "stdout",
     "output_type": "stream",
     "text": [
      "Heads\n",
      "Tails\n"
     ]
    }
   ],
   "source": [
    "import random\n",
    "def coinflip():\n",
    "    list = ['Heads', 'Tails']\n",
    "    x = random.choice(list)\n",
    "    print(x)\n",
    "\n",
    "coinflip()\n",
    "coinflip()"
   ]
  },
  {
   "attachments": {},
   "cell_type": "markdown",
   "metadata": {},
   "source": [
    "## Royal Flush (Extra)\n",
    "EXTRA: Create a function that will randomly select 5 playing Cards and check if the 5 cards are a Royal Flush"
   ]
  },
  {
   "cell_type": "code",
   "execution_count": 22,
   "metadata": {},
   "outputs": [
    {
     "name": "stdout",
     "output_type": "stream",
     "text": [
      "No royal flush, better luck next time\n",
      "[('9', 'of Spades'), ('Q', 'of Diamonds'), ('8', 'of Diamonds'), ('5', 'of Hearts')]\n"
     ]
    }
   ],
   "source": [
    "import random\n",
    "suits = ['Spades', 'Diamonds', 'Clubs', 'Hearts']\n",
    "cards = ['2', '3', '4', '5', '6', '7', '8','9', 'J', 'Q', 'K', 'A']\n",
    "royals = ['J', 'Q', 'K', 'A']\n",
    "group = []\n",
    "for i in range(4):\n",
    "    i = random.randint(0,3)\n",
    "    j = random.randint(0,10)\n",
    "    x = (cards[j], 'of ' + suits[i])\n",
    "    group.append(x)\n",
    "random.shuffle(group)\n",
    "\n",
    "count = 0\n",
    "for x, y in group:\n",
    "    if x in royals:\n",
    "        count = count + 1\n",
    "    else:\n",
    "        count = count\n",
    "\n",
    "if count == 5:\n",
    "    print('Royal flush!')\n",
    "else: \n",
    "    print(\"No royal flush, better luck next time\")\n",
    "    \n",
    "\n",
    "print(group)"
   ]
  },
  {
   "attachments": {},
   "cell_type": "markdown",
   "metadata": {},
   "source": [
    "## Homework (and hexa decimal extra1)\n",
    "Given a random decimal number convert it into binary\n",
    "as Extra convert it to hexidecimal as well. "
   ]
  },
  {
   "cell_type": "code",
   "execution_count": 111,
   "metadata": {},
   "outputs": [
    {
     "name": "stdout",
     "output_type": "stream",
     "text": [
      "Binary of num 93 is: 01011101"
     ]
    }
   ],
   "source": [
    "import random\n",
    "num = random.randint(1,100)\n",
    "def convert(num):\n",
    "    if num >= 1:\n",
    "        convert(num // 2)  \n",
    "    print(num % 2, end = '') \n",
    "\n",
    "print(\"Binary of num \" + str(num) + \" is:\", end=\" \")\n",
    "convert(num)\n"
   ]
  },
  {
   "cell_type": "code",
   "execution_count": 131,
   "metadata": {},
   "outputs": [
    {
     "name": "stdout",
     "output_type": "stream",
     "text": [
      "0\n",
      "1\n",
      "0\n",
      "0\n",
      "1\n",
      "0\n",
      "0\n",
      "0\n"
     ]
    },
    {
     "ename": "TypeError",
     "evalue": "'>' not supported between instances of 'NoneType' and 'int'",
     "output_type": "error",
     "traceback": [
      "\u001b[0;31m---------------------------------------------------------------------------\u001b[0m",
      "\u001b[0;31mTypeError\u001b[0m                                 Traceback (most recent call last)",
      "Cell \u001b[0;32mIn [131], line 34\u001b[0m\n\u001b[1;32m     31\u001b[0m     \u001b[39mprint\u001b[39m(hexlist)\n\u001b[1;32m     33\u001b[0m \u001b[39mbin\u001b[39m \u001b[39m=\u001b[39m convert(num)\n\u001b[0;32m---> 34\u001b[0m dectohex(\u001b[39mbin\u001b[39;49m)\n",
      "Cell \u001b[0;32mIn [131], line 14\u001b[0m, in \u001b[0;36mdectohex\u001b[0;34m(N)\u001b[0m\n\u001b[1;32m     12\u001b[0m \u001b[39mdef\u001b[39;00m \u001b[39mdectohex\u001b[39m(N):\n\u001b[1;32m     13\u001b[0m     hexlist \u001b[39m=\u001b[39m []\n\u001b[0;32m---> 14\u001b[0m     \u001b[39mwhile\u001b[39;00m N \u001b[39m>\u001b[39;49m \u001b[39m0\u001b[39;49m:\n\u001b[1;32m     15\u001b[0m         \u001b[39mhex\u001b[39m \u001b[39m=\u001b[39m N \u001b[39m%\u001b[39m\u001b[39m16\u001b[39m\n\u001b[1;32m     16\u001b[0m         N \u001b[39m=\u001b[39m N \u001b[39m/\u001b[39m\u001b[39m/\u001b[39m \u001b[39m16\u001b[39m\n",
      "\u001b[0;31mTypeError\u001b[0m: '>' not supported between instances of 'NoneType' and 'int'"
     ]
    }
   ],
   "source": [
    "import math\n",
    "import random\n",
    "\n",
    "num = random.randint(1,100)\n",
    "def convert(num):\n",
    "    if num >= 1:\n",
    "        convert(num // 2) \n",
    "    binary = str(num % 2)\n",
    "    print(binary)\n",
    "    \n",
    "\n",
    "def dectohex(N):\n",
    "    hexlist = []\n",
    "    while N > 0:\n",
    "        hex = N %16\n",
    "        N = N // 16\n",
    "        if hex < 10:\n",
    "            hexlist.append(hex)\n",
    "        elif hex == 10:\n",
    "            hexlist.append('A')\n",
    "        elif hex == 11:\n",
    "            hexlist.append('B')\n",
    "        elif hex == 12:\n",
    "            hexlist.append('C')\n",
    "        elif hex == 13:\n",
    "            hexlist.append('D')\n",
    "        elif hex == 14:\n",
    "            hexlist.append('E')\n",
    "        elif hex == 15:\n",
    "            hexlist.append('F')\n",
    "    print(hexlist)\n",
    "\n",
    "bin = convert(num)\n",
    "dectohex(bin)\n",
    "\n",
    "\n",
    "    "
   ]
  },
  {
   "attachments": {},
   "cell_type": "markdown",
   "metadata": {},
   "source": [
    "# Reflection\n",
    "I attempted the decimal to hexidecimal hack but I keep getting stuck at a 'NoneType' issue. It's probably a simple syntax addition but for now I tried my best. I understand the logic, I just can not find how to return a value form my first binary converter that is useful to me as an argument in my second function. "
   ]
  }
 ],
 "metadata": {
  "kernelspec": {
   "display_name": "Python 3",
   "language": "python",
   "name": "python3"
  },
  "language_info": {
   "codemirror_mode": {
    "name": "ipython",
    "version": 3
   },
   "file_extension": ".py",
   "mimetype": "text/x-python",
   "name": "python",
   "nbconvert_exporter": "python",
   "pygments_lexer": "ipython3",
   "version": "3.8.10"
  },
  "orig_nbformat": 4,
  "vscode": {
   "interpreter": {
    "hash": "916dbcbb3f70747c44a77c7bcd40155683ae19c65e1c03b4aa3499c5328201f1"
   }
  }
 },
 "nbformat": 4,
 "nbformat_minor": 2
}
