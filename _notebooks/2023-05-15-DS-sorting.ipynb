{
 "cells": [
  {
   "attachments": {},
   "cell_type": "markdown",
   "metadata": {},
   "source": [
    "# Sorting Algorithms\n",
    "> Working with Data Structures and manipulating data.\n",
    "\n",
    "- toc: true\n",
    "- categories: []\n",
    "- type: pbl\n",
    "- week: 34"
   ]
  },
  {
   "cell_type": "code",
   "execution_count": 3,
   "metadata": {},
   "outputs": [
    {
     "name": "stdout",
     "output_type": "stream",
     "text": [
      "Random List\n",
      "[9, 62, 78, 54, 18, 74, 58, 84, 20, 46]\n"
     ]
    }
   ],
   "source": [
    "import random\n",
    "\n",
    "numbers = []\n",
    "for i in range(10):\n",
    "    numbers.append(random.randint(0,100))\n",
    "print(\"Random List\")\n",
    "print(numbers)"
   ]
  },
  {
   "attachments": {},
   "cell_type": "markdown",
   "metadata": {},
   "source": [
    "# Warm Up\n",
    "\n",
    "> Discuss with a partner... \n",
    "What are some strategies you would use to sort this list? (Don't worry about writing code for now)\n",
    "- Checking each number in the list to see if it is less than or greater than and gradually alter the list until it is sorted. "
   ]
  },
  {
   "attachments": {},
   "cell_type": "markdown",
   "metadata": {},
   "source": [
    "# Explore\n",
    "\n",
    "Get into groups of 3\n",
    "\n",
    "We will be focusing on 4 algorithms today.\n",
    "\n",
    "We will look at the first one together, Bubble Sort\n",
    "\n",
    "What is happening with this sort?\n",
    "\n",
    "In your groups you will each choose to be an expert on a sorting algorithm. Merge, Selection, and Insertion.\n",
    "Take about 5 minutes to read about your algorithm (Geek for Geeks linked below) and be ready to explain it to your other group members. \n",
    "\n",
    "[Merge](https://www.geeksforgeeks.org/merge-sort/#)\n",
    "\n",
    "[Selection](https://www.geeksforgeeks.org/selection-sort/)\n",
    "\n",
    "[Insertion](https://www.geeksforgeeks.org/insertion-sort/)"
   ]
  },
  {
   "attachments": {},
   "cell_type": "markdown",
   "metadata": {},
   "source": [
    "## Practice\n",
    "\n",
    "[75, 17, 46, 80, 67, 45, 69, 79, 40, 0]\n",
    "\n",
    "How would you sort this list with... \n",
    "- Bubble Sort\n",
    "    > Bubble sort will compare the first and second value and move the least one to the end and continue this pattern over and over again.\n",
    "- Selection Sort\n",
    "    > Selection sort will look at the values and sort them into the following.\n",
    "\n",
    "[88, 39, 53, 39, 58, 43, 74, 81, 71, 51]\n",
    "\n",
    "How would you sort this list with... \n",
    "- Merge Sort\n",
    "    > Merge sort will continually splitting the lists in half and merging them in a manner where it is sorted and it will continue this pattern until it is done.\n",
    "- Insertion Sort\n",
    "    > Insertion Sort will take the first number and look at al the values then place it in the correct place and this procedure will repeat with all the numbers. \n"
   ]
  },
  {
   "attachments": {},
   "cell_type": "markdown",
   "metadata": {},
   "source": [
    "# Sorting Words\n",
    "> Sorting strings works in the same way as integers. Using your expertise algorithm, sort the following list of random words."
   ]
  },
  {
   "cell_type": "code",
   "execution_count": 2,
   "metadata": {},
   "outputs": [
    {
     "name": "stdout",
     "output_type": "stream",
     "text": [
      "236736\n",
      "Random List\n",
      "['prosneusis', 'perichondritis', 'nitrobarite', 'countercraft', 'wrongness', 'cosmorganic', 'explicable', 'comparativeness', 'sparge', 'unaccounted']\n"
     ]
    },
    {
     "name": "stderr",
     "output_type": "stream",
     "text": [
      "[nltk_data] Downloading package words to /home/haeryny/nltk_data...\n",
      "[nltk_data]   Package words is already up-to-date!\n"
     ]
    }
   ],
   "source": [
    "import nltk\n",
    "import random\n",
    "\n",
    "nltk.download('words')  # Download the word list (only required once)\n",
    "\n",
    "from nltk.corpus import words\n",
    "\n",
    "english_words = words.words()\n",
    "print(len(english_words))  # Prints the number of words in the list\n",
    "\n",
    "# You can now use the 'english_words' list in your code\n",
    "\n",
    "words = []\n",
    "for i in range(10):\n",
    "    words.append(english_words[random.randint(0,len(english_words))])\n",
    "print(\"Random List\")\n",
    "print(words)"
   ]
  },
  {
   "attachments": {},
   "cell_type": "markdown",
   "metadata": {},
   "source": [
    "## Popcorn Hacks"
   ]
  },
  {
   "cell_type": "code",
   "execution_count": null,
   "metadata": {},
   "outputs": [],
   "source": [
    "words = new_words()\n",
    "print(words)\n",
    "def bubbleSort(list):\n",
    "    n = len(list) - 1  # list are indexed 0 to n-1, len is n\n",
    "    \n",
    "    # Traverse through list with i index\n",
    "    for i in range(n):\n",
    "        swapped = False  # optimize code, so it exits if now swaps on inner loop\n",
    "\n",
    "        # Inner traversal using j index\n",
    "        for j in range(n-i):  # n-i as positions on right are in order in bubble\n",
    " \n",
    "            # Swap if the element KeyN is greater KeyN1\n",
    "            keyN = list[j]\n",
    "            keyN1 = list[j+1]\n",
    "            if keyN > keyN1:\n",
    "                swapped = True\n",
    "                list[j], list[j + 1] = list[j + 1], list[j]  # single line swap\n",
    "         \n",
    "        if not swapped:  # if no swaps on inner pass, list is sorted\n",
    "            return  # exit function\n",
    "        \n",
    "bubbleSort(words)\n",
    "print(words)"
   ]
  },
  {
   "cell_type": "code",
   "execution_count": null,
   "metadata": {},
   "outputs": [],
   "source": [
    "words = new_words()\n",
    "print(words)\n",
    "def selectionSort(list):\n",
    "    n = len(list)  # length is n\n",
    "    \n",
    "    # List is traversed from index 0 to n-1, n elements\n",
    "    for i in range(n):\n",
    "        smallI = i  # small index is captured\n",
    "        smallV = list[i]\n",
    "\n",
    "        # Inner traversal looks at elements after i\n",
    "        for j in range(i+1, n):\n",
    "            # Save reference if less\n",
    "            keyV = list[j]\n",
    "            if keyV < smallV:\n",
    "                smallI = j  # small index is replaced\n",
    "                smallV = keyV\n",
    "        \n",
    "        # swap smallest to current i positon, sorting left to right\n",
    "        list[i], list[smallI] = list[smallI], list[i]  # single line swap \n",
    "        \n",
    "selectionSort(words)\n",
    "print(words)"
   ]
  },
  {
   "attachments": {},
   "cell_type": "markdown",
   "metadata": {},
   "source": [
    "## Discuss \n",
    "Answer the following with your group.\n",
    "\n",
    "- When should you use each algorithm? What makes an algorithm the right choice?\n",
    "- Given the following lists...\n",
    "    - [0, 2, 6, 4, 8, 10] \n",
    "        - Insertion, you compare two values at a time because only two numbers have to be switched.\n",
    "    - [Elephant, Banana, Cat, Dog, Apple]\n",
    "        - Selection, you compare one value with all the other values and all the words have to be reversed in the list.\n",
    "    - [29, 13, 83, 47, 32, 78, 100, 60, 65, 15, 24, 9, 40, 68, 53, 8, 90, 58, 39, 32, 34, 91, 74, 94, 49, 87, 34, 87, 23, 17, 27, 2, 38, 58, 84, 15, 9, 46, 74, 40, 44, 8, 55, 28, 81, 92, 81, 88, 53, 38, 19, 21, 9, 54, 21, 67, 3, 41, 3, 74, 13, 71, 70, 45, 5, 36, 80, 64, 97, 86, 73, 74, 94, 79, 49, 32, 20, 68, 64, 69, 1, 77, 31, 56, 100, 80, 48, 75, 85, 93, 67, 57, 26, 56, 43, 53, 59, 28, 67, 50]\n",
    "        - Merge, you can view large groups of value at a time.\n",
    "\n",
    "Select the algorithm you believe is best for each, explain."
   ]
  },
  {
   "attachments": {},
   "cell_type": "markdown",
   "metadata": {},
   "source": [
    "## HACKS\n",
    "> Provided below is a Bubble Sort Algorithm sorting a list of dictionaries based off of selected key.\n",
    "\n",
    "- Now it's time to do some coding...\n",
    "\n",
    "- Run code and then research and answer these questions...\n",
    "    - Is a list and/or dictionary in python considered a primitive or collection type?  Why?\n",
    "        > In Python, a list and a dictionary are considered collection types rather than primitive types. Primitive types in Python are basic and immutable data types, such as integers, floating-point numbers, booleans, and strings. They are not capable of storing multiple values or elements. On the other hand, a list is an ordered collection of elements, allowing duplicate values and supporting various operations like indexing, appending, removing, and iterating. It is mutable, which means you can modify its elements after creation. A dictionary, also known as a hash table or associative array, is an unordered collection of key-value pairs. Each value is associated with a unique key, allowing efficient lookup and retrieval of values based on the keys. Dictionaries are also mutable. Both lists and dictionaries provide a way to organize and manipulate data in a more complex manner than primitive types, making them collection types in Python.\n",
    "    - Is the list passed into bubble sort \"pass-by-value\" or \"pass-by-reference? Describe why in relation to output.\n",
    "        > Python uses a mechanism called \"pass-by-object-reference,\" which means that when you pass a variable as an argument to a function, a reference to the object is passed, rather than creating a new copy of the object. This behavior applies to mutable objects like lists. When a list is passed by reference to the bubble sort algorithm, any modifications made to the list within the function will be reflected in the original list outside the function. Bubble sort works by swapping elements within the list, and these swaps will directly affect the original list.\n",
    "\n",
    "- Implement new cell(s) and/or organize cells to do the following.\n",
    "    - Create your own list\n",
    "    - Use your expertise sorting algorithm (selection, insertion, merge). Note, I got my bubble sort from Geek for Geeks and made modifications. Each student in a group should have a unique algorithm.\n",
    "    - Test your list with my bubble sort\n",
    "    - Test my list with your new sort\n",
    "    - Research analysis on sorting: comparisons, swaps, time.  Build this into your hacks.\n",
    "    - Find a better way to print the data, key first, then other elements in viewable form.\n",
    "\n",
    "Use the code below to help guide your adventure"
   ]
  },
  {
   "cell_type": "code",
   "execution_count": 15,
   "metadata": {},
   "outputs": [
    {
     "name": "stdout",
     "output_type": "stream",
     "text": [
      "Original\n",
      "[{'name': 'Risa', 'age': 18, 'city': 'New York'}, {'name': 'John', 'age': 63, 'city': 'Eugene'}, {'name': 'Shekar', 'age': 18, 'city': 'San Francisco'}, {'name': 'Ryan', 'age': 21, 'city': 'Los Angeles'}]\n",
      "name\n",
      "[{'name': 'John', 'age': 63, 'city': 'Eugene'}, {'name': 'Risa', 'age': 18, 'city': 'New York'}, {'name': 'Ryan', 'age': 21, 'city': 'Los Angeles'}, {'name': 'Shekar', 'age': 18, 'city': 'San Francisco'}]\n",
      "age\n",
      "[{'name': 'Risa', 'age': 18, 'city': 'New York'}, {'name': 'Shekar', 'age': 18, 'city': 'San Francisco'}, {'name': 'Ryan', 'age': 21, 'city': 'Los Angeles'}, {'name': 'John', 'age': 63, 'city': 'Eugene'}]\n",
      "city\n",
      "[{'name': 'John', 'age': 63, 'city': 'Eugene'}, {'name': 'Ryan', 'age': 21, 'city': 'Los Angeles'}, {'name': 'Risa', 'age': 18, 'city': 'New York'}, {'name': 'Shekar', 'age': 18, 'city': 'San Francisco'}]\n"
     ]
    }
   ],
   "source": [
    "\"\"\"\n",
    "* Creator: Nighthawk Coding Society\n",
    "Bubble Sort of a List with optimizations\n",
    "\"\"\"\n",
    "\n",
    "# bubble sorts a list of dictionaries, base off of provided key\n",
    "def bubbleSort(list, key):\n",
    "    n = len(list) - 1  # list are indexed 0 to n-1, len is n\n",
    "    \n",
    "    # Traverse through list with i index\n",
    "    for i in range(n):\n",
    "        swapped = False  # optimize code, so it exits if now swaps on inner loop\n",
    "\n",
    "        # Inner traversal using j index\n",
    "        for j in range(n-i):  # n-i as positions on right are in order in bubble\n",
    " \n",
    "            # Swap if the element KeyN is greater KeyN1\n",
    "            keyN = list[j].get(key)\n",
    "            keyN1 = list[j+1].get(key)\n",
    "            if keyN > keyN1:\n",
    "                swapped = True\n",
    "                list[j], list[j + 1] = list[j + 1], list[j]  # single line swap\n",
    "         \n",
    "        if not swapped:  # if no swaps on inner pass, list is sorted\n",
    "            return  # exit function\n",
    "\n",
    "if __name__ == \"__main__\":\n",
    "    # list/dictionary sample\n",
    "    list_of_people = [\n",
    "    {\"name\": \"Risa\", \"age\": 18, \"city\": \"New York\"},\n",
    "    {\"name\": \"John\", \"age\": 63, \"city\": \"Eugene\"},\n",
    "    {\"name\": \"Shekar\", \"age\": 18, \"city\": \"San Francisco\"},\n",
    "    {\"name\": \"Ryan\", \"age\": 21, \"city\": \"Los Angeles\"}\n",
    "    ]\n",
    "    \n",
    "    # assuming uniform keys, pick 1st row as source of keys\n",
    "    key_row = list_of_people[0]\n",
    "\n",
    "    # print list as defined\n",
    "    print(\"Original\")\n",
    "    print(list_of_people)\n",
    "    \n",
    "    for key in key_row:  # finds each key in the row\n",
    "        print(key)\n",
    "        bubbleSort(list_of_people, key)  # sort list of people\n",
    "        print(list_of_people)"
   ]
  },
  {
   "attachments": {},
   "cell_type": "markdown",
   "metadata": {},
   "source": [
    "My Own List and Merge Sort"
   ]
  },
  {
   "cell_type": "code",
   "execution_count": 9,
   "metadata": {},
   "outputs": [
    {
     "name": "stdout",
     "output_type": "stream",
     "text": [
      "Original\n",
      "[{'name': 'Bob Ross', 'age': 895, 'country': 'Italy'}, {'name': 'Leonardo Da Vinci', 'age': 653, 'country': 'America'}, {'name': 'Van Gogh', 'age': 485, 'country': 'France'}, {'name': 'Picasso', 'age': 212, 'country': 'Rome'}]\n",
      "Bubble Sort\n",
      "name\n",
      "[{'name': 'Bob Ross', 'age': 895, 'country': 'Italy'}, {'name': 'Leonardo Da Vinci', 'age': 653, 'country': 'America'}, {'name': 'Picasso', 'age': 212, 'country': 'Rome'}, {'name': 'Van Gogh', 'age': 485, 'country': 'France'}]\n",
      "age\n",
      "[{'name': 'Picasso', 'age': 212, 'country': 'Rome'}, {'name': 'Van Gogh', 'age': 485, 'country': 'France'}, {'name': 'Leonardo Da Vinci', 'age': 653, 'country': 'America'}, {'name': 'Bob Ross', 'age': 895, 'country': 'Italy'}]\n",
      "country\n",
      "[{'name': 'Leonardo Da Vinci', 'age': 653, 'country': 'America'}, {'name': 'Van Gogh', 'age': 485, 'country': 'France'}, {'name': 'Bob Ross', 'age': 895, 'country': 'Italy'}, {'name': 'Picasso', 'age': 212, 'country': 'Rome'}]\n",
      "Merge Sort\n",
      "name\n",
      "[{'name': 'Bob Ross', 'age': 895, 'country': 'Italy'}, {'name': 'Leonardo Da Vinci', 'age': 653, 'country': 'America'}, {'name': 'Picasso', 'age': 212, 'country': 'Rome'}, {'name': 'Van Gogh', 'age': 485, 'country': 'France'}]\n",
      "age\n",
      "[{'name': 'Picasso', 'age': 212, 'country': 'Rome'}, {'name': 'Van Gogh', 'age': 485, 'country': 'France'}, {'name': 'Leonardo Da Vinci', 'age': 653, 'country': 'America'}, {'name': 'Bob Ross', 'age': 895, 'country': 'Italy'}]\n",
      "country\n",
      "[{'name': 'Leonardo Da Vinci', 'age': 653, 'country': 'America'}, {'name': 'Van Gogh', 'age': 485, 'country': 'France'}, {'name': 'Bob Ross', 'age': 895, 'country': 'Italy'}, {'name': 'Picasso', 'age': 212, 'country': 'Rome'}]\n"
     ]
    }
   ],
   "source": [
    "# Merge sort algorithm\n",
    "def mergeSort(arr):\n",
    "    if len(arr) <= 1:\n",
    "        return arr\n",
    "\n",
    "    mid = len(arr) // 2\n",
    "    left_half = arr[:mid]\n",
    "    right_half = arr[mid:]\n",
    "\n",
    "    left_half = mergeSort(left_half)\n",
    "    right_half = mergeSort(right_half)\n",
    "\n",
    "    return merge(left_half, right_half)\n",
    "\n",
    "def merge(left, right):\n",
    "    result = []\n",
    "    i = j = 0\n",
    "\n",
    "    while i < len(left) and j < len(right):\n",
    "        if left[i] <= right[j]:\n",
    "            result.append(left[i])\n",
    "            i += 1\n",
    "        else:\n",
    "            result.append(right[j])\n",
    "            j += 1\n",
    "\n",
    "    result.extend(left[i:])\n",
    "    result.extend(right[j:])\n",
    "\n",
    "    return result\n",
    "\n",
    "\n",
    "if __name__ == \"__main__\":\n",
    "    # my own list\n",
    "    list_of_artists = [\n",
    "    {\"name\": \"Bob Ross\", \"age\": 895, \"country\": \"Italy\"},\n",
    "    {\"name\": \"Leonardo Da Vinci\", \"age\": 653, \"country\": \"America\"},\n",
    "    {\"name\": \"Van Gogh\", \"age\": 485, \"country\": \"France\"},\n",
    "    {\"name\": \"Picasso\", \"age\": 212, \"country\": \"Rome\"}\n",
    "    ]\n",
    "    \n",
    "    key_row = list_of_artists[0]\n",
    "\n",
    "    \n",
    "    # print list as defined\n",
    "    print(\"Original\")\n",
    "    print(list_of_artists)\n",
    "\n",
    "    print(\"Bubble Sort\")\n",
    "    for key in key_row:  # finds each key in the row\n",
    "        print(key)\n",
    "        bubbleSort(list_of_artists, key)  # sort list of people\n",
    "        print(list_of_artists)\n",
    "\n",
    "    print(\"Merge Sort\")\n",
    "    for key in key_row:  # finds each key in the row\n",
    "        print(key)\n",
    "        mergeSort(list_of_artists, key)  # sort list of people\n",
    "        print(list_of_artists)\n",
    "\n",
    "  "
   ]
  },
  {
   "attachments": {},
   "cell_type": "markdown",
   "metadata": {},
   "source": [
    "Merge Sort on Class Example"
   ]
  },
  {
   "cell_type": "code",
   "execution_count": 16,
   "metadata": {},
   "outputs": [
    {
     "name": "stdout",
     "output_type": "stream",
     "text": [
      "Original\n",
      "[{'name': 'Risa', 'age': 18, 'city': 'New York'}, {'name': 'John', 'age': 63, 'city': 'Eugene'}, {'name': 'Shekar', 'age': 18, 'city': 'San Francisco'}, {'name': 'Ryan', 'age': 21, 'city': 'Los Angeles'}]\n",
      "name\n",
      "[{'name': 'John', 'age': 63, 'city': 'Eugene'}, {'name': 'Risa', 'age': 18, 'city': 'New York'}, {'name': 'Ryan', 'age': 21, 'city': 'Los Angeles'}, {'name': 'Shekar', 'age': 18, 'city': 'San Francisco'}]\n",
      "age\n",
      "[{'name': 'Risa', 'age': 18, 'city': 'New York'}, {'name': 'Shekar', 'age': 18, 'city': 'San Francisco'}, {'name': 'Ryan', 'age': 21, 'city': 'Los Angeles'}, {'name': 'John', 'age': 63, 'city': 'Eugene'}]\n",
      "city\n",
      "[{'name': 'John', 'age': 63, 'city': 'Eugene'}, {'name': 'Ryan', 'age': 21, 'city': 'Los Angeles'}, {'name': 'Risa', 'age': 18, 'city': 'New York'}, {'name': 'Shekar', 'age': 18, 'city': 'San Francisco'}]\n"
     ]
    }
   ],
   "source": [
    "# print list as defined\n",
    "print(\"Original\")\n",
    "print(list_of_people)\n",
    "    \n",
    "for key in key_row:  # finds each key in the row\n",
    "        print(key)\n",
    "        mergeSort(list_of_people, key)  # sort list of people\n",
    "        print(list_of_people)"
   ]
  }
 ],
 "metadata": {
  "kernelspec": {
   "display_name": "base",
   "language": "python",
   "name": "python3"
  },
  "language_info": {
   "codemirror_mode": {
    "name": "ipython",
    "version": 3
   },
   "file_extension": ".py",
   "mimetype": "text/x-python",
   "name": "python",
   "nbconvert_exporter": "python",
   "pygments_lexer": "ipython3",
   "version": "3.9.12"
  },
  "orig_nbformat": 4
 },
 "nbformat": 4,
 "nbformat_minor": 2
}
