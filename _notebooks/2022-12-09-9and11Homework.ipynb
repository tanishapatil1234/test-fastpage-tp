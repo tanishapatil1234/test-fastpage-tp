{
 "cells": [
  {
   "attachments": {},
   "cell_type": "markdown",
   "metadata": {},
   "source": [
    "# Homework/Combined Notebook for Unit 9 and 11\n",
    "- Notes:\n",
    "- [1](https://tanishapatil1234.github.io/test-fastpage-tp/2022/11/29/searching-introduction.html)\n",
    "- [2](https://tanishapatil1234.github.io/test-fastpage-tp/2022/11/29/Developing-Algorithms.html)\n",
    "- [3](https://tanishapatil1234.github.io/test-fastpage-tp/2022/11/29/developing-algorithms-js.html)"
   ]
  },
  {
   "attachments": {},
   "cell_type": "markdown",
   "metadata": {},
   "source": [
    "## Searching Introduction Challenges and Homework Attempted: 0.6 point"
   ]
  },
  {
   "cell_type": "code",
   "execution_count": 1,
   "metadata": {},
   "outputs": [
    {
     "data": {
      "text/plain": [
       "13"
      ]
     },
     "execution_count": 1,
     "metadata": {},
     "output_type": "execute_result"
    }
   ],
   "source": [
    "def sqrt_trial(N):\n",
    "    numlist = []\n",
    "    num = 0\n",
    "    lo = 0\n",
    "    while num <= N:\n",
    "        numlist.append(num)\n",
    "        num = num + 1\n",
    "    else: \n",
    "        hi = num   \n",
    "\n",
    "    mid = (lo + hi) / 2 \n",
    "    for mid in numlist:\n",
    "         if mid**2 == N:\n",
    "             return mid \n",
    "         elif mid**2 < N:\n",
    "             hi = mid\n",
    "             mid = (hi-lo)/2 \n",
    "         elif mid**2 > N:\n",
    "             lo = mid\n",
    "             mid = (hi-lo)/2 \n",
    "\n",
    "sqrt_trial(169)\n",
    "    \n",
    "             "
   ]
  },
  {
   "attachments": {},
   "cell_type": "markdown",
   "metadata": {},
   "source": [
    "The fucntion sqrt trial worked, but It will not work with higher numbers since it will have to search through a longer list. It was a good start but because of this I had to find a way to do binary search without using a list"
   ]
  },
  {
   "cell_type": "code",
   "execution_count": 2,
   "metadata": {},
   "outputs": [
    {
     "name": "stdout",
     "output_type": "stream",
     "text": [
      "13\n"
     ]
    }
   ],
   "source": [
    "def sqrt(N):\n",
    "    hi = N\n",
    "    lo = 0\n",
    "    if N > 1:\n",
    "        hi = N // 2\n",
    "    while hi >= lo:\n",
    "        mid = (lo + hi) // 2\n",
    "        if (mid**2) == N:\n",
    "            return mid \n",
    "        elif (mid**2) < N:\n",
    "            lo = mid + 1\n",
    "        else:\n",
    "            hi = mid - 1\n",
    "    return None      \n",
    "\n",
    "print(sqrt(169))\n",
    "    \n",
    "             "
   ]
  },
  {
   "cell_type": "code",
   "execution_count": 3,
   "metadata": {},
   "outputs": [
    {
     "name": "stdout",
     "output_type": "stream",
     "text": [
      "Check number 1 passed\n",
      "Check number 2 passed\n",
      "Check number 3 passed\n",
      "Check number 4 passed\n",
      "Check number 5 passed\n",
      "Check number 6 passed\n",
      "Check number 7 passed\n",
      "Check number 8 passed\n",
      "Check number 9 passed\n",
      "Check number 10 passed\n",
      "Check number 11 passed\n",
      "Check number 12 passed\n",
      "Check number 13 passed\n"
     ]
    }
   ],
   "source": [
    "from math import sqrt as sq\n",
    "test_cases = [0,1,4,85248289,22297284,18939904,91107025,69122596,9721924,37810201,1893294144,8722812816,644398225]\n",
    "answers = [int(sq(x)) for x in test_cases]\n",
    "\n",
    "def checkValid():\n",
    "    for i in range(len(test_cases)):\n",
    "        if sqrt(test_cases[i]) == answers[i]:\n",
    "            print(\"Check number {} passed\".format(i+1))\n",
    "        else:\n",
    "            print(\"Check number {} failed\".format(i+1))\n",
    "\n",
    "checkValid()"
   ]
  },
  {
   "attachments": {},
   "cell_type": "markdown",
   "metadata": {},
   "source": [
    "## Developing Algorithms Python Tasks and HW: 0.3 points"
   ]
  },
  {
   "cell_type": "code",
   "execution_count": 4,
   "metadata": {},
   "outputs": [
    {
     "name": "stdout",
     "output_type": "stream",
     "text": [
      "[6, 3, 10, 5, 16, 8, 4, 2, 1]\n"
     ]
    }
   ],
   "source": [
    "def function(num):\n",
    "    list = []\n",
    "    list.append(num)\n",
    "    while num > 1:\n",
    "        if num % 2:\n",
    "            num = num * 3 + 1\n",
    "            list.append(num)\n",
    "        else:\n",
    "            num = num//2\n",
    "            list.append(num)\n",
    "    print(list)\n",
    "\n",
    "function(6)\n"
   ]
  }
 ],
 "metadata": {
  "kernelspec": {
   "display_name": "Python 3",
   "language": "python",
   "name": "python3"
  },
  "language_info": {
   "codemirror_mode": {
    "name": "ipython",
    "version": 3
   },
   "file_extension": ".py",
   "mimetype": "text/x-python",
   "name": "python",
   "nbconvert_exporter": "python",
   "pygments_lexer": "ipython3",
   "version": "3.8.10 (default, Jun 22 2022, 20:18:18) \n[GCC 9.4.0]"
  },
  "orig_nbformat": 4,
  "vscode": {
   "interpreter": {
    "hash": "916dbcbb3f70747c44a77c7bcd40155683ae19c65e1c03b4aa3499c5328201f1"
   }
  }
 },
 "nbformat": 4,
 "nbformat_minor": 2
}
