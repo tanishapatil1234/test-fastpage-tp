{
 "cells": [
  {
   "attachments": {},
   "cell_type": "markdown",
   "metadata": {},
   "source": [
    "#  Data Structures- Hashmaps, Sets, Hash Tables, Hashing and Collisions\n",
    "> Observing hashmaps with python dictionaries\n",
    "- toc: true\n",
    "- image: /images/python.png\n",
    "- categories: []\n",
    "- type: pbl\n",
    "- week: 28"
   ]
  },
  {
   "attachments": {},
   "cell_type": "markdown",
   "metadata": {},
   "source": [
    "## What is a Hashtable/Hashmap?\n",
    "\n",
    "> A hashtable is a data structure that with a collection of key-value pairs, where each key maps to a value, and the keys must be unique and hashable.\n",
    "\n",
    "- In Python there is a built in hashtable known as a _dictionary__.\n",
    "\n",
    "> The primary purpose of a hashtable is to provide efficient lookup, insertion, and deletion operations. When an element is to be inserted into the hashtable, a hash function is used to map the key to a specific index in the underlying array that is used to store the key-value pairs. The value is then stored at that index. When searching for a value, the hash function is used again to find the index where the value is stored.\n",
    "\n",
    "> The key advantage of a hashtable over other data structures like arrays and linked lists is its average-case time complexity for lookup, insertion, and deletion operations.\n",
    "\n",
    "- The typical time complexity of a hashtable is _O(1) or constant__. \n"
   ]
  },
  {
   "attachments": {},
   "cell_type": "markdown",
   "metadata": {},
   "source": [
    "## What is Hashing and Collision?\n",
    "\n",
    "> Hashing is the process of mapping a given key to a value in a hash table or hashmap, using a hash function. The hash function takes the key as input and produces a hash value or hash code, which is then used to determine the index in the underlying array where the value is stored. The purpose of hashing is to provide a quick and efficient way to access data, by eliminating the need to search through an entire data structure to find a value.\n",
    "\n",
    "> However, it is possible for two different keys to map to the same hash value, resulting in a collision. When a collision occurs, there are different ways to resolve it, depending on the collision resolution strategy used.\n",
    "\n",
    "> Python's dictionary implementation is optimized to handle collisions efficiently, and the performance of the dictionary is generally very good, even in the presence of collisions. However, if the number of collisions is very high, the performance of the dictionary can degrade, so it is important to choose a good hash function that minimizes collisions when designing a Python dictionary.\n",
    "\n",
    "## What is a Set?"
   ]
  },
  {
   "cell_type": "code",
   "execution_count": 2,
   "metadata": {},
   "outputs": [
    {
     "name": "stdout",
     "output_type": "stream",
     "text": [
      "{1, 2, 3}\n"
     ]
    }
   ],
   "source": [
    "# Creating a set using set() function\n",
    "my_set = set([1, 2, 3, 2, 1])\n",
    "print(my_set)  \n",
    "\n",
    "# What do you notice in the output?\n",
    "# set() returns the values that are unique. Duplicated values are left out. \n",
    "\n",
    "# Why do you think Sets are in the same tech talk as Hashmaps/Hashtables?\n",
    "# Sets and keys are similar in that they must be unique. "
   ]
  },
  {
   "attachments": {},
   "cell_type": "markdown",
   "metadata": {},
   "source": [
    "## Dictionary Example\n",
    "\n",
    "Below are just some basic features of a dictionary. As always, documentation is always the main source for all the full capablilties. "
   ]
  },
  {
   "cell_type": "code",
   "execution_count": 4,
   "metadata": {},
   "outputs": [
    {
     "name": "stdout",
     "output_type": "stream",
     "text": [
      "{'title': 'Lover', 'artist': 'Taylor Swift', 'year': 2019, 'genre': ['Pop', 'Synth-pop'], 'tracks': {1: 'I Forgot That You Existed', 2: 'Cruel Summer', 3: 'Lover', 4: 'The Man', 5: 'The Archer', 6: 'I Think He Knows', 7: 'Miss Americana & The Heartbreak Prince', 8: 'Paper Rings', 9: 'Cornelia Street', 10: 'Death By A Thousand Cuts', 11: 'London Boy', 12: \"Soon You'll Get Better (feat. Dixie Chicks)\", 13: 'False God', 14: 'You Need To Calm Down', 15: 'Afterglow', 16: 'Me! (feat. Brendon Urie of Panic! At The Disco)', 17: \"It's Nice To Have A Friend\", 18: 'Daylight'}}\n"
     ]
    }
   ],
   "source": [
    "# Creating a dictionary with information about the album \"Lover\"\n",
    "lover_album = {\n",
    "    \"title\": \"Lover\",\n",
    "    \"artist\": \"Taylor Swift\",\n",
    "    \"year\": 2019,\n",
    "    \"genre\": [\"Pop\", \"Synth-pop\"],\n",
    "    \"tracks\": {\n",
    "        1: \"I Forgot That You Existed\",\n",
    "        2: \"Cruel Summer\",\n",
    "        3: \"Lover\",\n",
    "        4: \"The Man\",\n",
    "        5: \"The Archer\",\n",
    "        6: \"I Think He Knows\",\n",
    "        7: \"Miss Americana & The Heartbreak Prince\",\n",
    "        8: \"Paper Rings\",\n",
    "        9: \"Cornelia Street\",\n",
    "        10: \"Death By A Thousand Cuts\",\n",
    "        11: \"London Boy\",\n",
    "        12: \"Soon You'll Get Better (feat. Dixie Chicks)\",\n",
    "        13: \"False God\",\n",
    "        14: \"You Need To Calm Down\",\n",
    "        15: \"Afterglow\",\n",
    "        16: \"Me! (feat. Brendon Urie of Panic! At The Disco)\",\n",
    "        17: \"It's Nice To Have A Friend\",\n",
    "        18: \"Daylight\"\n",
    "    }\n",
    "}\n",
    "\n",
    "# What data structures do you see?\n",
    "# There is a list for genre, and a dictionary for tracks\n",
    "#\n",
    "\n",
    "# Printing the dictionary\n",
    "print(lover_album)"
   ]
  },
  {
   "cell_type": "code",
   "execution_count": 5,
   "metadata": {},
   "outputs": [
    {
     "name": "stdout",
     "output_type": "stream",
     "text": [
      "{1: 'I Forgot That You Existed', 2: 'Cruel Summer', 3: 'Lover', 4: 'The Man', 5: 'The Archer', 6: 'I Think He Knows', 7: 'Miss Americana & The Heartbreak Prince', 8: 'Paper Rings', 9: 'Cornelia Street', 10: 'Death By A Thousand Cuts', 11: 'London Boy', 12: \"Soon You'll Get Better (feat. Dixie Chicks)\", 13: 'False God', 14: 'You Need To Calm Down', 15: 'Afterglow', 16: 'Me! (feat. Brendon Urie of Panic! At The Disco)', 17: \"It's Nice To Have A Friend\", 18: 'Daylight'}\n",
      "{1: 'I Forgot That You Existed', 2: 'Cruel Summer', 3: 'Lover', 4: 'The Man', 5: 'The Archer', 6: 'I Think He Knows', 7: 'Miss Americana & The Heartbreak Prince', 8: 'Paper Rings', 9: 'Cornelia Street', 10: 'Death By A Thousand Cuts', 11: 'London Boy', 12: \"Soon You'll Get Better (feat. Dixie Chicks)\", 13: 'False God', 14: 'You Need To Calm Down', 15: 'Afterglow', 16: 'Me! (feat. Brendon Urie of Panic! At The Disco)', 17: \"It's Nice To Have A Friend\", 18: 'Daylight'}\n"
     ]
    }
   ],
   "source": [
    "# Retrieve value from dictionary with key\n",
    "print(lover_album.get('tracks'))\n",
    "# or\n",
    "print(lover_album['tracks'])"
   ]
  },
  {
   "cell_type": "code",
   "execution_count": 6,
   "metadata": {},
   "outputs": [
    {
     "name": "stdout",
     "output_type": "stream",
     "text": [
      "The Man\n",
      "The Man\n"
     ]
    }
   ],
   "source": [
    "# Retrieve value from a dictionary inside a dictionary\n",
    "print(lover_album.get('tracks')[4])\n",
    "# or\n",
    "print(lover_album['tracks'][4])"
   ]
  },
  {
   "cell_type": "code",
   "execution_count": 11,
   "metadata": {},
   "outputs": [
    {
     "name": "stdout",
     "output_type": "stream",
     "text": [
      "{'title': 'Lover', 'artist': 'Taylor Swift', 'year': 2019, 'genre': ['Pop', 'Synth-pop'], 'tracks': {1: 'I Forgot That You Existed', 2: 'Cruel Summer', 3: 'Lover', 4: 'The Man', 5: 'The Archer', 6: 'I Think He Knows', 7: 'Miss Americana & The Heartbreak Prince', 8: 'Paper Rings', 9: 'Cornelia Street', 10: 'Death By A Thousand Cuts', 11: 'London Boy', 12: \"Soon You'll Get Better (feat. Dixie Chicks)\", 13: 'False God', 14: 'You Need To Calm Down', 15: 'Afterglow', 16: 'Me! (feat. Brendon Urie of Panic! At The Disco)', 17: \"It's Nice To Have A Friend\", 18: 'Daylight'}, 'producer': {'Jack Antonoff', 'Frank Dukes', 'Taylor Swift', 'Louis Bell', 'Joel Little'}}\n"
     ]
    }
   ],
   "source": [
    "# adding a value with a new key\n",
    "lover_album[\"producer\"] = set(['Taylor Swift', 'Jack Antonoff', 'Joel Little', 'Taylor Swift', 'Louis Bell', 'Frank Dukes'])\n",
    "\n",
    "# What can you change to make sure there are no duplicate producers?\n",
    "# use .set\n",
    "\n",
    "\n",
    "# Printing the dictionary\n",
    "print(lover_album)"
   ]
  },
  {
   "cell_type": "code",
   "execution_count": 12,
   "metadata": {},
   "outputs": [
    {
     "name": "stdout",
     "output_type": "stream",
     "text": [
      "{'title': 'Lover', 'artist': 'Taylor Swift', 'year': 2019, 'genre': ['Pop', 'Synth-pop'], 'tracks': {1: 'I Forgot That You Existed', 2: 'Cruel Summer', 3: 'Lover', 4: 'The Man', 5: 'The Archer', 6: 'I Think He Knows', 7: 'Miss Americana & The Heartbreak Prince', 8: 'Paper Rings', 9: 'Cornelia Street', 10: 'Death By A Thousand Cuts', 11: 'London Boy', 12: \"Soon You'll Get Better (feat. Dixie Chicks)\", 13: 'False God', 14: 'You Need To Calm Down', 15: 'Afterglow', 16: 'Me! (feat. Brendon Urie of Panic! At The Disco)', 17: \"It's Nice To Have A Friend\", 18: 'Daylight', 19: 'All Of The Girls You Loved Before'}, 'producer': {'Jack Antonoff', 'Frank Dukes', 'Taylor Swift', 'Louis Bell', 'Joel Little'}}\n"
     ]
    }
   ],
   "source": [
    "# Adding a an key-value pair to an existing key \n",
    "lover_album[\"tracks\"].update({19: \"All Of The Girls You Loved Before\"})\n",
    "\n",
    "# How would add an additional genre to the dictionary, like electropop? \n",
    "#  lover_album['genre'].append(\"Electropop\")\n",
    "\n",
    "# Printing the dictionary\n",
    "print(lover_album)"
   ]
  },
  {
   "cell_type": "code",
   "execution_count": 36,
   "metadata": {},
   "outputs": [
    {
     "name": "stdout",
     "output_type": "stream",
     "text": [
      "title: Lover\n",
      "artist: Taylor Swift\n",
      "year: 2019\n",
      "genre: ['Pop', 'Synth-pop']\n",
      "tracks: {1: 'I Forgot That You Existed', 2: 'Cruel Summer', 3: 'Lover', 4: 'The Man', 5: 'The Archer', 6: 'I Think He Knows', 7: 'Miss Americana & The Heartbreak Prince', 8: 'Paper Rings', 9: 'Cornelia Street', 10: 'Death By A Thousand Cuts', 11: 'London Boy', 12: \"Soon You'll Get Better (feat. Dixie Chicks)\", 13: 'False God', 14: 'You Need To Calm Down', 15: 'Afterglow', 16: 'Me! (feat. Brendon Urie of Panic! At The Disco)', 17: \"It's Nice To Have A Friend\", 18: 'Daylight', 19: 'All Of The Girls You Loved Before'}\n",
      "producer: {'Jack Antonoff', 'Frank Dukes', 'Taylor Swift', 'Louis Bell', 'Joel Little'}\n",
      "\n",
      "ID | TRACKS\n",
      "1: I Forgot That You Existed\n",
      "2: Cruel Summer\n",
      "3: Lover\n",
      "4: The Man\n",
      "5: The Archer\n",
      "6: I Think He Knows\n",
      "7: Miss Americana & The Heartbreak Prince\n",
      "8: Paper Rings\n",
      "9: Cornelia Street\n",
      "10: Death By A Thousand Cuts\n",
      "11: London Boy\n",
      "12: Soon You'll Get Better (feat. Dixie Chicks)\n",
      "13: False God\n",
      "14: You Need To Calm Down\n",
      "15: Afterglow\n",
      "16: Me! (feat. Brendon Urie of Panic! At The Disco)\n",
      "17: It's Nice To Have A Friend\n",
      "18: Daylight\n",
      "19: All Of The Girls You Loved Before\n"
     ]
    }
   ],
   "source": [
    "# Print lover_album in more readable format\n",
    "for k,v in lover_album.items(): # iterate using a for loop for key and value\n",
    "    print(str(k) + \": \" + str(v))\n",
    "print(\"\")\n",
    "# Write your own code to print tracks in readable format\n",
    "tracks = lover_album[\"tracks\"]\n",
    "print(\"ID | TRACKS\")\n",
    "for k, v in tracks.items():\n",
    "    print(str(k) + \": \" + str(v))\n"
   ]
  },
  {
   "cell_type": "code",
   "execution_count": 31,
   "metadata": {},
   "outputs": [
    {
     "name": "stdout",
     "output_type": "stream",
     "text": [
      "cars  is an invalid input, try again!\n",
      "movies  is an invalid input, try again!\n",
      "{1: 'I Forgot That You Existed', 2: 'Cruel Summer', 3: 'Lover', 4: 'The Man', 5: 'The Archer', 6: 'I Think He Knows', 7: 'Miss Americana & The Heartbreak Prince', 8: 'Paper Rings', 9: 'Cornelia Street', 10: 'Death By A Thousand Cuts', 11: 'London Boy', 12: \"Soon You'll Get Better (feat. Dixie Chicks)\", 13: 'False God', 14: 'You Need To Calm Down', 15: 'Afterglow', 16: 'Me! (feat. Brendon Urie of Panic! At The Disco)', 17: \"It's Nice To Have A Friend\", 18: 'Daylight', 19: 'All Of The Girls You Loved Before'}\n"
     ]
    }
   ],
   "source": [
    "\n",
    "# This is a very basic code segment, how can you improve upon this code?\n",
    "#\n",
    "#\n",
    "def search1():\n",
    "    search = input(\"What would you like to know about the album?\")\n",
    "    if lover_album.get(search.lower()) == None:\n",
    "        print(search, \" is an invalid input, try again!\")\n",
    "        search1()      \n",
    "    else:\n",
    "        print(lover_album.get(search.lower()))\n",
    "        \n",
    "search1()\n"
   ]
  },
  {
   "attachments": {},
   "cell_type": "markdown",
   "metadata": {},
   "source": [
    "## Hacks\n",
    "\n",
    "### Answer *ALL* questions in the code segments\n",
    "> Done\n",
    "\n",
    "### Create a venn diagram or other compare and contrast tool related to hashmaps.\n",
    "![Example of Matrix Multiplication](images/venn.png)\n",
    "\n",
    "### Expand upon the code given to you, possible improvements in comments\n",
    "> Done"
   ]
  },
  {
   "attachments": {},
   "cell_type": "markdown",
   "metadata": {},
   "source": [
    "### Build your own album showing features of a python dictionary"
   ]
  },
  {
   "cell_type": "code",
   "execution_count": 38,
   "metadata": {},
   "outputs": [
    {
     "name": "stdout",
     "output_type": "stream",
     "text": [
      "{'genre': 'R&B', 'year': 2022, 'artist': 'The Weeknd', 'title': 'Dawn FM', 'tracks': [{'title': 'Here We Go Again (Intro)', 'length': '1:48'}, {'title': 'The Dawn', 'length': '5:11'}, {'title': 'Gasoline', 'length': '3:32'}, {'title': 'Lose You Again', 'length': '4:41'}, {'title': 'So Much Better', 'length': '4:10'}, {'title': 'One Right Now', 'length': '3:43'}, {'title': 'Survive The Night', 'length': '4:04'}, {'title': 'Out Of Time', 'length': '3:50'}, {'title': 'Bleed Out', 'length': '4:08'}, {'title': \"Don't Break My Heart\", 'length': '3:21'}, {'title': \"I Heard You're Married\", 'length': '3:34'}, {'title': 'Take My Breath', 'length': '3:40'}, {'title': 'Here We Go Again (Interlude)', 'length': '1:32'}, {'title': 'Here We Go Again', 'length': '4:27'}, {'title': 'Sacrifice', 'length': '3:07'}, {'title': 'Do You Really Love Me', 'length': '3:16'}], 'producer': 'The Weeknd, Max Martin, Metro Boomin, and others', 'label': 'Republic Records, XO', 'singles': ['Take My Breath', 'Here We Go Again', 'Sacrifice'], 'awards': {'Juno Awards': 4, 'MTV Music Awards': 1, \"People's Choice Awards\": 2}, 'length': '55:52'}\n"
     ]
    }
   ],
   "source": [
    "dawn_fm = {\n",
    "    \"genre\": \"R&B\",\n",
    "    \"year\": 2022,\n",
    "    \"artist\": \"The Weeknd\",\n",
    "    \"title\": \"Dawn FM\",\n",
    "    \"tracks\": [\n",
    "        {\n",
    "            \"title\": \"Here We Go Again (Intro)\",\n",
    "            \"length\": \"1:48\"\n",
    "        },\n",
    "        {\n",
    "            \"title\": \"The Dawn\",\n",
    "            \"length\": \"5:11\"\n",
    "        },\n",
    "        {\n",
    "            \"title\": \"Gasoline\",\n",
    "            \"length\": \"3:32\"\n",
    "        },\n",
    "        {\n",
    "            \"title\": \"Lose You Again\",\n",
    "            \"length\": \"4:41\"\n",
    "        },\n",
    "        {\n",
    "            \"title\": \"So Much Better\",\n",
    "            \"length\": \"4:10\"\n",
    "        },\n",
    "        {\n",
    "            \"title\": \"One Right Now\",\n",
    "            \"length\": \"3:43\"\n",
    "        },\n",
    "        {\n",
    "            \"title\": \"Survive The Night\",\n",
    "            \"length\": \"4:04\"\n",
    "        },\n",
    "        {\n",
    "            \"title\": \"Out Of Time\",\n",
    "            \"length\": \"3:50\"\n",
    "        },\n",
    "        {\n",
    "            \"title\": \"Bleed Out\",\n",
    "            \"length\": \"4:08\"\n",
    "        },\n",
    "        {\n",
    "            \"title\": \"Don't Break My Heart\",\n",
    "            \"length\": \"3:21\"\n",
    "        },\n",
    "        {\n",
    "            \"title\": \"I Heard You're Married\",\n",
    "            \"length\": \"3:34\"\n",
    "        },\n",
    "        {\n",
    "            \"title\": \"Take My Breath\",\n",
    "            \"length\": \"3:40\"\n",
    "        },\n",
    "        {\n",
    "            \"title\": \"Here We Go Again (Interlude)\",\n",
    "            \"length\": \"1:32\"\n",
    "        },\n",
    "        {\n",
    "            \"title\": \"Here We Go Again\",\n",
    "            \"length\": \"4:27\"\n",
    "        },\n",
    "        {\n",
    "            \"title\": \"Sacrifice\",\n",
    "            \"length\": \"3:07\"\n",
    "        },\n",
    "        {\n",
    "            \"title\": \"Do You Really Love Me\",\n",
    "            \"length\": \"3:16\"\n",
    "        }\n",
    "    ],\n",
    "    \"producer\": \"The Weeknd, Max Martin, Metro Boomin, and others\",\n",
    "    \"label\": \"Republic Records, XO\",\n",
    "    \"singles\": [\"Take My Breath\", \"Here We Go Again\", \"Sacrifice\"],\n",
    "    \"awards\": {\n",
    "        \"Juno Awards\": 4,\n",
    "        \"MTV Music Awards\": 1,\n",
    "        \"People's Choice Awards\": 2\n",
    "    },\n",
    "    \"length\": \"55:52\"\n",
    "}\n",
    "\n",
    "print(dawn_fm)"
   ]
  },
  {
   "cell_type": "code",
   "execution_count": 39,
   "metadata": {},
   "outputs": [
    {
     "name": "stdout",
     "output_type": "stream",
     "text": [
      "genre: R&B\n",
      "year: 2022\n",
      "artist: The Weeknd\n",
      "title: Dawn FM\n",
      "tracks: [{'title': 'Here We Go Again (Intro)', 'length': '1:48'}, {'title': 'The Dawn', 'length': '5:11'}, {'title': 'Gasoline', 'length': '3:32'}, {'title': 'Lose You Again', 'length': '4:41'}, {'title': 'So Much Better', 'length': '4:10'}, {'title': 'One Right Now', 'length': '3:43'}, {'title': 'Survive The Night', 'length': '4:04'}, {'title': 'Out Of Time', 'length': '3:50'}, {'title': 'Bleed Out', 'length': '4:08'}, {'title': \"Don't Break My Heart\", 'length': '3:21'}, {'title': \"I Heard You're Married\", 'length': '3:34'}, {'title': 'Take My Breath', 'length': '3:40'}, {'title': 'Here We Go Again (Interlude)', 'length': '1:32'}, {'title': 'Here We Go Again', 'length': '4:27'}, {'title': 'Sacrifice', 'length': '3:07'}, {'title': 'Do You Really Love Me', 'length': '3:16'}]\n",
      "producer: The Weeknd, Max Martin, Metro Boomin, and others\n",
      "label: Republic Records, XO\n",
      "singles: ['Take My Breath', 'Here We Go Again', 'Sacrifice']\n",
      "awards: {'Juno Awards': 4, 'MTV Music Awards': 1, \"People's Choice Awards\": 2}\n",
      "length: 55:52\n",
      "\n",
      "TRACK  |  LENGTH\n",
      "The Dawn : 5:11\n",
      "Gasoline : 3:32\n",
      "Lose You Again : 4:41\n",
      "So Much Better : 4:10\n",
      "One Right Now : 3:43\n",
      "Survive The Night : 4:04\n",
      "Out Of Time : 3:50\n",
      "Bleed Out : 4:08\n",
      "Don't Break My Heart : 3:21\n",
      "I Heard You're Married : 3:34\n",
      "Take My Breath : 3:40\n",
      "Here We Go Again (Interlude) : 1:32\n",
      "Here We Go Again : 4:27\n",
      "Sacrifice : 3:07\n",
      "Do You Really Love Me : 3:16\n"
     ]
    },
    {
     "ename": "IndexError",
     "evalue": "list index out of range",
     "output_type": "error",
     "traceback": [
      "\u001b[0;31m---------------------------------------------------------------------------\u001b[0m",
      "\u001b[0;31mIndexError\u001b[0m                                Traceback (most recent call last)",
      "\u001b[1;32m/home/tanisha1234/vscode/test-fastpage-tp/_notebooks/2023-03-29-DS-hashmaps.ipynb Cell 16\u001b[0m in \u001b[0;36m<cell line: 9>\u001b[0;34m()\u001b[0m\n\u001b[1;32m      <a href='vscode-notebook-cell://wsl%2Bubuntu-20.04/home/tanisha1234/vscode/test-fastpage-tp/_notebooks/2023-03-29-DS-hashmaps.ipynb#X24sdnNjb2RlLXJlbW90ZQ%3D%3D?line=7'>8</a>\u001b[0m \u001b[39mprint\u001b[39m(\u001b[39m\"\u001b[39m\u001b[39mTRACK  |  LENGTH\u001b[39m\u001b[39m\"\u001b[39m)\n\u001b[1;32m      <a href='vscode-notebook-cell://wsl%2Bubuntu-20.04/home/tanisha1234/vscode/test-fastpage-tp/_notebooks/2023-03-29-DS-hashmaps.ipynb#X24sdnNjb2RlLXJlbW90ZQ%3D%3D?line=8'>9</a>\u001b[0m \u001b[39mwhile\u001b[39;00m count \u001b[39m<\u001b[39m\u001b[39m=\u001b[39m \u001b[39m16\u001b[39m:   \n\u001b[0;32m---> <a href='vscode-notebook-cell://wsl%2Bubuntu-20.04/home/tanisha1234/vscode/test-fastpage-tp/_notebooks/2023-03-29-DS-hashmaps.ipynb#X24sdnNjb2RlLXJlbW90ZQ%3D%3D?line=9'>10</a>\u001b[0m     \u001b[39mprint\u001b[39m(dawn_fm[\u001b[39m'\u001b[39;49m\u001b[39mtracks\u001b[39;49m\u001b[39m'\u001b[39;49m][count][\u001b[39m'\u001b[39m\u001b[39mtitle\u001b[39m\u001b[39m'\u001b[39m], \u001b[39m'\u001b[39m\u001b[39m:\u001b[39m\u001b[39m'\u001b[39m, dawn_fm[\u001b[39m'\u001b[39m\u001b[39mtracks\u001b[39m\u001b[39m'\u001b[39m][count][\u001b[39m'\u001b[39m\u001b[39mlength\u001b[39m\u001b[39m'\u001b[39m])\n\u001b[1;32m     <a href='vscode-notebook-cell://wsl%2Bubuntu-20.04/home/tanisha1234/vscode/test-fastpage-tp/_notebooks/2023-03-29-DS-hashmaps.ipynb#X24sdnNjb2RlLXJlbW90ZQ%3D%3D?line=10'>11</a>\u001b[0m     count \u001b[39m+\u001b[39m\u001b[39m=\u001b[39m \u001b[39m1\u001b[39m\n",
      "\u001b[0;31mIndexError\u001b[0m: list index out of range"
     ]
    }
   ],
   "source": [
    "# Print lover_album in more readable format\n",
    "for k,v in dawn_fm.items(): # iterate using a for loop for key and value\n",
    "    print(str(k) + \": \" + str(v))\n",
    "print(\"\")\n",
    "# Write your own code to print tracks in readable format\n",
    "\n",
    "count = 1\n",
    "print(\"TRACK  |  LENGTH\")\n",
    "while count <= 16:   \n",
    "    print(dawn_fm['tracks'][count]['title'], ':', dawn_fm['tracks'][count]['length'])\n",
    "    count += 1\n"
   ]
  },
  {
   "cell_type": "code",
   "execution_count": 37,
   "metadata": {},
   "outputs": [
    {
     "name": "stdout",
     "output_type": "stream",
     "text": [
      "shows  is an invalid input, try again!\n",
      "tours  is an invalid input, try again!\n",
      "merch  is an invalid input, try again!\n",
      "genre : R&B\n"
     ]
    }
   ],
   "source": [
    "def dawnsearch():\n",
    "    search = input(\"What would you like to know about the album?\")\n",
    "    if dawn_fm.get(search.lower()) == None:\n",
    "        print(search, \" is an invalid input, try again!\")\n",
    "        dawnsearch()      \n",
    "    else:\n",
    "        print(search, \":\" , dawn_fm.get(search.lower()))\n",
    "        \n",
    "dawnsearch()\n"
   ]
  },
  {
   "attachments": {},
   "cell_type": "markdown",
   "metadata": {},
   "source": [
    "### For Mr. Yeung's class: Justify your favorite Taylor Swift song, answer may effect seed\n",
    "\n",
    "While Taylor Swift has many noteworthy songs, \"Don't Blame Me\" is definitely my favorite for a few reasons. \n",
    "\"Don't Blame Me\" exhibits Taylor's powerful vocals and her incredible range. Her vocal ability in this song was cleverly used to show a range of emotion that can be otherwise difficult to express. Taylor's genius lyrics such as \"My name is whatever you decide, and I'm just gonna call you mine\" showcases her ability to express the song's message of all-consuming love in a masterful way. Additionally, the melody is almost haunting, with heavy bass and precussion, which helps to create a dramatic atmosphere which suits the song's message perfectly. The song's multiple aspects allow \"Don't Blame Me\" to be a song perfect for any occasion. It's heavy precussion allow for it to be the perfect workout song, while the passionate lyrics also make it an emotional piece. Overall, I believe 'Don't Blame Me' is the best Taylor Swift Song. "
   ]
  }
 ],
 "metadata": {
  "kernelspec": {
   "display_name": "base",
   "language": "python",
   "name": "python3"
  },
  "language_info": {
   "codemirror_mode": {
    "name": "ipython",
    "version": 3
   },
   "file_extension": ".py",
   "mimetype": "text/x-python",
   "name": "python",
   "nbconvert_exporter": "python",
   "pygments_lexer": "ipython3",
   "version": "3.9.12"
  },
  "orig_nbformat": 4
 },
 "nbformat": 4,
 "nbformat_minor": 2
}
