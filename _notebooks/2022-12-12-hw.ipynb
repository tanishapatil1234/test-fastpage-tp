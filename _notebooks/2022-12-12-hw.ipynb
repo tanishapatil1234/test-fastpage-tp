{
 "cells": [
  {
   "attachments": {},
   "cell_type": "markdown",
   "metadata": {},
   "source": [
    "# Unit 3 Lesson 16, Student Copy\n",
    "- toc: true\n",
    "- comments: true\n"
   ]
  },
  {
   "attachments": {},
   "cell_type": "markdown",
   "metadata": {},
   "source": [
    "### Hack #1 - Class Notes\n",
    "- Simulations are abstractions that mimic more complex objects or phenomena from the real world \n",
    "- Purpose: to draw inferences about things we cant obsevre\n",
    "- Variability and randomness in the world can be the reason behind bias in simulations \n",
    "- Ex: rolling dice, chemical reactions, molecular models, etc"
   ]
  },
  {
   "cell_type": "code",
   "execution_count": 1,
   "metadata": {},
   "outputs": [
    {
     "data": {
      "text/plain": [
       "86"
      ]
     },
     "execution_count": 1,
     "metadata": {},
     "output_type": "execute_result"
    }
   ],
   "source": [
    "import random\n",
    "n = int(input(\"What is the range?\"))\n",
    "random.randint(0,n)"
   ]
  },
  {
   "cell_type": "code",
   "execution_count": 26,
   "metadata": {},
   "outputs": [
    {
     "name": "stdout",
     "output_type": "stream",
     "text": [
      "['green pants', 'tie', 'belt']\n"
     ]
    }
   ],
   "source": [
    "def mycloset():\n",
    "    myclothes = ['red shoes', 'green pants', 'tie', 'belt']\n",
    "    x = random.choice(myclothes)\n",
    "    myclothes.remove(x)\n",
    "    print(myclothes)\n",
    "\n",
    "mycloset()"
   ]
  },
  {
   "attachments": {},
   "cell_type": "markdown",
   "metadata": {},
   "source": [
    "### Hack #2 - Functions Classwork"
   ]
  },
  {
   "cell_type": "code",
   "execution_count": 2,
   "metadata": {},
   "outputs": [
    {
     "name": "stdout",
     "output_type": "stream",
     "text": [
      "Tails\n",
      "Heads\n",
      "Tails\n",
      " \n",
      " \n",
      "Tails\n",
      "Heads\n",
      "Heads\n"
     ]
    }
   ],
   "source": [
    "# insert your work with randomization/ functions and the mycloset code here # Hint: Use the functions we talked about in the beginning!\n",
    "import random\n",
    "\n",
    "def coinflip():         #def function \n",
    "    randomflip = random.randint(0, 2) #picks either 0 or 1 randomly (50/50 chance of either) \n",
    "    if randomflip == 0: #assigning 0 to be heads--> if 0 is chosen then it will print, \"Heads\"\n",
    "        print(\"Heads\")\n",
    "    elif randomflip == 1: #assigning 0 to be heads--> if 0 is chosen then it will print, \"Heads\"\n",
    "        print(\"Heads\")\n",
    "    else:\n",
    "        if randomflip == 2: #assigning 1 to be tails--> if 1 is chosen then it will print, \"Tails\"\n",
    "            print(\"Tails\")\n",
    "\n",
    "#Tossing the coin 5 times:\n",
    "t1 = coinflip()\n",
    "t2 = coinflip()\n",
    "t3 = coinflip()\n",
    "\n",
    "\n",
    "def coinfliplist():\n",
    "    list = ['Heads', 'Tails', 'Heads']\n",
    "    choice = random.choice(list)\n",
    "    if choice == 'Heads':\n",
    "        print('Heads')\n",
    "    else: \n",
    "        print('Tails')\n",
    "print(' ')\n",
    "print(' ')\n",
    "coinfliplist()\n",
    "coinfliplist()\n",
    "coinfliplist()"
   ]
  },
  {
   "cell_type": "markdown",
   "metadata": {},
   "source": [
    "### Hack #3 - Binary Simulation Problem"
   ]
  },
  {
   "cell_type": "code",
   "execution_count": 1,
   "metadata": {},
   "outputs": [
    {
     "name": "stdout",
     "output_type": "stream",
     "text": [
      "87\n",
      "0\n",
      "1\n",
      "0\n",
      "1\n",
      "0\n",
      "1\n",
      "1\n",
      "1\n",
      "Jiyais a survivor\n"
     ]
    }
   ],
   "source": [
    "# insert your zombie simulation here; you don't have to use this template but it will help you get started\n",
    "\n",
    "import random\n",
    "\n",
    "def randomnum(): # function for generating random int\n",
    "    y = random.randint(0,255)\n",
    "    print(y)\n",
    "    return int(y)\n",
    "\n",
    "\n",
    "\n",
    "def convert(num):\n",
    "    if num >= 1:\n",
    "        convert(num // 2) \n",
    "    binary = str(num % 2)\n",
    "    print(binary)\n",
    "    return binary \n",
    "\n",
    "    \n",
    "\n",
    "def survivors(y): # function to assign position\n",
    "    survivorstatus = [\"Jiya\", \"Shruthi\", \"Noor\", \"Ananya\" , \"Peter Parker\", \"Andrew Garfield\", \"Tom Holland\", \"Tobey Maguire\"]\n",
    "    # replace the names above with your choice of people in the house\n",
    "    list = []\n",
    "    list = [*y]\n",
    "    i = 0\n",
    "    if i <= 7:\n",
    "        if list[i] == 0:\n",
    "            print(survivorstatus[i] + \"is a zombie\")\n",
    "        else: \n",
    "           print(survivorstatus[i] + \"is a survivor\")\n",
    "        i = i + 1\n",
    "\n",
    "    \n",
    "    #for i in survivorstatus: \n",
    "      #  if (list[i] == 0):\n",
    "      #      print(survivorstatus[i] + \"is a zombie\")\n",
    "       # else: \n",
    "         #   print(survivorstatus[i] + \"is a survivor\")\n",
    "    \n",
    "\n",
    "\n",
    "\n",
    "x = randomnum()\n",
    "y = convert(x)\n",
    "survivors(y)\n",
    "\n",
    "\n"
   ]
  },
  {
   "cell_type": "code",
   "execution_count": 126,
   "metadata": {},
   "outputs": [
    {
     "name": "stdout",
     "output_type": "stream",
     "text": [
      "['H', 'e', 'l', 'l', 'o']\n"
     ]
    }
   ],
   "source": [
    "word = \"Hello\"\n",
    "list = []\n",
    "list = [*word]\n",
    "print(list)"
   ]
  },
  {
   "cell_type": "markdown",
   "metadata": {},
   "source": [
    "### Hack #4 - Thinking through a problem\n",
    "- create your own simulation involving a dice roll\n",
    "- should include randomization and a function for rolling + multiple trials"
   ]
  },
  {
   "attachments": {},
   "cell_type": "markdown",
   "metadata": {},
   "source": [
    "### Hack 5 - Applying your knowledge to situation based problems\n",
    "\n",
    "Using the questions bank below, create a quiz that presents the user a random question and calculates the user's score. You can use the template below or make your own. Making your own using a loop can give you extra points. "
   ]
  },
  {
   "attachments": {},
   "cell_type": "markdown",
   "metadata": {},
   "source": [
    "1. A researcher gathers data about the effect of Advanced Placement®︎ classes on students' success in college and career, and develops a simulation to show how a sequence of AP classes affect a hypothetical student's pathway.Several school administrators are concerned that the simulation contains bias favoring high-income students, however.\n",
    "    - answer options:\n",
    "        1. The simulation is an abstraction and therefore cannot contain any bias\n",
    "        2. The simulation may accidentally contain bias due to the exclusion of details.\n",
    "        3. If the simulation is found to contain bias, then it is not possible to remove the bias from the simulation.\n",
    "        4. The only way for the simulation to be biased is if the researcher intentionally used data that favored their desired output.\n",
    "2. Jack is trying to plan his financial future using an online tool. The tool starts off by asking him to input details about his current finances and career. It then lets him choose different future scenarios, such as having children. For each scenario chosen, the tool does some calculations and outputs his projected savings at the ages of 35, 45, and 55.Would that be considered a simulation and why?\n",
    "    - answer options\n",
    "        1. No, it's not a simulation because it does not include a visualization of the results.\n",
    "        2. No, it's not a simulation because it does not include all the details of his life history and the future financial environment.\n",
    "        3. Yes, it's a simulation because it runs on a computer and includes both user input and computed output.\n",
    "        4. Yes, it's a simulation because it is an abstraction of a real world scenario that enables the drawing of inferences.\n",
    "3. Sylvia is an industrial engineer working for a sporting goods company. She is developing a baseball bat that can hit balls with higher accuracy and asks their software engineering team to develop a simulation to verify the design.Which of the following details is most important to include in this simulation?\n",
    "    - answer options\n",
    "        1. Realistic sound effects based on the material of the baseball bat and the velocity of the hit\n",
    "        2. A depiction of an audience in the stands with lifelike behavior in response to hit accuracy\n",
    "        3. Accurate accounting for the effects of wind conditions on the movement of the ball\n",
    "        4. A baseball field that is textured to differentiate between the grass and the dirt\n",
    "4. Ashlynn is an industrial engineer who is trying to design a safer parachute. She creates a computer simulation of the parachute opening at different heights and in different environmental conditions.What are advantages of running the simulation versus an actual experiment?\n",
    "    - answer options\n",
    "        1. The simulation will not contain any bias that favors one body type over another, while an experiment will be biased.\n",
    "        2. The simulation can be run more safely than an actual experiment\n",
    "        3. The simulation will accurately predict the parachute's safety level, while an experiment may be inaccurate due to faulty experimental design.\n",
    "        4. The simulation can test the parachute design in a wide range of environmental conditions that may be difficult to reliably reproduce in an experiment.\n",
    "    * this question has 2 correct answers\n",
    "5. YOUR OWN QUESTION; can be situational, pseudo code based, or vocab/concept based\n",
    "6. YOUR OWN QUESTION; can be situational, pseudo code based, or vocab/concept based"
   ]
  },
  {
   "cell_type": "code",
   "execution_count": null,
   "metadata": {},
   "outputs": [],
   "source": [
    "questions = 6\n",
    "correct = 0\n",
    "\n",
    "\n",
    "Q1 = input()\n",
    "if Q1 == :\n",
    "    \n",
    "\n",
    "Q2 = input()\n",
    "if Q2 == :\n",
    "   \n",
    "Q3 = input()\n",
    "if Q3 == :\n",
    "   \n",
    "\n",
    "Q4 = input()\n",
    "\n",
    "\n",
    "\n",
    "\n",
    "print( \" you scored \" + str(correct) +\"/\" + str(questions))"
   ]
  },
  {
   "attachments": {},
   "cell_type": "markdown",
   "metadata": {},
   "source": [
    "### Hack #6 / Challenge - Taking real life problems and implementing them into code"
   ]
  },
  {
   "attachments": {},
   "cell_type": "markdown",
   "metadata": {},
   "source": [
    "Create your own simulation based on your experiences/knowledge!\n",
    "Be creative! Think about instances in your own life, science, puzzles that can be made into simulations\n",
    "\n",
    "Some ideas to get your brain running: A simulation that breeds two plants and tells you phenotypes of offspring, an adventure simulation..."
   ]
  }
 ],
 "metadata": {
  "kernelspec": {
   "display_name": "Python 3",
   "language": "python",
   "name": "python3"
  },
  "language_info": {
   "codemirror_mode": {
    "name": "ipython",
    "version": 3
   },
   "file_extension": ".py",
   "mimetype": "text/x-python",
   "name": "python",
   "nbconvert_exporter": "python",
   "pygments_lexer": "ipython3",
   "version": "3.8.10"
  },
  "orig_nbformat": 4,
  "vscode": {
   "interpreter": {
    "hash": "916dbcbb3f70747c44a77c7bcd40155683ae19c65e1c03b4aa3499c5328201f1"
   }
  }
 },
 "nbformat": 4,
 "nbformat_minor": 2
}
