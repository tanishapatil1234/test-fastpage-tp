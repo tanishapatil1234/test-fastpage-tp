{
 "cells": [
  {
   "attachments": {},
   "cell_type": "markdown",
   "metadata": {},
   "source": [
    "# Unit 3 Lesson 16, Student Copy\n",
    "- toc: true\n",
    "- comments: true\n"
   ]
  },
  {
   "attachments": {},
   "cell_type": "markdown",
   "metadata": {},
   "source": [
    "### Hack #1 - Class Notes\n",
    "- Simulations are abstractions that mimic more complex objects or phenomena from the real world \n",
    "- Purpose: to draw inferences about things we cant obsevre\n",
    "- Variability and randomness in the world can be the reason behind bias in simulations \n",
    "- Ex: rolling dice, chemical reactions, molecular models, etc"
   ]
  },
  {
   "cell_type": "code",
   "execution_count": 1,
   "metadata": {},
   "outputs": [
    {
     "data": {
      "text/plain": [
       "86"
      ]
     },
     "execution_count": 1,
     "metadata": {},
     "output_type": "execute_result"
    }
   ],
   "source": [
    "import random\n",
    "n = int(input(\"What is the range?\"))\n",
    "random.randint(0,n)"
   ]
  },
  {
   "cell_type": "code",
   "execution_count": 26,
   "metadata": {},
   "outputs": [
    {
     "name": "stdout",
     "output_type": "stream",
     "text": [
      "['green pants', 'tie', 'belt']\n"
     ]
    }
   ],
   "source": [
    "def mycloset():\n",
    "    myclothes = ['red shoes', 'green pants', 'tie', 'belt']\n",
    "    x = random.choice(myclothes)\n",
    "    myclothes.remove(x)\n",
    "    print(myclothes)\n",
    "\n",
    "mycloset()"
   ]
  },
  {
   "attachments": {},
   "cell_type": "markdown",
   "metadata": {},
   "source": [
    "### Hack #2 - Functions Classwork"
   ]
  },
  {
   "cell_type": "code",
   "execution_count": 2,
   "metadata": {},
   "outputs": [
    {
     "name": "stdout",
     "output_type": "stream",
     "text": [
      "Tails\n",
      "Heads\n",
      "Tails\n",
      " \n",
      " \n",
      "Tails\n",
      "Heads\n",
      "Heads\n"
     ]
    }
   ],
   "source": [
    "# insert your work with randomization/ functions and the mycloset code here # Hint: Use the functions we talked about in the beginning!\n",
    "import random\n",
    "\n",
    "def coinflip():         #def function \n",
    "    randomflip = random.randint(0, 2) #picks either 0 or 1 randomly (50/50 chance of either) \n",
    "    if randomflip == 0: #assigning 0 to be heads--> if 0 is chosen then it will print, \"Heads\"\n",
    "        print(\"Heads\")\n",
    "    elif randomflip == 1: #assigning 0 to be heads--> if 0 is chosen then it will print, \"Heads\"\n",
    "        print(\"Heads\")\n",
    "    else:\n",
    "        if randomflip == 2: #assigning 1 to be tails--> if 1 is chosen then it will print, \"Tails\"\n",
    "            print(\"Tails\")\n",
    "\n",
    "#Tossing the coin 5 times:\n",
    "t1 = coinflip()\n",
    "t2 = coinflip()\n",
    "t3 = coinflip()\n",
    "\n",
    "\n",
    "def coinfliplist():\n",
    "    list = ['Heads', 'Tails', 'Heads']\n",
    "    choice = random.choice(list)\n",
    "    if choice == 'Heads':\n",
    "        print('Heads')\n",
    "    else: \n",
    "        print('Tails')\n",
    "print(' ')\n",
    "print(' ')\n",
    "coinfliplist()\n",
    "coinfliplist()\n",
    "coinfliplist()"
   ]
  },
  {
   "cell_type": "markdown",
   "metadata": {},
   "source": [
    "### Hack #3 - Binary Simulation Problem"
   ]
  },
  {
   "cell_type": "code",
   "execution_count": 22,
   "metadata": {},
   "outputs": [
    {
     "name": "stdout",
     "output_type": "stream",
     "text": [
      "245\n",
      "{'Jiya': '0', 'Shruthi': '1', 'Noor': '1', 'Ananya': '1'}\n"
     ]
    }
   ],
   "source": [
    "# insert your zombie simulation here; you don't have to use this template but it will help you get started\n",
    "\n",
    "import random\n",
    "\n",
    "def randomnum(): # function for generating random int\n",
    "    y = random.randint(0,255)\n",
    "    print(y)\n",
    "    return int(y)\n",
    "\n",
    "\n",
    "\n",
    "def convert(num):\n",
    "    return bin(num).replace(\"0b\", \"\")\n",
    "\n",
    "    \n",
    "\n",
    "def survivors(y): # function to assign position\n",
    "    survivorstatus = [\"Jiya\", \"Shruthi\", \"Noor\", \"Ananya\" , \"Peter Parker\", \"Andrew Garfield\", \"Tom Holland\", \"Tobey Maguire\"]\n",
    "    # replace the names above with your choice of people in the house\n",
    "    list = []\n",
    "    list = [*y]\n",
    "    dict = {}\n",
    "    for key in survivorstatus:\n",
    "        for value in list:\n",
    "            dict[key] = value\n",
    "            list.remove(value)\n",
    "    print(dict)\n",
    "      #  if (list[i] == 0):\n",
    "      #      print(survivorstatus[i] + \"is a zombie\")\n",
    "       # else: \n",
    "         #   print(survivorstatus[i] + \"is a survivor\")\n",
    "    \n",
    "\n",
    "\n",
    "\n",
    "x = randomnum()\n",
    "y = convert(x)\n",
    "survivors(y)\n",
    "\n",
    "\n"
   ]
  },
  {
   "cell_type": "code",
   "execution_count": 126,
   "metadata": {},
   "outputs": [
    {
     "name": "stdout",
     "output_type": "stream",
     "text": [
      "['H', 'e', 'l', 'l', 'o']\n"
     ]
    }
   ],
   "source": [
    "word = \"Hello\"\n",
    "list = []\n",
    "list = [*word]\n",
    "print(list)"
   ]
  },
  {
   "cell_type": "markdown",
   "metadata": {},
   "source": [
    "### Hack #4 - Thinking through a problem\n",
    "- create your own simulation involving a dice roll\n",
    "- should include randomization and a function for rolling + multiple trials"
   ]
  },
  {
   "cell_type": "code",
   "execution_count": 55,
   "metadata": {},
   "outputs": [
    {
     "name": "stdout",
     "output_type": "stream",
     "text": [
      "You rolled: 6  and  6\n",
      "You got two in a row, you get one point\n"
     ]
    }
   ],
   "source": [
    "import random\n",
    "# Two in a row game\n",
    "\n",
    "def rolldice():\n",
    "    x = random.randint(1,6)\n",
    "    return(x)\n",
    "    \n",
    "\n",
    "def points():\n",
    "    points = 0\n",
    "    list = []\n",
    "    y = rolldice()\n",
    "    z = y\n",
    "    list.append(y)\n",
    "    y = rolldice()\n",
    "    print(\"You rolled:\", z, \" and \", y)\n",
    "    if z == y:\n",
    "        print(\"You got two in a row, you get one point\")\n",
    "        points = points + 1\n",
    "\n",
    "points()\n",
    "\n",
    "\n"
   ]
  },
  {
   "attachments": {},
   "cell_type": "markdown",
   "metadata": {},
   "source": [
    "### Hack 5 - Applying your knowledge to situation based problems\n",
    "\n",
    "Using the questions bank below, create a quiz that presents the user a random question and calculates the user's score. You can use the template below or make your own. Making your own using a loop can give you extra points. "
   ]
  },
  {
   "attachments": {},
   "cell_type": "markdown",
   "metadata": {},
   "source": [
    "1. A researcher gathers data about the effect of Advanced Placement®︎ classes on students' success in college and career, and develops a simulation to show how a sequence of AP classes affect a hypothetical student's pathway.Several school administrators are concerned that the simulation contains bias favoring high-income students, however.\n",
    "    - answer options:\n",
    "        1. The simulation is an abstraction and therefore cannot contain any bias\n",
    "        2. The simulation may accidentally contain bias due to the exclusion of details.\n",
    "        3. If the simulation is found to contain bias, then it is not possible to remove the bias from the simulation.\n",
    "        4. The only way for the simulation to be biased is if the researcher intentionally used data that favored their desired output.\n",
    "2. Jack is trying to plan his financial future using an online tool. The tool starts off by asking him to input details about his current finances and career. It then lets him choose different future scenarios, such as having children. For each scenario chosen, the tool does some calculations and outputs his projected savings at the ages of 35, 45, and 55.Would that be considered a simulation and why?\n",
    "    - answer options\n",
    "        1. No, it's not a simulation because it does not include a visualization of the results.\n",
    "        2. No, it's not a simulation because it does not include all the details of his life history and the future financial environment.\n",
    "        3. Yes, it's a simulation because it runs on a computer and includes both user input and computed output.\n",
    "        4. Yes, it's a simulation because it is an abstraction of a real world scenario that enables the drawing of inferences.\n",
    "3. Sylvia is an industrial engineer working for a sporting goods company. She is developing a baseball bat that can hit balls with higher accuracy and asks their software engineering team to develop a simulation to verify the design.Which of the following details is most important to include in this simulation?\n",
    "    - answer options\n",
    "        1. Realistic sound effects based on the material of the baseball bat and the velocity of the hit\n",
    "        2. A depiction of an audience in the stands with lifelike behavior in response to hit accuracy\n",
    "        3. Accurate accounting for the effects of wind conditions on the movement of the ball\n",
    "        4. A baseball field that is textured to differentiate between the grass and the dirt\n",
    "4. Ashlynn is an industrial engineer who is trying to design a safer parachute. She creates a computer simulation of the parachute opening at different heights and in different environmental conditions.What are advantages of running the simulation versus an actual experiment?\n",
    "    - answer options\n",
    "        1. The simulation will not contain any bias that favors one body type over another, while an experiment will be biased.\n",
    "        2. The simulation can be run more safely than an actual experiment\n",
    "        3. The simulation will accurately predict the parachute's safety level, while an experiment may be inaccurate due to faulty experimental design.\n",
    "        4. The simulation can test the parachute design in a wide range of environmental conditions that may be difficult to reliably reproduce in an experiment.\n",
    "    * this question has 2 correct answers\n",
    "5. YOUR OWN QUESTION; can be situational, pseudo code based, or vocab/concept based\n",
    "6. YOUR OWN QUESTION; can be situational, pseudo code based, or vocab/concept based"
   ]
  },
  {
   "cell_type": "code",
   "execution_count": 61,
   "metadata": {},
   "outputs": [
    {
     "name": "stdout",
     "output_type": "stream",
     "text": [
      "correct!\n",
      "correct!\n",
      "correct!\n",
      "correct!\n",
      "correct!\n",
      "incorrect!\n",
      "You got  5  out of  6\n",
      "That is 83.33333333333333 %\n",
      "You passed\n"
     ]
    }
   ],
   "source": [
    "questions = 6\n",
    "correct = 0\n",
    "\n",
    "\n",
    "qa = {\n",
    "    \"A researcher gathers data about the effect of Advanced Placement classes on students' success in college and career, and develops a simulation to show how a sequence of AP classes affect a hypothetical student's pathway.Several school administrators are concerned that the simulation contains bias favoring high-income students, however. a) The simulation is an abstraction and therefore cannot contain any bias b) The simulation may accidentally contain bias due to the exclusion of details c) If the simulation is found to contain bias, then it is not possible to remove the bias from the simulation d) The only way for the simulation to be biased is if the researcher intentionally used data that favored their desired output\": \"b\",\n",
    "    \"Jack is trying to plan his financial future using an online tool. The tool starts off by asking him to input details about his current finances and career. It then lets him choose different future scenarios, such as having children. For each scenario chosen, the tool does some calculations and outputs his projected savings at the ages of 35, 45, and 55.Would that be considered a simulation and why? a) No, it's not a simulation because it does not include a visualization of the results. b) No, it's not a simulation because it does not include all the details of his life history and the future financial environment c) Yes, it's a simulation because it runs on a computer and includes both user input and computed output. d) Yes, it's a simulation because it is an abstraction of a real world scenario that enables the drawing of inferences.\": \"c\",\n",
    "    \"Sylvia is an industrial engineer working for a sporting goods company. She is developing a baseball bat that can hit balls with higher accuracy and asks their software engineering team to develop a simulation to verify the design.Which of the following details is most important to include in this simulation? a) Realistic sound effects based on the material of the baseball bat and the velocity of the hit b) A depiction of an audience in the stands with lifelike behavior in response to hit accuracy c) Accurate accounting for the effects of wind conditions on the movement of the ball d) A baseball field that is textured to differentiate between the grass and the dirt\": \"c\",\n",
    "    \"Ashlynn is an industrial engineer who is trying to design a safer parachute. She creates a computer simulation of the parachute opening at different heights and in different environmental conditions.What are advantages of running the simulation versus an actual experiment? a) The simulation will not contain any bias that favors one body type over another, while an experiment will be biased b) The simulation can be run more safely than an actual experiment c) The simulation will accurately predict the parachute's safety level, while an experiment may be inaccurate due to faulty experimental design d) The simulation can't test the parachute design in a wide range of environmental conditions that may be difficult to reliably reproduce in an experiment\": \"b\",\n",
    "    \"True or False: Simulations can be biased, a) True b) False\": \"a\",\n",
    "    \"True or False: Simulations are abstractions that mimic more complex objects or phenomena from the real world, a) True b) False\": \"a\",\n",
    "}\n",
    "\n",
    "def prompt(q, a):\n",
    "    answer = input(q + ' : choose from the following answer choices')\n",
    "    if answer == a:\n",
    "        print('correct!')\n",
    "        return 1\n",
    "    else:\n",
    "        print('incorrect!')\n",
    "        return 0\n",
    "\n",
    "for i in qa:\n",
    "    y = prompt(i, qa[i])\n",
    "    correct = correct + y\n",
    "\n",
    "percent =  100* correct/questions\n",
    "\n",
    "\n",
    "\n",
    "\n",
    "print('You got ', str(correct), ' out of ', str(questions))\n",
    "print('That is' ,percent, '%')\n",
    "if percent < 50:\n",
    "    print('You failed!')\n",
    "else: \n",
    "    print('You passed')\n"
   ]
  },
  {
   "attachments": {},
   "cell_type": "markdown",
   "metadata": {},
   "source": [
    "### Hack #6 / Challenge - Taking real life problems and implementing them into code"
   ]
  },
  {
   "attachments": {},
   "cell_type": "markdown",
   "metadata": {},
   "source": [
    "Create your own simulation based on your experiences/knowledge!\n",
    "Be creative! Think about instances in your own life, science, puzzles that can be made into simulations\n",
    "\n",
    "Some ideas to get your brain running: A simulation that breeds two plants and tells you phenotypes of offspring, an adventure simulation..."
   ]
  },
  {
   "cell_type": "code",
   "execution_count": 127,
   "metadata": {},
   "outputs": [
    {
     "name": "stdout",
     "output_type": "stream",
     "text": [
      "Slot: [9, 8, 2]\n",
      "-5k\n",
      "Slot: [2, 2, 6]\n",
      "+5k\n",
      "Slot: [7, 1, 5]\n",
      "-5k\n",
      "Slot: [8, 1, 7]\n",
      "-5k\n",
      "\n",
      "Your total money: $ -10 k\n",
      "You are in debt, maybe the slot machine isnt for you\n"
     ]
    }
   ],
   "source": [
    "import random\n",
    "money = 0\n",
    "slot = [1, 2, 3, 4, 5, 6, 7, 8, 9]\n",
    "choice = []\n",
    "mlist = []\n",
    "\n",
    "def check():\n",
    "    money = 0\n",
    "    for i in range (3):\n",
    "        x = random.choice(slot)\n",
    "        choice.append(x)\n",
    "    print('Slot:' , choice)\n",
    "    if choice[0] == choice[1]:\n",
    "        money = money + 5\n",
    "        print('+5k')\n",
    "    elif choice[0] == choice[2]:\n",
    "        money = money + 5\n",
    "        print('+5k')\n",
    "    elif choice[1] == choice[2]:\n",
    "        money = money + 5\n",
    "        print('+5k')\n",
    "    else: \n",
    "        money = money - 5\n",
    "        print('-5k')\n",
    "    mlist.append(money)\n",
    "    return money \n",
    "    \n",
    "\n",
    "rep = int(input(\"How many times would you like to run the slot machine? Remember, no repeats means you pay 5k. Repeats mean you gain 5k.\"))\n",
    "total = 0\n",
    "for i in range(rep):\n",
    "    check() \n",
    "    choice.clear()\n",
    "\n",
    "\n",
    "for i in mlist: \n",
    "    total = total + i\n",
    "\n",
    "print('')\n",
    "print('Your total money: $', total, 'k')\n",
    "if total < 0:\n",
    "    print('You are in debt, maybe the slot machine isnt for you')\n",
    "elif total == 0: \n",
    "    print(\"No loss, no gain. Try your luck again?\")\n",
    "else:\n",
    "    print('Hey, way to go! Youre pretty lucky today, go and buy a lottery ticket')\n",
    "\n",
    "\n",
    "        \n"
   ]
  }
 ],
 "metadata": {
  "kernelspec": {
   "display_name": "Python 3",
   "language": "python",
   "name": "python3"
  },
  "language_info": {
   "codemirror_mode": {
    "name": "ipython",
    "version": 3
   },
   "file_extension": ".py",
   "mimetype": "text/x-python",
   "name": "python",
   "nbconvert_exporter": "python",
   "pygments_lexer": "ipython3",
   "version": "3.8.10"
  },
  "orig_nbformat": 4,
  "vscode": {
   "interpreter": {
    "hash": "916dbcbb3f70747c44a77c7bcd40155683ae19c65e1c03b4aa3499c5328201f1"
   }
  }
 },
 "nbformat": 4,
 "nbformat_minor": 2
}
