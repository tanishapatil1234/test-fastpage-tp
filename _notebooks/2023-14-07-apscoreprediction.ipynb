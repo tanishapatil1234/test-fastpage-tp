{
 "cells": [
  {
   "attachments": {},
   "cell_type": "markdown",
   "metadata": {},
   "source": [
    "# AP Score Prediction Model\n",
    "> Author: Tanisha Patil,  Score Prediction Model using Random Forest Regression Model\n",
    "- toc: true\n",
    "- categories: []\n",
    "- type: pbl\n",
    "- week: 18"
   ]
  },
  {
   "attachments": {},
   "cell_type": "markdown",
   "metadata": {},
   "source": [
    "## Introduction to Random Forest \n",
    "\n",
    "Random Forest is just another Machine Learning model. Let's break it down: \n",
    "\n",
    "Imagine you have a big decision to make, like choosing the best video game. Since the 'best' game can be arbitrary, you ask your friends for advice, but (as expected) everyone has different opinions. Some say game A is the best, while others vouch for game B. It's difficult to determine the true best game based on just a few opinions. To help with this decision, imagine if you could ask not just a few friends but hundreds. Each friend has played different games and has their own preferences. By collecting their opinions, you can get a better idea of which game is truly the best.\n",
    "\n",
    "Now, let's take this idea and apply it to something different, like predicting your performance on the CS AP test. Instead of asking friends about video games, we can use a similar concept called a random forest to make predictions based on different factors.mIn the case of an AP test score predictor, a random forest is like having a group of friends, called trees, that come together to make predictions. Each tree represents an individual friend with their own opinions/weights. Just as each friend may have their own opinions about video games, each tree considers different factors that could influence your AP test score. For example, one tree might consider variables like attendance, work habits, behavior, and your overall grade, while another tree may focus on variables like clarity of understanding, collaboration skills, leadership qualities, and integrity. Each tree independently makes its own prediction based on the specific factors it considers important.\n",
    "\n",
    "However, rather than relying on the prediction of just one tree, the random forest model combines the predictions of all the trees and takes a majority vote. Just like collecting opinions from many friends helps you make a better decision on the best video game, the random forest combines the insights of multiple trees to provide a more accurate prediction of your AP test score.\n",
    "\n",
    "By considering various factors and combining the knowledge of many trees, the random forest can help predict how well you are likely to perform on your AP test. This can provide valuable insights for Mr. Mort, Mr. Yeung, and students to identify areas of improvement that contribute to success on the test."
   ]
  },
  {
   "cell_type": "code",
   "execution_count": 15,
   "metadata": {},
   "outputs": [
    {
     "name": "stdout",
     "output_type": "stream",
     "text": [
      "Mean Squared Error: 0.15384615384615385\n"
     ]
    }
   ],
   "source": [
    "import pandas as pd\n",
    "from sklearn.ensemble import RandomForestRegressor\n",
    "from sklearn.model_selection import train_test_split\n",
    "from sklearn.metrics import mean_squared_error\n",
    "\n",
    "# Load the data into pandas DataFrame\n",
    "data = pd.read_csv('files/ap_predict_data.csv')\n",
    "\n",
    "# Convert the letter grades to numerical scores, since it is easier to deal with numerical data (instead of categorica like A, B, C, etc.)\n",
    "grade_mapping = {'A': 5, 'B': 4, 'C': 3, 'D': 2, 'F': 1}\n",
    "data['Grade'] = data['Grade'].map(grade_mapping) # python syntax map, applies one transformation to an entire array\n",
    "\n",
    "# Separate the target variable\n",
    "features = data.drop(['AP Score'], axis=1)\n",
    "target = data['AP Score']\n",
    "\n",
    "# Split into training and testing sets\n",
    "X_train, X_test, y_train, y_test = train_test_split(features, target, test_size=0.2, random_state=42)\n",
    "\n",
    "model = RandomForestRegressor(n_estimators=100, random_state=42)\n",
    "\n",
    "# Train\n",
    "model.fit(X_train, y_train)\n",
    "\n",
    "# Test\n",
    "y_pred = model.predict(X_test)\n",
    "\n",
    "# Round the predictions to the nearest integer (1 to 5) since we want an AP Score of 1, 2, 3, 4, or 5\n",
    "y_pred = y_pred.round().astype(int)\n",
    "\n",
    "# MSE Evaluation\n",
    "mse = mean_squared_error(y_test, y_pred)\n",
    "print('Mean Squared Error:', mse)"
   ]
  },
  {
   "attachments": {},
   "cell_type": "markdown",
   "metadata": {},
   "source": [
    "This Mean Squared Error is quite small. Does this mean this model is SUPER accurate? No. This is because the range of possible values for the target variable is 1-5. The Mean Squared Error indicates that the model is making reasonably accurate predictions. \n",
    "\n",
    "- Main Takeaway: MSE is relative to the range of values of the target variable. "
   ]
  },
  {
   "cell_type": "code",
   "execution_count": 20,
   "metadata": {},
   "outputs": [
    {
     "name": "stdout",
     "output_type": "stream",
     "text": [
      "Enter the following information:\n"
     ]
    },
    {
     "name": "stderr",
     "output_type": "stream",
     "text": [
      "/home/tanisha1234/anaconda3/lib/python3.9/site-packages/sklearn/base.py:493: FutureWarning: The feature names should match those that were passed during fit. Starting version 1.2, an error will be raised.\n",
      "Feature names unseen at fit time:\n",
      "- Leadership\n",
      "- Tech Rated\n",
      "Feature names seen at fit time, yet now missing:\n",
      "-  Leadership \n",
      "-  Tech Rated\n",
      "\n",
      "  warnings.warn(message, FutureWarning)\n"
     ]
    },
    {
     "name": "stdout",
     "output_type": "stream",
     "text": [
      "Total: 4\n",
      "Grade: B\n",
      "Predicted Score: 2\n"
     ]
    }
   ],
   "source": [
    "import pandas as pd\n",
    "\n",
    "def predict_score(input_data):\n",
    "    # Convert the letter grades to numerical scores using the mapping method\n",
    "    input_data['Grade'] = input_data['Grade'].map(grade_mapping) # .map is used when you want to apply a single transformation to a whole list\n",
    "    predicted_score = model.predict(input_data)\n",
    "    predicted_score = round(predicted_score[0]) #round to nearest integer\n",
    "    return predicted_score\n",
    "\n",
    "while True:\n",
    "    print(\"Enter the following information:\")\n",
    "    # This could probably be written more concisely \n",
    "    attendance = int(input(\"Attendance (0 or 1): \"))\n",
    "    work_habits = int(input(\"Work Habits (0 or 1): \"))\n",
    "    behavior = int(input(\"Behavior (0 or 1): \"))\n",
    "    timely = int(input(\"Timely (0 or 1): \"))\n",
    "    clarity = int(input(\"Clarity (0 or 1): \"))\n",
    "    qualified = int(input(\"Qualified (0 or 1): \"))\n",
    "    tech_sense = int(input(\"Tech Sense (0 or 1): \"))\n",
    "    tech_rated = int(input(\"Tech Rated (0 or 1): \"))\n",
    "    collab = int(input(\"Collab (0 or 1): \"))\n",
    "    leadership = int(input(\"Leadership (0 or 1): \"))\n",
    "    integrity = int(input(\"Integrity (0 or 1): \"))\n",
    "    #Add up total score, since total is a required factor in the model\n",
    "    total = attendance + work_habits + behavior + timely + clarity + qualified + tech_sense + tech_rated + collab + leadership + integrity\n",
    "    grade = input(\"Grade (A, B, C, D, F): \") # This will be quantified in the function predict_score \n",
    "\n",
    "    #Dictionary of user input\n",
    "    input_data = {\n",
    "        'Attendance': [attendance],\n",
    "        'Work Habits': [work_habits],\n",
    "        'Behavior': [behavior],\n",
    "        'Timely': [timely],\n",
    "        'Clarity': [clarity],\n",
    "        'Qualified': [qualified],\n",
    "        'Tech Sense': [tech_sense],\n",
    "        'Tech Rated': [tech_rated],\n",
    "        'Collab': [collab],\n",
    "        'Leadership': [leadership],\n",
    "        'Integrity': [integrity],\n",
    "        'Total': [total],\n",
    "        'Grade': [grade]\n",
    "    }\n",
    "\n",
    "    input_df = pd.DataFrame(input_data)\n",
    "\n",
    "    # Call predict_score function to apply input data to model\n",
    "    predicted_score = predict_score(input_df)\n",
    "\n",
    "    print('Total:', total)\n",
    "    print('Grade:', grade)\n",
    "    print(\"Predicted AP Score:\", predicted_score)\n",
    "\n",
    "    continue_testing = input(\"Do you want to continue testing? (y/n): \")\n",
    "    if continue_testing.lower() != 'y': # .lower avoids confusion\n",
    "        break"
   ]
  },
  {
   "attachments": {},
   "cell_type": "markdown",
   "metadata": {},
   "source": [
    "Try these (or your own combination) to test the model: \n",
    "\n",
    "1,1,1,0,0,1,1,1,1,0,0,A\n",
    "- AP Score: 3\n",
    "\n",
    "1,0,1,1,0,1,1,0,1,0,0,A\n",
    "- AP Score: 3\n",
    "\n"
   ]
  },
  {
   "attachments": {},
   "cell_type": "markdown",
   "metadata": {},
   "source": [
    "# Hacks and Further Exploration \n",
    "\n",
    "..."
   ]
  }
 ],
 "metadata": {
  "kernelspec": {
   "display_name": "base",
   "language": "python",
   "name": "python3"
  },
  "language_info": {
   "codemirror_mode": {
    "name": "ipython",
    "version": 3
   },
   "file_extension": ".py",
   "mimetype": "text/x-python",
   "name": "python",
   "nbconvert_exporter": "python",
   "pygments_lexer": "ipython3",
   "version": "3.9.12"
  },
  "orig_nbformat": 4
 },
 "nbformat": 4,
 "nbformat_minor": 2
}
