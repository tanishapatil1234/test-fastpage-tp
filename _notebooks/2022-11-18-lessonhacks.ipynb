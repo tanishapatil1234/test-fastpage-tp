{
 "cells": [
  {
   "cell_type": "markdown",
   "metadata": {},
   "source": [
    "# Lists and Iterations\n",
    "> Practice lists and iterations\n",
    "\n",
    "- layout: default"
   ]
  },
  {
   "cell_type": "code",
   "execution_count": 1,
   "metadata": {},
   "outputs": [],
   "source": [
    "# This is a list. It is a sequence of variables (fruit names) saved under a single name 'fruits'\n",
    "fruits = [\"apple\", \"orange\", \"banana\", \"cherry\", \"grape\", \"watermelon\"]"
   ]
  },
  {
   "cell_type": "code",
   "execution_count": 5,
   "metadata": {},
   "outputs": [
    {
     "name": "stdout",
     "output_type": "stream",
     "text": [
      "apple\n",
      "orange\n",
      "banana\n",
      "cherry\n",
      "grape\n",
      "watermelon\n"
     ]
    }
   ],
   "source": [
    "# This list can be iterated - or sorted through using repeated steps/loops. This repeats for every item in the list and prints each\n",
    "for item in fruits: \n",
    "    print(item)"
   ]
  },
  {
   "cell_type": "code",
   "execution_count": 6,
   "metadata": {},
   "outputs": [
    {
     "name": "stdout",
     "output_type": "stream",
     "text": [
      "apple\n",
      "orange\n",
      "banana\n",
      "cherry\n",
      "grape\n",
      "watermelon\n"
     ]
    }
   ],
   "source": [
    "# This type of iteration goes through the list and repeats based on the position of each element . It is also a for loop.\n",
    "for i in range(len(fruits)): \n",
    "    print(fruits[i])"
   ]
  },
  {
   "cell_type": "code",
   "execution_count": 11,
   "metadata": {},
   "outputs": [
    {
     "name": "stdout",
     "output_type": "stream",
     "text": [
      "apple\n",
      "orange\n",
      "banana\n",
      "cherry\n",
      "grape\n",
      "watermelon\n"
     ]
    }
   ],
   "source": [
    "# This is another type of iteration called a while loop. It runs as long as while True\n",
    "i = 0\n",
    "while i < len(fruits):\n",
    "  print(fruits[i])\n",
    "  i = i + 1"
   ]
  },
  {
   "cell_type": "code",
   "execution_count": 18,
   "metadata": {},
   "outputs": [],
   "source": [
    "# Lists of numbers often need to be organized and sorted through. \n",
    "num = [45, 87, 21, 9, 13, 54, 92, 41, 42, 23, 67, 44, 34, 12]"
   ]
  },
  {
   "cell_type": "code",
   "execution_count": 25,
   "metadata": {},
   "outputs": [
    {
     "name": "stdout",
     "output_type": "stream",
     "text": [
      "[9, 12, 13, 21, 23, 34, 41, 42, 44, 54, 67, 87, 92, 100, 100, 100]\n"
     ]
    }
   ],
   "source": [
    "num.remove(45) # removes value of a list\n",
    "num.append(100) # adds value to a list\n",
    "num.sort # sorts int lists from least to greatest\n",
    "print(num)"
   ]
  }
 ],
 "metadata": {
  "kernelspec": {
   "display_name": "Python 3.8.10 64-bit",
   "language": "python",
   "name": "python3"
  },
  "language_info": {
   "codemirror_mode": {
    "name": "ipython",
    "version": 3
   },
   "file_extension": ".py",
   "mimetype": "text/x-python",
   "name": "python",
   "nbconvert_exporter": "python",
   "pygments_lexer": "ipython3",
   "version": "3.8.10"
  },
  "orig_nbformat": 4,
  "vscode": {
   "interpreter": {
    "hash": "916dbcbb3f70747c44a77c7bcd40155683ae19c65e1c03b4aa3499c5328201f1"
   }
  }
 },
 "nbformat": 4,
 "nbformat_minor": 2
}
