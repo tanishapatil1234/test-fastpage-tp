{
 "cells": [
  {
   "attachments": {},
   "cell_type": "markdown",
   "metadata": {},
   "source": [
    "# A. Overview, Tools Setup\n",
    "> Introduction to working with data.\n",
    "- toc: true\n",
    "- categories: []\n",
    "- type: pbl\n",
    "- week: 18"
   ]
  },
  {
   "attachments": {},
   "cell_type": "markdown",
   "metadata": {},
   "source": [
    "This will be a start to finish guide on how to analyze data with Python libraries using Jupyter Notebooks. Over the next few notebooks you will:\n",
    "- Source and setup data \n",
    "- Manipulate data with pandas\n",
    "- Visualize the data with matplotlib \n",
    "- (Extra) Understand how to use data in a machine learning algorithm\n",
    "\n",
    "We will be using a few tools to achieve the goals outlined above. Many of these may sound familiar to you: \n",
    "- Jupyter Notebooks\n",
    "- Pandas\n",
    "- Matplotlib \n",
    "\n",
    "(Extra) And for the machine learning guide: \n",
    "- Numpy\n",
    "- Sklearn \n",
    "- Seaborn "
   ]
  },
  {
   "attachments": {},
   "cell_type": "markdown",
   "metadata": {},
   "source": [
    "## Install Pandas and Matplotlib"
   ]
  },
  {
   "attachments": {},
   "cell_type": "markdown",
   "metadata": {},
   "source": [
    "Pandas is a library created and independent from the Python developers. It is a library. To use Pandas you must install it seperately"
   ]
  },
  {
   "cell_type": "code",
   "execution_count": null,
   "metadata": {
    "vscode": {
     "languageId": "powershell"
    }
   },
   "outputs": [],
   "source": [
    "(base) id:~$ python --version # Check that version python is 3.6 or higher to use pandas, run this in command prompt/terminal"
   ]
  },
  {
   "attachments": {},
   "cell_type": "markdown",
   "metadata": {},
   "source": [
    "If python version is not 3.6 or higher, click [here](https://docs.python-guide.org/starting/installation/) for the commands to update/install."
   ]
  },
  {
   "attachments": {},
   "cell_type": "markdown",
   "metadata": {},
   "source": [
    "Next create a virtual environment for your project using pipenv. Make sure you have it installed:"
   ]
  },
  {
   "cell_type": "code",
   "execution_count": null,
   "metadata": {
    "vscode": {
     "languageId": "powershell"
    }
   },
   "outputs": [],
   "source": [
    "(base) id:~$ sudo apt install python3-pip"
   ]
  },
  {
   "attachments": {},
   "cell_type": "markdown",
   "metadata": {},
   "source": [
    "Create/redirect to new project directory. This will most likely be your _notebooks directory."
   ]
  },
  {
   "cell_type": "code",
   "execution_count": null,
   "metadata": {
    "vscode": {
     "languageId": "powershell"
    }
   },
   "outputs": [],
   "source": [
    "(base) id:~$ cd _notebooks # change directory into _notebooks\n",
    "(base) id:~/_notebooks$ mkdir my_data_project # make new directory for your project\n",
    "(base) id:~/_notebooks$ cd my_data_project # change directory into newly made project\n",
    "(base) id:~/_notebooks/my_data_project$ # resulting change in terminal prompt"
   ]
  },
  {
   "attachments": {},
   "cell_type": "markdown",
   "metadata": {},
   "source": [
    "Install Pandas"
   ]
  },
  {
   "cell_type": "code",
   "execution_count": null,
   "metadata": {
    "vscode": {
     "languageId": "powershell"
    }
   },
   "outputs": [],
   "source": [
    "(base) id:~/_notebooks/my_data_project$ pip install pandas # install pandas"
   ]
  },
  {
   "attachments": {},
   "cell_type": "markdown",
   "metadata": {},
   "source": [
    "Install matplotlib "
   ]
  },
  {
   "cell_type": "code",
   "execution_count": null,
   "metadata": {
    "vscode": {
     "languageId": "powershell"
    }
   },
   "outputs": [],
   "source": [
    "(base) id:~/_notebooks/my_data_project$ python -m pip install -U pip\n",
    "(base) id:~/_notebooks/my_data_project$ python -m pip install -U matplotlib "
   ]
  },
  {
   "attachments": {},
   "cell_type": "markdown",
   "metadata": {},
   "source": [
    "## Importing pandas and matplotlib in notebooks"
   ]
  },
  {
   "cell_type": "code",
   "execution_count": null,
   "metadata": {},
   "outputs": [],
   "source": [
    "import pandas as pd \n",
    "import matplotlib.pyplot as plt"
   ]
  }
 ],
 "metadata": {
  "kernelspec": {
   "display_name": "base",
   "language": "python",
   "name": "python3"
  },
  "language_info": {
   "codemirror_mode": {
    "name": "ipython",
    "version": 3
   },
   "file_extension": ".py",
   "mimetype": "text/x-python",
   "name": "python",
   "nbconvert_exporter": "python",
   "pygments_lexer": "ipython3",
   "version": "3.9.12"
  },
  "orig_nbformat": 4
 },
 "nbformat": 4,
 "nbformat_minor": 2
}
