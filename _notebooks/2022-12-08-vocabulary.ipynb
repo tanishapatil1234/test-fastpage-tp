{
 "cells": [
  {
   "cell_type": "markdown",
   "metadata": {},
   "source": [
    "# Running Vocabulary List\n",
    "> Vocab List Unit 1, 2\n",
    "\n",
    "- layout: default\n",
    "- badges: false\n",
    "- permalink: /notebooks/vocab"
   ]
  },
  {
   "attachments": {},
   "cell_type": "markdown",
   "metadata": {},
   "source": [
    "Unit 2 Binary/Data Terms\n",
    "---------------\n",
    "- Bits: A binary digit. Smallest unit of data a computer can process ( 1 or 0 ; true or false)\n",
    "Bytes: Unit of data that is 8 bits long\n",
    "- Hexadecimal: Numbering system with base 16 (1-9 and then A-F)\n",
    "- Nibbles: four bits (half of a byte)\n",
    "- Binary Numbers: numbering scheme where each digit must be 0 or 1. Powers of 2\n",
    "- Unsigned Integer: 32-bit and encodes non negative integers\n",
    "- Signed Integer: 32-bit includes negative integers \n",
    "- Floating Point: Number with a decimal point \n",
    "- Binary Data Abstractions: Using Binary (true or false) to sort through data and remove elements that aren't relevant \n",
    "- Boolean: Binary variable, True or false\n",
    "- ASCII: character encoding format for data that is text\n",
    "- Unicode: ANother character encoding format for text data: \"Hello\" is written U+0048 U+0065 U+006C U+006C U+006F\n",
    "- RGB: stands for red green blue. HEX is converted shorthand for RGB values \n",
    "- Data Compression: compressing data to use fewer bits\n",
    "- Lossy: Compresses a file and permanently eliminates information\n",
    "- Lossless (not discussed yet): Every bit of original data remains if file is uncompressed"
   ]
  },
  {
   "cell_type": "markdown",
   "metadata": {},
   "source": [
    "Unit 3 Algorithm/Programming Terms\n",
    "-------------------"
   ]
  },
  {
   "cell_type": "code",
   "execution_count": 2,
   "metadata": {},
   "outputs": [
    {
     "name": "stdout",
     "output_type": "stream",
     "text": [
      "hello\n",
      "True\n",
      "5\n",
      "4.33\n"
     ]
    }
   ],
   "source": [
    "# Variables, Data Types, Assignment Operators\n",
    "a = 'hello' # String Data Type \n",
    "b = True # Boolean Data Type\n",
    "c = 5 # Integer Data Type\n",
    "d = 4.33 # Float Data Type\n",
    "print(a)\n",
    "print(b)\n",
    "print(c)\n",
    "print(d)"
   ]
  },
  {
   "cell_type": "code",
   "execution_count": 2,
   "metadata": {},
   "outputs": [],
   "source": [
    "#Managing Complexity with Variables:  Lists, 2D Lists, Dictionaries\n",
    "list1_d = [3, 4, 2, 1, 5, 6, 7] \n",
    "list2_d = [[2,3,6,5,], [3, 5, 6, 2], [4, 5, 2, 5]]\n",
    "dict = { \n",
    "        'key1' : 1, \n",
    "        'key2' : 2, \n",
    "        'key3' : 3\n",
    "        }"
   ]
  },
  {
   "cell_type": "code",
   "execution_count": 1,
   "metadata": {},
   "outputs": [
    {
     "name": "stdout",
     "output_type": "stream",
     "text": [
      "[4, 2, 1, 5, 6, 7]\n",
      "[4, 2, 1, 5, 6, 7, 12]\n"
     ]
    }
   ],
   "source": [
    "#Algorithms, Sequence, Selection, Iteration\n",
    "#Python If, Elif, Else conditionals; \n",
    "# Python Def procedures, Parameters, Return Values\n",
    "list1_d = [3,4,2,1,5,6,7]\n",
    "def addnum(num):  #algorithm, Python Def procedures, Parameters\n",
    "    for i in list1_d:   #Iteration\n",
    "        if num > i:  #If\n",
    "            list1_d.append(num)\n",
    "            print(list1_d)\n",
    "            break\n",
    "        elif num < i: #elif\n",
    "            list1_d.pop(0) \n",
    "            print(list1_d) \n",
    "        else: # else\n",
    "            break\n",
    "addnum(2)\n",
    "addnum(12)\n"
   ]
  },
  {
   "cell_type": "code",
   "execution_count": 8,
   "metadata": {},
   "outputs": [
    {
     "name": "stdout",
     "output_type": "stream",
     "text": [
      "4\n",
      "2\n",
      "1\n",
      "5\n",
      "6\n",
      "7\n",
      "12\n"
     ]
    }
   ],
   "source": [
    "i = 0\n",
    "while i < len(list1_d):   # Iterating through while loops\n",
    "  print(list1_d[i])\n",
    "  i = i + 1"
   ]
  },
  {
   "cell_type": "code",
   "execution_count": 22,
   "metadata": {},
   "outputs": [],
   "source": [
    "#Expressions, Comparison Operators, Booleans Expressions and Selection, Booleans Expressions and Iteration, Truth Tables\n",
    "\n"
   ]
  },
  {
   "cell_type": "code",
   "execution_count": 19,
   "metadata": {},
   "outputs": [
    {
     "name": "stdout",
     "output_type": "stream",
     "text": [
      "Python is fun\n"
     ]
    }
   ],
   "source": [
    "#Characters, Strings, Length, Concatenation, Upper, Lower, Traversing Strings\n",
    "a = \"Python is \"\n",
    "b = \"fun\"\n",
    "c =  a + b\n",
    "print(c)\n"
   ]
  },
  {
   "cell_type": "code",
   "execution_count": 21,
   "metadata": {},
   "outputs": [
    {
     "name": "stdout",
     "output_type": "stream",
     "text": [
      "Negative\n"
     ]
    }
   ],
   "source": [
    "# Nested Selection Statements\n",
    "num = -89\n",
    "if num >= 0:\n",
    "    if num == 0:\n",
    "        print(\"Zero\")\n",
    "    else:\n",
    "        print(\"Positive \")\n",
    "else:\n",
    "    print(\"Negative\")"
   ]
  },
  {
   "cell_type": "code",
   "execution_count": 33,
   "metadata": {},
   "outputs": [
    {
     "name": "stdout",
     "output_type": "stream",
     "text": [
      "0 is divisible by 2.\n",
      "1 is not divisible by 2.\n",
      "2 is divisible by 2.\n",
      "3 is not divisible by 2.\n",
      "4 is divisible by 2.\n"
     ]
    }
   ],
   "source": [
    "# Loops containing conditionals\n",
    "num = 5\n",
    "for number in range(num):\n",
    "   if number%2 == 0:\n",
    "      print(number, \"is divisible by 2.\")\n",
    "   else:\n",
    "      print(number, \"is not divisible by 2.\")"
   ]
  },
  {
   "attachments": {},
   "cell_type": "markdown",
   "metadata": {},
   "source": [
    "### 3.1 and 3.2 : Variables and Data Abstraction\n",
    "- Defining Variables in Python: Type the variable name (no spaces) and use = to assign a value to it\n",
    "- Mathematical Expressions : variable defined using a numerical value . That variable can be used in expressions in the place of a regular number \n",
    "- Functions on Lists : append function adds elements to list \n",
    "- Data Abstraction: the storage of data in abstract variables\n",
    "- Dictionaries : Dictionary can be defined using curly brackets\n",
    "- Interchanging Variables : you can interchange variables by setting them equal to each other with a temporary variable \n",
    "- Floats: used in the same was as int types, are decimals \n"
   ]
  },
  {
   "attachments": {},
   "cell_type": "markdown",
   "metadata": {},
   "source": [
    "### 3.3 and 3.4: Mathematical Expressions and Strings\n",
    "- Algorithm: a set of instructions that tells a program what to do\n",
    "- Concatenation: combining strings. In python use + or , between strings to concatenate\n",
    "\n",
    "### 3.5 and 3.6 Booleans and Logical Operators\n",
    "- Logical operators: and, or, not. These operators compare values\n",
    "- Boolean: Return True or False. Return only one of two values similar to binary\n",
    "\n",
    "### 3.7 Nested Conditional Statements\n",
    "Conditional: code proceeds if condition written is met: ex if/else statements\n",
    "Nested conditionals: conditionals within conditionals\n",
    "\n",
    "### 3.8, 3.10 (our presentation, see group fastpages for vocab)"
   ]
  },
  {
   "attachments": {},
   "cell_type": "markdown",
   "metadata": {},
   "source": [
    "### 3.11 Search:\n",
    "- Sequential Search: search method that iterates through each index of a series of data (inefficient compared to binary)\n",
    "\n",
    "- Binary Search: search method starts at median of the data, compares to the target value and ignores part of the list that doesn't have the target. The numbers must be in numerical order for this method, this method works fast\n",
    "\n",
    "\n",
    "### 3.12 Calling Procedures:\n",
    "- Procedure: defined programming instructions. Can have paramters and they return a value. Often called a function\n",
    "\n",
    "- Parameters: Inputs of a procedure.  \n",
    "\n",
    "- Arguments: specify the values of the parameters when a procedure is called\n",
    "\n",
    "### 3.13 Developing Procedures:\n",
    "- Modularity: organizing the procedures in a program into seperate block based on what task they achieve\n",
    "\n",
    "- Procedural Abstraction: naming a process , defining a function by name by what it does\n",
    "\n",
    "### 3.14 Libraries:\n",
    "- Library: are imported through packages, contain many prewritten procedure\n",
    "\n",
    "- Packages: collections of methods which come from libraries libraries\n",
    "\n",
    "- Documentation: written explanation of what a procedure/code does. Pseudo code but in words"
   ]
  },
  {
   "cell_type": "code",
   "execution_count": 2,
   "metadata": {},
   "outputs": [
    {
     "data": {
      "text/plain": [
       "24"
      ]
     },
     "execution_count": 2,
     "metadata": {},
     "output_type": "execute_result"
    }
   ],
   "source": [
    "# Procedure, parameters, arguments, procedural abstraction\n",
    "def multiply(x, y):\n",
    "    z = x*y\n",
    "    return z\n",
    "\n",
    "multiply(6, 4)"
   ]
  },
  {
   "attachments": {},
   "cell_type": "markdown",
   "metadata": {},
   "source": [
    "### 3.15 Random Values\n",
    "- Random Values : a number generated using a large set of numbers and a mathematical algorithm which gives equal probability to all number occuring"
   ]
  },
  {
   "cell_type": "code",
   "execution_count": 1,
   "metadata": {},
   "outputs": [
    {
     "name": "stdout",
     "output_type": "stream",
     "text": [
      "32\n"
     ]
    }
   ],
   "source": [
    "import random\n",
    "random_number = random.randint(1,100)\n",
    "print(random_number)"
   ]
  },
  {
   "attachments": {},
   "cell_type": "markdown",
   "metadata": {},
   "source": [
    "### 3.16 Simulations\n",
    "Simulations: Simulations are abstractions that mimic more complex objects or phenomena from the real world to draw inferences about things we cant observe\n",
    "- Variability and randomness in the world can be the reason behind bias in simulations \n",
    "\n",
    "### 3.17 + 3.18  Algorithmic Efficiency and Undecidable Problems\n",
    "- A decidable problem will always have a definite answer\n",
    "- An undecidable problem will either have multiple answers or can not get to the answer in a set amount of time\n",
    "- Problem: a general description of a task that can or cannot be solved algorithmically\n",
    "- Decision Problem: A problem with a yes or no answer\n",
    "- Organization Problem: a problem with a goal of finding the best answer\n",
    "- Instance: a problem with a specific input\n",
    "- Efficiency: amount of computing needed to solve a problem\n",
    "- Polynomial Efficiency (Good): more work takes a proportional amount of time (1 job is +2 time)\n",
    "- Exponential Efficiency (Bad): more work takes an exponential amount more time (1 job is 2x time)\n",
    "- Heuristic Approach: When optimal solutions are inefficient, look for a possibly optimal solution that is more efficient\n",
    "- Decidable Problem: A decision problem that has a clear solution that will always make a correct output\n",
    "- Undecidable Problem: A decision problem with no solution that is not gaurenteed to produce the correct output"
   ]
  }
 ],
 "metadata": {
  "kernelspec": {
   "display_name": "Python 3.8.10 64-bit",
   "language": "python",
   "name": "python3"
  },
  "language_info": {
   "codemirror_mode": {
    "name": "ipython",
    "version": 3
   },
   "file_extension": ".py",
   "mimetype": "text/x-python",
   "name": "python",
   "nbconvert_exporter": "python",
   "pygments_lexer": "ipython3",
   "version": "3.8.10"
  },
  "orig_nbformat": 4,
  "vscode": {
   "interpreter": {
    "hash": "916dbcbb3f70747c44a77c7bcd40155683ae19c65e1c03b4aa3499c5328201f1"
   }
  }
 },
 "nbformat": 4,
 "nbformat_minor": 2
}
