{
 "cells": [
  {
   "cell_type": "markdown",
   "metadata": {},
   "source": [
    "# Running Vocabulary List\n",
    "> Vocab List Unit 1, 2\n",
    "\n",
    "- layout: default\n",
    "- badges: false\n",
    "- permalink: /notebooks/vocab"
   ]
  },
  {
   "attachments": {},
   "cell_type": "markdown",
   "metadata": {},
   "source": [
    "Unit 2 Binary/Data Terms\n",
    "---------------\n",
    "- Bits: A binary digit. Smallest unit of data a computer can process ( 1 or 0 ; true or false)\n",
    "Bytes: Unit of data that is 8 bits long\n",
    "- Hexadecimal: Numbering system with base 16 (1-9 and then A-F)\n",
    "- Nibbles: four bits (half of a byte)\n",
    "- Binary Numbers: numbering scheme where each digit must be 0 or 1. Powers of 2\n",
    "- Unsigned Integer: 32-bit and encodes non negative integers\n",
    "- Signed Integer: 32-bit includes negative integers \n",
    "- Floating Point: Number with a decimal point \n",
    "- Binary Data Abstractions: Using Binary (true or false) to sort through data and remove elements that aren't relevant \n",
    "- Boolean: Binary variable, True or false\n",
    "- ASCII: character encoding format for data that is text\n",
    "- Unicode: ANother character encoding format for text data: \"Hello\" is written U+0048 U+0065 U+006C U+006C U+006F\n",
    "- RGB: stands for red green blue. HEX is converted shorthand for RGB values \n",
    "- Data Compression: compressing data to use fewer bits\n",
    "- Lossy: Compresses a file and permanently eliminates information\n",
    "- Lossless (not discussed yet): Every bit of original data remains if file is uncompressed"
   ]
  },
  {
   "cell_type": "markdown",
   "metadata": {},
   "source": [
    "Unit 3 Algorithm/Programming Terms\n",
    "-------------------"
   ]
  },
  {
   "cell_type": "code",
   "execution_count": 2,
   "metadata": {},
   "outputs": [
    {
     "name": "stdout",
     "output_type": "stream",
     "text": [
      "hello\n",
      "True\n",
      "5\n",
      "4.33\n"
     ]
    }
   ],
   "source": [
    "# Variables, Data Types, Assignment Operators\n",
    "a = 'hello' # String Data Type \n",
    "b = True # Boolean Data Type\n",
    "c = 5 # Integer Data Type\n",
    "d = 4.33 # Float Data Type\n",
    "print(a)\n",
    "print(b)\n",
    "print(c)\n",
    "print(d)"
   ]
  },
  {
   "cell_type": "code",
   "execution_count": 2,
   "metadata": {},
   "outputs": [],
   "source": [
    "#Managing Complexity with Variables:  Lists, 2D Lists, Dictionaries\n",
    "list1_d = [3, 4, 2, 1, 5, 6, 7] \n",
    "list2_d = [[2,3,6,5,], [3, 5, 6, 2], [4, 5, 2, 5]]\n",
    "dict = { \n",
    "        'key1' : 1, \n",
    "        'key2' : 2, \n",
    "        'key3' : 3\n",
    "        }"
   ]
  },
  {
   "cell_type": "code",
   "execution_count": 1,
   "metadata": {},
   "outputs": [
    {
     "name": "stdout",
     "output_type": "stream",
     "text": [
      "[4, 2, 1, 5, 6, 7]\n",
      "[4, 2, 1, 5, 6, 7, 12]\n"
     ]
    }
   ],
   "source": [
    "#Algorithms, Sequence, Selection, Iteration\n",
    "#Python If, Elif, Else conditionals; \n",
    "# Python Def procedures, Parameters, Return Values\n",
    "list1_d = [3,4,2,1,5,6,7]\n",
    "def addnum(num):  #algorithm, Python Def procedures, Parameters\n",
    "    for i in list1_d:   #Iteration\n",
    "        if num > i:  #If\n",
    "            list1_d.append(num)\n",
    "            print(list1_d)\n",
    "            break\n",
    "        elif num < i: #elif\n",
    "            list1_d.pop(0) \n",
    "            print(list1_d) \n",
    "        else: # else\n",
    "            break\n",
    "addnum(2)\n",
    "addnum(12)\n"
   ]
  },
  {
   "cell_type": "code",
   "execution_count": 8,
   "metadata": {},
   "outputs": [
    {
     "name": "stdout",
     "output_type": "stream",
     "text": [
      "4\n",
      "2\n",
      "1\n",
      "5\n",
      "6\n",
      "7\n",
      "12\n"
     ]
    }
   ],
   "source": [
    "i = 0\n",
    "while i < len(list1_d):   # Iterating through while loops\n",
    "  print(list1_d[i])\n",
    "  i = i + 1"
   ]
  },
  {
   "cell_type": "code",
   "execution_count": 22,
   "metadata": {},
   "outputs": [],
   "source": [
    "#Expressions, Comparison Operators, Booleans Expressions and Selection, Booleans Expressions and Iteration, Truth Tables\n",
    "\n"
   ]
  },
  {
   "cell_type": "code",
   "execution_count": 19,
   "metadata": {},
   "outputs": [
    {
     "name": "stdout",
     "output_type": "stream",
     "text": [
      "Python is fun\n"
     ]
    }
   ],
   "source": [
    "#Characters, Strings, Length, Concatenation, Upper, Lower, Traversing Strings\n",
    "a = \"Python is \"\n",
    "b = \"fun\"\n",
    "c =  a + b\n",
    "print(c)\n"
   ]
  },
  {
   "cell_type": "code",
   "execution_count": 21,
   "metadata": {},
   "outputs": [
    {
     "name": "stdout",
     "output_type": "stream",
     "text": [
      "Negative\n"
     ]
    }
   ],
   "source": [
    "# Nested Selection Statements\n",
    "num = -89\n",
    "if num >= 0:\n",
    "    if num == 0:\n",
    "        print(\"Zero\")\n",
    "    else:\n",
    "        print(\"Positive \")\n",
    "else:\n",
    "    print(\"Negative\")"
   ]
  },
  {
   "cell_type": "code",
   "execution_count": 33,
   "metadata": {},
   "outputs": [
    {
     "name": "stdout",
     "output_type": "stream",
     "text": [
      "0 is divisible by 2.\n",
      "1 is not divisible by 2.\n",
      "2 is divisible by 2.\n",
      "3 is not divisible by 2.\n",
      "4 is divisible by 2.\n"
     ]
    }
   ],
   "source": [
    "# Loops containing conditionals\n",
    "num = 5\n",
    "for number in range(num):\n",
    "   if number%2 == 0:\n",
    "      print(number, \"is divisible by 2.\")\n",
    "   else:\n",
    "      print(number, \"is not divisible by 2.\")"
   ]
  },
  {
   "attachments": {},
   "cell_type": "markdown",
   "metadata": {},
   "source": [
    "### 3.11 Search:\n",
    "- Sequential Search: search method that iterates through each index of a series of data (inefficient compared to binary)\n",
    "\n",
    "- Binary Search: search method starts at median of the data, compares to the target value and ignores part of the list that doesn't have the target. The numbers must be in numerical order for this method, this method works fast\n",
    "\n",
    "\n",
    "### 3.12 Calling Procedures:\n",
    "- Procedure: defined programming instructions. Can have paramters and they return a value. Often called a function\n",
    "\n",
    "- Parameters: Inputs of a procedure.  \n",
    "\n",
    "- Arguments: specify the values of the parameters when a procedure is called\n",
    "\n",
    "### 3.13 Developing Procedures:\n",
    "- Modularity: organizing the procedures in a program into seperate block based on what task they achieve\n",
    "\n",
    "- Procedural Abstraction: naming a process , defining a function by name by what it does\n",
    "\n",
    "### 3.14 Libraries:\n",
    "- Library: are imported through packages, contain many prewritten procedure\n",
    "\n",
    "- Packages: collections of methods which come from libraries libraries\n",
    "\n",
    "- Documentation: written explanation of what a procedure/code does. Pseudo code but in words"
   ]
  },
  {
   "cell_type": "code",
   "execution_count": 2,
   "metadata": {},
   "outputs": [
    {
     "data": {
      "text/plain": [
       "24"
      ]
     },
     "execution_count": 2,
     "metadata": {},
     "output_type": "execute_result"
    }
   ],
   "source": [
    "# Procedure, parameters, arguments, procedural abstraction\n",
    "def multiply(x, y):\n",
    "    z = x*y\n",
    "    return z\n",
    "\n",
    "multiply(6, 4)"
   ]
  }
 ],
 "metadata": {
  "kernelspec": {
   "display_name": "Python 3.8.10 64-bit",
   "language": "python",
   "name": "python3"
  },
  "language_info": {
   "codemirror_mode": {
    "name": "ipython",
    "version": 3
   },
   "file_extension": ".py",
   "mimetype": "text/x-python",
   "name": "python",
   "nbconvert_exporter": "python",
   "pygments_lexer": "ipython3",
   "version": "3.8.10"
  },
  "orig_nbformat": 4,
  "vscode": {
   "interpreter": {
    "hash": "916dbcbb3f70747c44a77c7bcd40155683ae19c65e1c03b4aa3499c5328201f1"
   }
  }
 },
 "nbformat": 4,
 "nbformat_minor": 2
}
