{
 "cells": [
  {
   "cell_type": "markdown",
   "metadata": {},
   "source": [
    "# Lesson 1-2 \n",
    "- layout: default\n",
    "- badges: false\n",
    "- categories: [API]"
   ]
  },
  {
   "cell_type": "markdown",
   "metadata": {},
   "source": [
    "# Variables and Assignment Python/JS\n",
    "- a variable represents a value \n",
    "- Can be: strings, lists, booleans, numbers\n",
    "- variables must be assigned the above\n",
    "\n",
    "## Defining Variables in Python\n",
    "- Type the variable name (no spaces) and use = to assign a value to it\n",
    "\n",
    "## Mathematical Expressions \n",
    "- variable defined using a numerical value \n",
    "- that variable can be used in expressions in the place of a regular number \n",
    "\n",
    "## Functions on Lists \n",
    "- append function adds elements to list \n",
    "\n",
    "## Dictionaries \n",
    "- Dictionary can be defined using curly brackets\n",
    "\n",
    "## Interchanging Variables \n",
    "- you can interchange variables by setting them equal to each other with a temporary variable \n",
    "\n",
    "## Floats\n",
    "- used in the same was as int types\n",
    "- are decimals \n",
    "\n",
    "## JS Variables \n",
    "- one way to assign a variable is using var var x = 2; \n",
    "- console.log(x) to print variable \n",
    "- const q = 5 sets q as a constant \n",
    "- Boolean(w > x) prints true or false\n",
    "- const groupnames = [ string, string, string] to make a list\n",
    "\n",
    "# Unit 3.2 Data Abstraction Python/JS\n",
    "- manage complexity in programs by giving a collection of data a name without refrencing the specific elements of the representation, makes it easier to implement, develop and maintain code, AP exam index start at 1\n",
    "- Lists, dictionaries are a type of data abstraction\n",
    "- spilt() : splits string into a list and join(): joins list into a string\n",
    "- Js: declare function using  function function_name(parameters)\n",
    "- can input and store data then display it\n",
    "\n"
   ]
  },
  {
   "cell_type": "markdown",
   "metadata": {},
   "source": [
    "# Challenge"
   ]
  },
  {
   "cell_type": "code",
   "execution_count": 11,
   "metadata": {},
   "outputs": [
    {
     "name": "stdout",
     "output_type": "stream",
     "text": [
      "4 index: 2\n",
      "308 index: 4\n",
      "5 index: 6\n",
      "306 index: 9\n"
     ]
    }
   ],
   "source": [
    "data = [104, 101, 4, 105, 308, 103, 5, 107,\n",
    "        100, 306, 106, 102, 108]    # list of the different numerical values\n",
    "min_valid = 100  # minimum value\n",
    "max_valid = 200  # maximum value\n",
    "\n",
    "for num in data: \n",
    "        if num>200 or num<100 : \n",
    "                print (str(num) + \" \" + \"index: \" + str(data.index(num)))\n"
   ]
  },
  {
   "cell_type": "markdown",
   "metadata": {},
   "source": [
    "# HW/ Hacks\n",
    "The list given contains 4 album names - Welcome to my Nightmare, Bad Company, Nightflight, More Mayhem - and each album contains at least 4 songs within another list. Given this, write a block of code that enables users to input in integer values that correspond to the albums and songs - Welcome to my Nightmare is 1, Bad Company is 2, etc. - Then, a sentence is outputted that says Playing ___ based on which song was chosen using the numbers inputted by the user that corresponds to each song.\n"
   ]
  },
  {
   "cell_type": "code",
   "execution_count": 16,
   "metadata": {},
   "outputs": [
    {
     "name": "stdout",
     "output_type": "stream",
     "text": [
      "Playing: She Used Me Up from Album: Nightflight by Artist: Budgie\n"
     ]
    }
   ],
   "source": [
    "albums = [\n",
    "    (\"Welcome to my Nightmare\", \"Alice Cooper\", 1975,   # First album list\n",
    "     [\n",
    "         (1, \"Welcome to my Nightmare\"),\n",
    "         (2, \"Devil's Food\"),\n",
    "         (3, \"The Black Widow\"),\n",
    "         (4, \"Some Folks\"),\n",
    "         (5, \"Only Women Bleed\"),\n",
    "     ]\n",
    "     ),\n",
    "    (\"Bad Company\", \"Bad Company\", 1974,   # Second album list\n",
    "     [\n",
    "         (1, \"Can't Get Enough\"),\n",
    "         (2, \"Rock Steady\"),\n",
    "         (3, \"Ready for Love\"),\n",
    "         (4, \"Don't Let Me Down\"),\n",
    "         (5, \"Bad Company\"),\n",
    "         (6, \"The Way I Choose\"),\n",
    "         (7, \"Movin' On\"),\n",
    "         (8, \"Seagull\"),\n",
    "     ]\n",
    "     ),\n",
    "    (\"Nightflight\", \"Budgie\", 1981,\n",
    "     [\n",
    "         (1, \"I Turned to Stone\"),\n",
    "         (2, \"Keeping a Rendezvous\"),\n",
    "         (3, \"Reaper of the Glory\"),\n",
    "         (4, \"She Used Me Up\"),\n",
    "     ]\n",
    "     ),\n",
    "    (\"More Mayhem\", \"Imelda May\", 2011,\n",
    "     [\n",
    "         (1, \"Pulling the Rug\"),\n",
    "         (2, \"Psycho\"),\n",
    "         (3, \"Mayhem\"),\n",
    "         (4, \"Kentish Town Waltz\"),\n",
    "     ]\n",
    "     ),\n",
    "]\n",
    "\n",
    "albumid = int(input(\"What is your preferred album 1-4?\"))\n",
    "songid = int(input(\"What is your preferred song 1-?\"))\n",
    "       \n",
    "print(\"Playing: \" + str(albums[albumid-1][3][songid-1][1]) + \" from Album: \" + str(albums[albumid-1][0]) + \" by Artist: \" + str(albums[albumid-1][1]))"
   ]
  }
 ],
 "metadata": {
  "kernelspec": {
   "display_name": "Python 3.8.10 64-bit",
   "language": "python",
   "name": "python3"
  },
  "language_info": {
   "codemirror_mode": {
    "name": "ipython",
    "version": 3
   },
   "file_extension": ".py",
   "mimetype": "text/x-python",
   "name": "python",
   "nbconvert_exporter": "python",
   "pygments_lexer": "ipython3",
   "version": "3.8.10"
  },
  "orig_nbformat": 4,
  "vscode": {
   "interpreter": {
    "hash": "916dbcbb3f70747c44a77c7bcd40155683ae19c65e1c03b4aa3499c5328201f1"
   }
  }
 },
 "nbformat": 4,
 "nbformat_minor": 2
}
