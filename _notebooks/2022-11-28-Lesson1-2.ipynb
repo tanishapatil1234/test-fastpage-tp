{
 "cells": [
  {
   "cell_type": "markdown",
   "metadata": {},
   "source": [
    "# Lesson 1-2 \n",
    "- layout: default\n",
    "- badges: false\n",
    "- categories: [API]"
   ]
  },
  {
   "cell_type": "markdown",
   "metadata": {},
   "source": [
    "# Variables and Assignment Python/JS\n",
    "- a variable represents a value \n",
    "- Can be: strings, lists, booleans, numbers\n",
    "- variables must be assigned the above\n",
    "\n",
    "## Defining Variables in Python\n",
    "- Type the variable name (no spaces) and use = to assign a value to it\n",
    "\n",
    "## Mathematical Expressions \n",
    "- variable defined using a numerical value \n",
    "- that variable can be used in expressions in the place of a regular number \n",
    "\n",
    "## Functions on Lists \n",
    "- append function adds elements to list \n",
    "\n",
    "## Dictionaries \n",
    "- Dictionary can be defined using curly brackets\n",
    "\n",
    "## Interchanging Variables \n",
    "- you can interchange variables by setting them equal to each other with a temporary variable \n",
    "\n",
    "## Floats\n",
    "- used in the same was as int types\n",
    "- are decimals \n",
    "\n",
    "## JS Variables \n",
    "- one way to assign a variable is using var var x = 2; \n",
    "- console.log(x) to print variable \n",
    "- const q = 5 sets q as a constant \n",
    "- Boolean(w > x) prints true or false\n",
    "- const groupnames = [ string, string, string] to make a list\n",
    "\n",
    "# Unit 3.2 Data Abstraction Python/JS\n",
    "- \n",
    "\n"
   ]
  }
 ],
 "metadata": {
  "kernelspec": {
   "display_name": "Python 3.8.10 64-bit",
   "language": "python",
   "name": "python3"
  },
  "language_info": {
   "name": "python",
   "version": "3.8.10"
  },
  "orig_nbformat": 4,
  "vscode": {
   "interpreter": {
    "hash": "916dbcbb3f70747c44a77c7bcd40155683ae19c65e1c03b4aa3499c5328201f1"
   }
  }
 },
 "nbformat": 4,
 "nbformat_minor": 2
}
