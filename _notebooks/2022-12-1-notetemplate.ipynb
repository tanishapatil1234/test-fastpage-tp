{
 "cells": [
  {
   "cell_type": "markdown",
   "metadata": {},
   "source": [
    "# Note Template\n",
    "- comments: true"
   ]
  },
  {
   "cell_type": "markdown",
   "metadata": {},
   "source": [
    "# Take some additional notes that you would like here for 3.12 and 3.13. We will be looking for additional notes from the presentation. \n"
   ]
  },
  {
   "cell_type": "markdown",
   "metadata": {},
   "source": [
    "# What are procedures?\n",
    "\n",
    "**Fill in the blanks please:**\n",
    "\n",
    "Procedure: a named group of programming instructions that may have parameters and return values.\n",
    "\n",
    "Parameters:  input values of a procedure\n",
    "\n",
    "Arguments: specify the values of the parameters when a procedure is called\n",
    "\n",
    "Modularity: Separating a program's functions into independent pieces or blocks\n",
    "\n",
    "Procedural Abstraction: provides a name for a process that allows a procedure to be used only knowing WHAT it does, not HOW it does it\n",
    "\n",
    "What are some other names for procedures?: Functions and methods\n",
    "\n",
    "Why are procedures effective?: Convenient to change errors, ability to alter the result without actually changing the calls to the program\n"
   ]
  },
  {
   "attachments": {},
   "cell_type": "markdown",
   "metadata": {},
   "source": [
    "# Additional Notes\n",
    "- procedures are functions\n",
    "- procedures simplify programs\n",
    "- procedures split tasks into individual components that need to be done\n",
    "- procedures have parameters (what the procedure is going to work on/convert/etc)\n",
    "- seperating program to procedures in order to simplify it is called modularity"
   ]
  },
  {
   "attachments": {},
   "cell_type": "markdown",
   "metadata": {},
   "source": [
    "## <mark>Challenge 1</mark> below: Add the command that will **call** the procedure. "
   ]
  },
  {
   "cell_type": "code",
   "execution_count": 2,
   "metadata": {
    "vscode": {
     "languageId": "javascript"
    }
   },
   "outputs": [
    {
     "name": "stdout",
     "output_type": "stream",
     "text": [
      "0111"
     ]
    }
   ],
   "source": [
    "num = 7\n",
    "def convert(num):\n",
    "\t\n",
    "\tif num >= 1:\n",
    "\t\tconvert(num // 2)  # double slash : divide the first number by the second, rounds to the nearest integer\n",
    "\tprint(num % 2, end = '') # end = '' signifies what will come between each printed num\n",
    " \n",
    "# Driver Code\n",
    "convert(num)"
   ]
  },
  {
   "attachments": {},
   "cell_type": "markdown",
   "metadata": {},
   "source": [
    "## <mark>Challenge 2</mark> below: Complete the Min and Max procedure in either JavaScript and Python using the instructions from the JavaScript page. (JavaScript will get you a extra 0.1)"
   ]
  },
  {
   "cell_type": "code",
   "execution_count": 1,
   "metadata": {
    "vscode": {
     "languageId": "javascript"
    }
   },
   "outputs": [
    {
     "name": "stdout",
     "output_type": "stream",
     "text": [
      "The max is 3\n",
      "The min is 6\n"
     ]
    }
   ],
   "source": [
    "findMax = function(numberA, numberB){\n",
    "    if (numberA>numberB) {\n",
    "        max = numberA;\n",
    "    } else {\n",
    "        max = numberB;\n",
    "    }\n",
    "    console.log(\"The max is \" + max);\n",
    "};\n",
    "\n",
    "findMin = function(numberA, numberB){\n",
    "    if (numberA<numberB) {\n",
    "        min = numberA;\n",
    "    } else {\n",
    "        min = numberB;\n",
    "    }\n",
    "    console.log(\"The min is \" + min);\n",
    "};\n",
    "\n",
    "findMax(2,3)\n",
    "\n",
    "\n",
    "findMin(6,10)\n"
   ]
  },
  {
   "attachments": {},
   "cell_type": "markdown",
   "metadata": {},
   "source": [
    "## <mark>Homework/Hacks</mark>: For the hw, you have two options, easy or hard. The easy hack is for a 2.7 + extra work for the full 3. The easy hack is simply creating your own procedure with your own creativity. Since there is a lot of leeway for this one, you must do additional work to get a 3. For the hard hack, below is the start to a character to binary convertor. This is just a template, but the goal is to translate \"APCSP\" into binary. You can delete the existing code if you want. The only contraint is that you must use a procedure. Doing this will get you a 3. "
   ]
  },
  {
   "cell_type": "code",
   "execution_count": 92,
   "metadata": {
    "vscode": {
     "languageId": "javascript"
    }
   },
   "outputs": [
    {
     "name": "stdout",
     "output_type": "stream",
     "text": [
      "APCSP  to binary is:\n",
      "0100000101010000010000110101001101010000"
     ]
    }
   ],
   "source": [
    "# i wrote this\n",
    "def convert(num):\n",
    "    if num >= 1:\n",
    "        convert(num // 2)  # double slash : divide the first number by the second, rounds to the nearest integer\n",
    "    print(num % 2, end = '') # end = '' signifies what will come between each printed num\n",
    "\n",
    "\n",
    "def wordtobin(word):\n",
    "    word = str(word)\n",
    "    list = []\n",
    "    for letter in word:\n",
    "        list.append(letter)\n",
    "    for item in list:\n",
    "        index = list.index(item)\n",
    "        new = ord(item)\n",
    "        list[index] = new\n",
    "    for i in list:\n",
    "        z = list.index(i)\n",
    "        new = convert(i)\n",
    "        list[int(z)] = new\n",
    "\n",
    "word = input(\"What word would you like to convert to binary?\")\n",
    "print(word, \" to binary is:\")\n",
    "wordtobin(word)\n"
   ]
  },
  {
   "cell_type": "code",
   "execution_count": 96,
   "metadata": {
    "vscode": {
     "languageId": "javascript"
    }
   },
   "outputs": [
    {
     "name": "stdout",
     "output_type": "stream",
     "text": [
      "APCSP to binary is: 1000001-1010000-1000011-1010011-1010000\n"
     ]
    }
   ],
   "source": [
    "# something i found online and edited \n",
    "word = \"APCSP\"\n",
    "conversion = '-'.join(format(ord(x), 'b') for x in word)\n",
    "print(word , \"to binary is:\" , conversion)"
   ]
  },
  {
   "attachments": {},
   "cell_type": "markdown",
   "metadata": {},
   "source": [
    "### The Ord Function \n",
    "- built in (don't have to import it)\n",
    "- It takes one character in input (unicode) and outputs decimal number\n",
    "- inverse of chr function"
   ]
  }
 ],
 "metadata": {
  "kernelspec": {
   "display_name": "Python 3",
   "language": "python",
   "name": "python3"
  },
  "language_info": {
   "codemirror_mode": {
    "name": "ipython",
    "version": 3
   },
   "file_extension": ".py",
   "mimetype": "text/x-python",
   "name": "python",
   "nbconvert_exporter": "python",
   "pygments_lexer": "ipython3",
   "version": "3.8.10 (default, Jun 22 2022, 20:18:18) \n[GCC 9.4.0]"
  },
  "orig_nbformat": 4,
  "vscode": {
   "interpreter": {
    "hash": "916dbcbb3f70747c44a77c7bcd40155683ae19c65e1c03b4aa3499c5328201f1"
   }
  }
 },
 "nbformat": 4,
 "nbformat_minor": 2
}
