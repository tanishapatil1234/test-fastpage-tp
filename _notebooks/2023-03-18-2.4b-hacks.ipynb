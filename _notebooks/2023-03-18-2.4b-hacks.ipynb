{
 "cells": [
  {
   "attachments": {},
   "cell_type": "markdown",
   "metadata": {},
   "source": [
    "#  Unit 2.4b HACKS\n",
    "- toc: true\n",
    "- image: /images/python.png\n",
    "- categories: []\n",
    "- type: ap\n",
    "- week: 26"
   ]
  },
  {
   "cell_type": "code",
   "execution_count": 10,
   "metadata": {},
   "outputs": [],
   "source": [
    "import sqlite3 \n",
    "\n",
    "def create_connection(db_file): \n",
    "    conn = None\n",
    "    try: \n",
    "        conn = sqlite3.connect(db_file)\n",
    "        return conn \n",
    "    except Error as e: \n",
    "        print(e)\n",
    "    return conn \n",
    "\n",
    "def create_table(conn, create_table_sql): \n",
    "    try: \n",
    "        c = conn.cursor()\n",
    "        c.execute(create_table_sql)\n",
    "    except Error as e: \n",
    "        print(e)\n",
    "\n",
    "def main(): \n",
    "    database = 'instance/books.db'\n",
    "\n",
    "    sql_create_books_table = \"\"\" CREATE TABLE IF NOT EXISTS books (\n",
    "                                        _id integer PRIMARY KEY,\n",
    "                                        _author text NOT NULL,\n",
    "                                        _country text NOT NULL,\n",
    "                                        _title text NOT NULL,\n",
    "                                        _pages integer NOT NULL, \n",
    "                                        _borrowed integer NOT NULL\n",
    "                                    ); \"\"\"\n",
    "    conn = create_connection(database)\n",
    "\n",
    "    # create table\n",
    "    if conn is not None:\n",
    "        # create books table\n",
    "        create_table(conn, sql_create_books_table)\n",
    "    else:\n",
    "        print(\"Error! cannot create the database connection.\")\n",
    "\n",
    "\n",
    "if __name__ == '__main__':\n",
    "    main()"
   ]
  },
  {
   "attachments": {},
   "cell_type": "markdown",
   "metadata": {},
   "source": [
    "# Read"
   ]
  },
  {
   "cell_type": "code",
   "execution_count": 11,
   "metadata": {},
   "outputs": [
    {
     "name": "stdout",
     "output_type": "stream",
     "text": [
      "Table is empty\n"
     ]
    }
   ],
   "source": [
    "def read():\n",
    "\n",
    "    database = 'instance/books.db'\n",
    "    # Connect to the database file\n",
    "    conn = sqlite3.connect(database)\n",
    "\n",
    "    # Create a cursor object to execute SQL queries\n",
    "    cursor = conn.cursor()\n",
    "    \n",
    "    # Execute a SELECT statement to retrieve data from a table\n",
    "    results = cursor.execute('SELECT * FROM books').fetchall()\n",
    "\n",
    "    # Print the results\n",
    "    if len(results) == 0:\n",
    "        print(\"Table is empty\")\n",
    "    else:\n",
    "        for row in results:\n",
    "            print(row)\n",
    "\n",
    "    # Close the cursor and connection objects\n",
    "    cursor.close()\n",
    "    conn.close()\n",
    "\n",
    "read()"
   ]
  },
  {
   "attachments": {},
   "cell_type": "markdown",
   "metadata": {},
   "source": [
    "# Create"
   ]
  },
  {
   "cell_type": "code",
   "execution_count": 12,
   "metadata": {},
   "outputs": [
    {
     "name": "stdout",
     "output_type": "stream",
     "text": [
      "A new book record Song of Achilles has been created\n"
     ]
    }
   ],
   "source": [
    "def create():\n",
    "    database = 'instance/books.db'\n",
    "    author = input(\"Enter author name:\")\n",
    "    country = input(\"Enter country of origin:\")\n",
    "    title = input(\"Enter book title\")\n",
    "    pages = input(\"Enter number of pages\")\n",
    "    borrowed = input(\"Enter if book is borrowed. 1 for yes, 0 for no.\")\n",
    "    \n",
    "    # Connect to the database file\n",
    "    conn = sqlite3.connect(database)\n",
    "\n",
    "    # Create a cursor object to execute SQL commands\n",
    "    cursor = conn.cursor()\n",
    "\n",
    "    try:\n",
    "        # Execute an SQL command to insert data into a table\n",
    "        cursor.execute(\"INSERT INTO books (_author, _country, _title, _pages, _borrowed) VALUES (?, ?, ?, ?, ?)\", (author, country, title, pages, borrowed))\n",
    "        # borrowed represents whether the book is available or not avaiable at the library, whether it is checked out or not\n",
    "        # Commit the changes to the database\n",
    "        conn.commit()\n",
    "        print(f\"A new book record {title} has been created\")\n",
    "                \n",
    "    except sqlite3.Error as error:\n",
    "        print(\"Error while executing the INSERT:\", error)\n",
    "\n",
    "\n",
    "    # Close the cursor and connection objects\n",
    "    cursor.close()\n",
    "    conn.close()\n",
    "    \n",
    "create()"
   ]
  },
  {
   "cell_type": "code",
   "execution_count": 13,
   "metadata": {},
   "outputs": [
    {
     "name": "stdout",
     "output_type": "stream",
     "text": [
      "(1, 'Madeline Miller', 'United States of America', 'Song of Achilles', 416, 0)\n"
     ]
    }
   ],
   "source": [
    "read()"
   ]
  },
  {
   "cell_type": "code",
   "execution_count": 1,
   "metadata": {},
   "outputs": [
    {
     "name": "stdout",
     "output_type": "stream",
     "text": [
      "                    author         country                title  pages\n",
      "0            Chinua Achebe         Nigeria    Things Fall Apart    209\n",
      "1  Hans Christian Andersen         Denmark          Fairy tales    784\n",
      "2          Dante Alighieri           Italy    The Divine Comedy    928\n",
      "7              Jane Austen  United Kingdom  Pride and Prejudice    226\n",
      "8         Honoré de Balzac          France       Le Père Goriot    443\n"
     ]
    }
   ],
   "source": [
    "import pandas as pd\n",
    "# reads the JSON file and converts it to a Pandas DataFrame\n",
    "df = pd.read_json('files/books.json')\n",
    "cols_to_print = [ 'author', 'country', 'title', 'pages' ]\n",
    "df = df[cols_to_print]\n",
    "rows_to_print = [0,1,2,3,4,5, 6, 7, 8]\n",
    "df = df.iloc[rows_to_print]\n",
    "\n",
    "def remove_unknown(df, col):\n",
    "    x = df[col] == \"Unknown\"\n",
    "    df = df.drop(df[x].index)\n",
    "    return df\n",
    "\n",
    "df = remove_unknown(df, \"author\")\n",
    "print(df)"
   ]
  },
  {
   "cell_type": "code",
   "execution_count": 2,
   "metadata": {},
   "outputs": [],
   "source": [
    "import sqlite3 \n",
    "# populating table with sample data \n",
    "def populate():\n",
    "    database = 'instance/books.db'\n",
    "    # Connect to the database file\n",
    "    conn = sqlite3.connect(database)\n",
    "\n",
    "    # Create a cursor object to execute SQL commands\n",
    "    cursor = conn.cursor()\n",
    "\n",
    "    try:\n",
    "        # Execute an SQL command to insert data into a table\n",
    "        cursor.execute(\"INSERT INTO books (_author, _country, _title, _pages, _borrowed) VALUES (?, ?, ?, ?, ?)\", ('Chinua Achebe'  , 'Nigeria', 'Things Fall Apart', 209, 0))\n",
    "        cursor.execute(\"INSERT INTO books (_author, _country, _title, _pages, _borrowed) VALUES (?, ?, ?, ?, ?)\", ('Hans Christian Andersen' , 'Denmark', 'Fairy Tales', 784, 0))\n",
    "        cursor.execute(\"INSERT INTO books (_author, _country, _title, _pages, _borrowed) VALUES (?, ?, ?, ?, ?)\", ( 'Dante Alighieri' , 'Italy',  'The Divine Comedy' , 928, 1))\n",
    "        cursor.execute(\"INSERT INTO books (_author, _country, _title, _pages, _borrowed) VALUES (?, ?, ?, ?, ?)\", ( 'Jane Austen', 'United Kingdom', 'Pride and Prejudice', 226, 0))\n",
    "        cursor.execute(\"INSERT INTO books (_author, _country, _title, _pages, _borrowed) VALUES (?, ?, ?, ?, ?)\", (' Honoré de Balzac', 'France',  'Le Père Goriot' , 443, 1))\n",
    "        # Commit the changes to the database\n",
    "        conn.commit()\n",
    "                \n",
    "    except sqlite3.Error as error:\n",
    "        print(\"Error while executing the INSERT:\", error)\n",
    "\n",
    "\n",
    "    # Close the cursor and connection objects\n",
    "    cursor.close()\n",
    "    conn.close()\n",
    "    \n",
    "populate()"
   ]
  },
  {
   "cell_type": "code",
   "execution_count": 3,
   "metadata": {},
   "outputs": [
    {
     "name": "stdout",
     "output_type": "stream",
     "text": [
      "(1, 'Madeline Miller', 'United States of America', 'Song of Achilles', 416, 0)\n",
      "(2, 'Chinua Achebe', 'Nigeria', 'Things Fall Apart', 209, 0)\n",
      "(3, 'Hans Christian Andersen', 'Denmark', 'Fairy Tales', 784, 0)\n",
      "(4, 'Dante Alighieri', 'Italy', 'The Divine Comedy', 928, 1)\n",
      "(5, 'Jane Austen', 'United Kingdom', 'Pride and Prejudice', 226, 0)\n",
      "(6, ' Honoré de Balzac', 'France', 'Le Père Goriot', 443, 1)\n"
     ]
    }
   ],
   "source": [
    "import sqlite3  # i am not sure why but here it made me redfine the read function\n",
    "def read():\n",
    "\n",
    "    database = 'instance/books.db'\n",
    "    # Connect to the database file\n",
    "    conn = sqlite3.connect(database)\n",
    "\n",
    "    # Create a cursor object to execute SQL queries\n",
    "    cursor = conn.cursor()\n",
    "    \n",
    "    # Execute a SELECT statement to retrieve data from a table\n",
    "    results = cursor.execute('SELECT * FROM books').fetchall()\n",
    "\n",
    "    # Print the results\n",
    "    if len(results) == 0:\n",
    "        print(\"Table is empty\")\n",
    "    else:\n",
    "        for row in results:\n",
    "            print(row)\n",
    "\n",
    "    # Close the cursor and connection objects\n",
    "    cursor.close()\n",
    "    conn.close()\n",
    "\n",
    "read()"
   ]
  },
  {
   "attachments": {},
   "cell_type": "markdown",
   "metadata": {},
   "source": [
    "# Delete"
   ]
  },
  {
   "cell_type": "code",
   "execution_count": 4,
   "metadata": {},
   "outputs": [
    {
     "name": "stdout",
     "output_type": "stream",
     "text": [
      "----Original Table:----\n",
      "(1, 'Madeline Miller', 'United States of America', 'Song of Achilles', 416, 0)\n",
      "(2, 'Chinua Achebe', 'Nigeria', 'Things Fall Apart', 209, 0)\n",
      "(3, 'Hans Christian Andersen', 'Denmark', 'Fairy Tales', 784, 0)\n",
      "(4, 'Dante Alighieri', 'Italy', 'The Divine Comedy', 928, 1)\n",
      "(5, 'Jane Austen', 'United Kingdom', 'Pride and Prejudice', 226, 0)\n",
      "(6, ' Honoré de Balzac', 'France', 'Le Père Goriot', 443, 1)\n",
      "\n",
      "The row with uid 6 was successfully deleted\n",
      "(1, 'Madeline Miller', 'United States of America', 'Song of Achilles', 416, 0)\n",
      "(2, 'Chinua Achebe', 'Nigeria', 'Things Fall Apart', 209, 0)\n",
      "(3, 'Hans Christian Andersen', 'Denmark', 'Fairy Tales', 784, 0)\n",
      "(4, 'Dante Alighieri', 'Italy', 'The Divine Comedy', 928, 1)\n",
      "(5, 'Jane Austen', 'United Kingdom', 'Pride and Prejudice', 226, 0)\n"
     ]
    }
   ],
   "source": [
    "import sqlite3\n",
    "\n",
    "def delete():\n",
    "    \n",
    "    database = 'instance/books.db'\n",
    "    id = input(\"Enter a book id to delete\")\n",
    "\n",
    "    # Connect to the database file\n",
    "    conn = sqlite3.connect(database)\n",
    "\n",
    "    # Create a cursor object to execute SQL commands\n",
    "    cursor = conn.cursor()\n",
    "    \n",
    "    try:\n",
    "        cursor.execute(\"DELETE FROM books WHERE _id = ?\", (id,))\n",
    "        if cursor.rowcount == 0:\n",
    "            # The uid was not found in the table\n",
    "            print(f\"No uid {id} was not found in the table\")\n",
    "        else:\n",
    "            # The uid was found in the table and the row was deleted\n",
    "            print(f\"The row with uid {id} was successfully deleted\")\n",
    "        conn.commit()\n",
    "    except sqlite3.Error as error:\n",
    "        print(\"Error while executing the DELETE:\", error)\n",
    "        \n",
    "    # Close the cursor and connection objects\n",
    "    cursor.close()\n",
    "    conn.close()\n",
    "print(\"----Original Table:----\")\n",
    "read()\n",
    "print(\"\")\n",
    "delete()\n",
    "read()"
   ]
  },
  {
   "attachments": {},
   "cell_type": "markdown",
   "metadata": {},
   "source": [
    "# Update"
   ]
  },
  {
   "cell_type": "code",
   "execution_count": 10,
   "metadata": {},
   "outputs": [
    {
     "name": "stdout",
     "output_type": "stream",
     "text": [
      "----Original Databse:----\n",
      "(1, 'Madeline Miller', 'United States of America', 'Song of Achilles', 416, 0)\n",
      "(2, 'Chinua Achebe', 'Nigeria', 'Things Fall Apart', 209, 0)\n",
      "(3, 'Hans Christian Andersen', 'Denmark', 'Fairy Tales', 784, 0)\n",
      "(4, 'Dante Alighieri', 'Italy', 'The Divine Comedy', 928, 1)\n",
      "(5, 'Jane Austen', 'United Kingdom', 'Pride and Prejudice', 226, 0)\n",
      "\n",
      "----Updated Databse:----\n",
      "The book with id 1 has been updated to: returned\n",
      "(1, 'Madeline Miller', 'United States of America', 'Song of Achilles', 416, 1)\n",
      "(2, 'Chinua Achebe', 'Nigeria', 'Things Fall Apart', 209, 0)\n",
      "(3, 'Hans Christian Andersen', 'Denmark', 'Fairy Tales', 784, 0)\n",
      "(4, 'Dante Alighieri', 'Italy', 'The Divine Comedy', 928, 1)\n",
      "(5, 'Jane Austen', 'United Kingdom', 'Pride and Prejudice', 226, 0)\n"
     ]
    }
   ],
   "source": [
    "import sqlite3\n",
    "\n",
    "def update():  \n",
    "    \n",
    "    database = 'instance/books.db'\n",
    "    id = input(\"Enter a book id to update book's borrow status:\")\n",
    "    borrowed = input(\"Enter updated borrow status (1 for borrowed, 0 for returned):\")\n",
    "    if borrowed == 1: \n",
    "        status = \"borrowed\"\n",
    "    else: \n",
    "        status = \"returned\"\n",
    "\n",
    "    # Connect to the database file\n",
    "    conn = sqlite3.connect(database)\n",
    "\n",
    "    # Create a cursor object to execute SQL commands\n",
    "    cursor = conn.cursor()\n",
    "\n",
    "    try:\n",
    "        # Execute an SQL command to update data in a table\n",
    "        cursor.execute(\"UPDATE books SET _borrowed = ? WHERE _id = ?\", (borrowed, id))\n",
    "        if cursor.rowcount == 0:\n",
    "            # The uid was not found in the table\n",
    "            print(f\"No id {id} was not found in the table\")\n",
    "        else:\n",
    "            print(f\"The book with id {id} has been updated to: {status}\")\n",
    "            conn.commit()\n",
    "    except sqlite3.Error as error:\n",
    "        print(\"Error while executing the UPDATE:\", error)\n",
    "        \n",
    "    \n",
    "    # Close the cursor and connection objects\n",
    "    cursor.close()\n",
    "    conn.close()\n",
    "print('----Original Databse:----')\n",
    "read()   \n",
    "print(\"\")\n",
    "print('----Updated Databse:----')\n",
    "update()\n",
    "read()\n"
   ]
  },
  {
   "attachments": {},
   "cell_type": "markdown",
   "metadata": {},
   "source": [
    "# Menu with CRUD"
   ]
  },
  {
   "cell_type": "code",
   "execution_count": 18,
   "metadata": {},
   "outputs": [],
   "source": [
    "# need to look into this, I was forced to redefine functions twice in this notebook. This is a temporary fix\n",
    "def create():\n",
    "    database = 'instance/books.db'\n",
    "    author = input(\"Enter author name:\")\n",
    "    country = input(\"Enter country of origin:\")\n",
    "    title = input(\"Enter book title\")\n",
    "    pages = input(\"Enter number of pages\")\n",
    "    borrowed = input(\"Enter if book is borrowed. 1 for yes, 0 for no.\")\n",
    "    \n",
    "    # Connect to the database file\n",
    "    conn = sqlite3.connect(database)\n",
    "\n",
    "    # Create a cursor object to execute SQL commands\n",
    "    cursor = conn.cursor()\n",
    "\n",
    "    try:\n",
    "        # Execute an SQL command to insert data into a table\n",
    "        cursor.execute(\"INSERT INTO books (_author, _country, _title, _pages, _borrowed) VALUES (?, ?, ?, ?, ?)\", (author, country, title, pages, borrowed))\n",
    "        # borrowed represents whether the book is available or not avaiable at the library, whether it is checked out or not\n",
    "        # Commit the changes to the database\n",
    "        conn.commit()\n",
    "        print(f\"A new book record {title} has been created\")\n",
    "                \n",
    "    except sqlite3.Error as error:\n",
    "        print(\"Error while executing the INSERT:\", error)\n",
    "\n",
    "\n",
    "    # Close the cursor and connection objects\n",
    "    cursor.close()\n",
    "    conn.close()"
   ]
  },
  {
   "cell_type": "code",
   "execution_count": 20,
   "metadata": {},
   "outputs": [
    {
     "name": "stdout",
     "output_type": "stream",
     "text": [
      "(1, 'Madeline Miller', 'United States of America', 'Song of Achilles', 416, 1)\n",
      "(2, 'Chinua Achebe', 'Nigeria', 'Things Fall Apart', 209, 0)\n",
      "(3, 'Hans Christian Andersen', 'Denmark', 'Fairy Tales', 784, 0)\n",
      "(4, 'Agatha Christie', 'The United Kingdom', 'And Then There Were None', 272, 0)\n",
      "A new book record Harry Potter and the Chamber of Secrets has been created\n",
      "(1, 'Madeline Miller', 'United States of America', 'Song of Achilles', 416, 1)\n",
      "(2, 'Chinua Achebe', 'Nigeria', 'Things Fall Apart', 209, 0)\n",
      "(3, 'Hans Christian Andersen', 'Denmark', 'Fairy Tales', 784, 0)\n",
      "(4, 'Agatha Christie', 'The United Kingdom', 'And Then There Were None', 272, 0)\n",
      "(5, 'J.K. Rowling', 'United Kingdom', 'Harry Potter and the Chamber of Secrets', 357, 1)\n",
      "The book with id 5 has been updated to: returned\n",
      "(1, 'Madeline Miller', 'United States of America', 'Song of Achilles', 416, 1)\n",
      "(2, 'Chinua Achebe', 'Nigeria', 'Things Fall Apart', 209, 0)\n",
      "(3, 'Hans Christian Andersen', 'Denmark', 'Fairy Tales', 784, 0)\n",
      "(4, 'Agatha Christie', 'The United Kingdom', 'And Then There Were None', 272, 0)\n",
      "(5, 'J.K. Rowling', 'United Kingdom', 'Harry Potter and the Chamber of Secrets', 357, 0)\n",
      "The row with uid 5 was successfully deleted\n",
      "(1, 'Madeline Miller', 'United States of America', 'Song of Achilles', 416, 1)\n",
      "(2, 'Chinua Achebe', 'Nigeria', 'Things Fall Apart', 209, 0)\n",
      "(3, 'Hans Christian Andersen', 'Denmark', 'Fairy Tales', 784, 0)\n",
      "(4, 'Agatha Christie', 'The United Kingdom', 'And Then There Were None', 272, 0)\n"
     ]
    }
   ],
   "source": [
    "# Menu, to run other cells from one control point\n",
    "def menu():\n",
    "    operation = input(\"Enter: (C)reate (R)ead (U)pdate or (D)elete\")\n",
    "    if operation.lower() == 'c':\n",
    "        create()\n",
    "    elif operation.lower() == 'r':\n",
    "        read()\n",
    "    elif operation.lower() == 'u':\n",
    "        update()\n",
    "    elif operation.lower() == 'd':\n",
    "        delete()\n",
    "    elif len(operation)==0: # Escape Key\n",
    "        return\n",
    "    else:\n",
    "        print(\"Please enter c, r, u, or d\") \n",
    "    menu() # recursion, repeat menu\n",
    "        \n",
    "try:\n",
    "    menu() # start menu\n",
    "except:\n",
    "    print(\"Perform Jupyter 'Run All' prior to starting menu\")\n"
   ]
  }
 ],
 "metadata": {
  "kernelspec": {
   "display_name": "base",
   "language": "python",
   "name": "python3"
  },
  "language_info": {
   "codemirror_mode": {
    "name": "ipython",
    "version": 3
   },
   "file_extension": ".py",
   "mimetype": "text/x-python",
   "name": "python",
   "nbconvert_exporter": "python",
   "pygments_lexer": "ipython3",
   "version": "3.9.12"
  },
  "orig_nbformat": 4,
  "vscode": {
   "interpreter": {
    "hash": "3c2b0ffd1199089ffc26e503af02f4691b81e8fb93dfae9e2bdf98b006ac2c14"
   }
  }
 },
 "nbformat": 4,
 "nbformat_minor": 2
}
