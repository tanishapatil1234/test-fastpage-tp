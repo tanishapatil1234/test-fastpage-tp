{
 "cells": [
  {
   "attachments": {},
   "cell_type": "markdown",
   "metadata": {},
   "source": [
    "# PT Grading\n"
   ]
  },
  {
   "attachments": {},
   "cell_type": "markdown",
   "metadata": {},
   "source": [
    "## Grading 1\n",
    "| Reporting Category \t| My Score \t| College Board Score \t| Comments \t|\n",
    "|---\t|---\t|---\t|---\t|\n",
    "| Program Purpose/ Function \t| 1 \t| 0\t| The person did not distinguish between program purpose and functionality. The person only described functionality  \t|\n",
    "| Data Abstraction \t| 1 \t| 1 \t| Includes two code segments, implements a list for a desired function\t|\n",
    "| Managing Complexity \t| 0 \t| 0 \t| The provided explanation did not support how the use of a list would manage the program’s complexity. The use of a list did not have any benefit or advantage to fixing errors in the code over something else such as a variable.  \t|\n",
    "| Procedural Abstraction \t| 1 \t| 1 \t| A procedure, ratioCalculate was defined and called. Person also described how the procedure is used and relted to the overall function of the program. |\n",
    "| Algorithm Implementation \t| 1 \t| 1 \t| Program uses all three: sequencing,selection (if), and iteration (through a list) \t|\n",
    "| Testing \t| 1 \t| 1 \t| Program is tests and when functions are called they properly run. \t|\n",
    "\n",
    "## Grading 2\n",
    "| Reporting Category \t| My Score \t| College Board Score \t| Comments \t|\n",
    "|---\t|---\t|---\t|---\t|\n",
    "| Program Purpose/ Function \t| 1 \t| 1 \t| The person distinguished<br>between program purpose and <br>functionality. Had a clear purpose <br>and clear function.  \t|\n",
    "| Data Abstraction \t| 1 \t| 1 \t| mplements three lists: startGrid, <br>currentGrid and nextGrid.  \t|\n",
    "| Managing Complexity \t| 1 \t| 1 \t| The provided explanation<br>supports how the use of a list<br>would manage the program's <br>complexity by explaining how the<br>use of variables or other resources <br>would be inefficient. The use of a list <br>did have great benefit. \t|\n",
    "| Procedural Abstraction \t| 1 \t| 1 \t| A procedure, resetall<br>was defined and called. <br>The function is used to <br>simply reset the game. Also, <br>newGen was defined which copies<br>information from the old generation to <br>the new one.  \t|\n",
    "| Algorithm Implementation \t| 1 \t| 1 \t| Program uses all three: sequencing, <br>selection (if), and iteration (through <br>a list) \t|\n",
    "| Testing \t| 1 \t| 1 \t| Program is tests and when functions are<br>called they properly run. Clearly describe <br>results in written report as well.  \t|"
   ]
  }
 ],
 "metadata": {
  "kernelspec": {
   "display_name": "Python 3",
   "language": "python",
   "name": "python3"
  },
  "language_info": {
   "name": "python",
   "version": "3.8.10 (default, Jun 22 2022, 20:18:18) \n[GCC 9.4.0]"
  },
  "orig_nbformat": 4,
  "vscode": {
   "interpreter": {
    "hash": "916dbcbb3f70747c44a77c7bcd40155683ae19c65e1c03b4aa3499c5328201f1"
   }
  }
 },
 "nbformat": 4,
 "nbformat_minor": 2
}
