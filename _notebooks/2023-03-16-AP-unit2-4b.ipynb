{
 "cells": [
  {
   "attachments": {},
   "cell_type": "markdown",
   "metadata": {},
   "source": [
    "#  Unit 2.4b Using Programs with Data, SQL\n",
    "> Using Programs with Data is focused on SQL and database actions.  Part B focuses on learning SQL commands, connections, and curses using an Imperative programming style,\n",
    "- toc: true\n",
    "- image: /images/python.png\n",
    "- categories: []\n",
    "- type: ap\n",
    "- week: 26"
   ]
  },
  {
   "attachments": {},
   "cell_type": "markdown",
   "metadata": {},
   "source": [
    "# Database Programming is Program with Data\n",
    "> The Tri 2 Final Project is an example of a Program with Data. \n",
    "\n",
    ">  Prepare to use SQLite in common Imperative Technique\n",
    "- Explore [SQLite Connect object](https://www.tutorialspoint.com/python_data_access/python_sqlite_establishing_connection.htm) to establish database connection\n",
    "- Explore [SQLite Cursor Object](https://www.tutorialspoint.com/python_data_access/python_sqlite_cursor_object.htm) to fetch data from a table within a database\n"
   ]
  },
  {
   "attachments": {},
   "cell_type": "markdown",
   "metadata": {},
   "source": [
    "## Schema of Users table in Sqlite.db\n",
    "> Uses PRAGMA statement to read schema.\n",
    "\n",
    "Describe Schema, here is resource [Resource](https://www.sqlite.org/index.html)\n",
    "- What is a database schema? \n",
    "The categories of the table, or the column names\n",
    "- What is the purpose of identity Column in SQL database?\n",
    "Id column makes the information or data to be much easier to access\n",
    "- What is the purpose of a primary key in SQL database?\n",
    "Purpose of a primary key is to be unique to each row\n",
    "- What are the Data Types in SQL table?\n",
    "You can find integers, strings, booleans, floats, lists, dictionaries"
   ]
  },
  {
   "cell_type": "code",
   "execution_count": 2,
   "metadata": {},
   "outputs": [
    {
     "name": "stdout",
     "output_type": "stream",
     "text": [
      "(0, 'id', 'INTEGER', 1, None, 1)\n",
      "(1, '_name', 'VARCHAR(255)', 1, None, 0)\n",
      "(2, '_uid', 'VARCHAR(255)', 1, None, 0)\n",
      "(3, '_password', 'VARCHAR(255)', 1, None, 0)\n",
      "(4, '_dob', 'DATE', 0, None, 0)\n"
     ]
    }
   ],
   "source": [
    "import sqlite3\n",
    "\n",
    "database = 'instance/sqlite.db' # this is location of database\n",
    "\n",
    "def schema():\n",
    "    \n",
    "    # Connect to the database file\n",
    "    conn = sqlite3.connect(database)\n",
    "\n",
    "    # Create a cursor object to execute SQL queries\n",
    "    cursor = conn.cursor()\n",
    "    \n",
    "    # Fetch results of Schema\n",
    "    results = cursor.execute(\"PRAGMA table_info('users')\").fetchall()\n",
    "\n",
    "    # Print the results\n",
    "    for row in results:\n",
    "        print(row)\n",
    "\n",
    "    # Close the database connection\n",
    "    conn.close()\n",
    "    \n",
    "schema()\n"
   ]
  },
  {
   "attachments": {},
   "cell_type": "markdown",
   "metadata": {},
   "source": [
    "## Reading Users table in Sqlite.db\n",
    "> Uses SQL SELECT statement to read data\n",
    "\n",
    "- What is a connection object?  After you google it, what do you think it does?\n",
    "Connection objects allows for connection to sqlite database\n",
    "- Same for cursor object?\n",
    "Cursor allows you to execute methods in the sqlite database \n",
    "- Look at conn object and cursor object in VSCode debugger.  What attributes are in the object?\n",
    "- Is \"results\" an object?  How do you know?\n",
    "Results is an object because it contains data. Object can also have methods. "
   ]
  },
  {
   "cell_type": "code",
   "execution_count": 5,
   "metadata": {},
   "outputs": [
    {
     "name": "stdout",
     "output_type": "stream",
     "text": [
      "(1, 'Thomas Edison', 'toby', 'sha256$8gMqHiwNVm0kXKKI$e159a432d7ac4cb4bd17a8619f131b71430a17ed69cb5d3ba765655d5d1afe4d', '1847-02-11')\n",
      "(2, 'Nikola Tesla', 'niko', 'sha256$yddo2rIBRboB3CaL$9586ee89961d58e7bc162a21333e205d595905a56a4c240bcfdbfe68397ab91f', '2023-03-15')\n",
      "(3, 'Alexander Graham Bell', 'lex', 'sha256$fAA6oCO9HY0x45gn$50a2c9838da05300f9856613f09f687b56c7e3ae315f2fd9b99efe9dcc0eed40', '2023-03-15')\n",
      "(4, 'Eli Whitney', 'whit', 'sha256$skWViWpiKMTlpuzt$700a3e766ef4ac7bd8828ec63256e307169757a59b4dbfe0ca7063f190eec1cc', '2023-03-15')\n",
      "(5, 'Indiana Jones', 'indi', 'sha256$MjzIZS0QvsCMAILH$2df094760bd8e2b3fe2ff6bcde9cddc5cacb0c3eb34a79bc4c9a725ddf5fac66', '1920-10-21')\n",
      "(6, 'Marion Ravenwood', 'raven', 'sha256$9XHd8Q0dQ8mq8CE5$00c3fbbdcff0edec3bfc5971b468d2bf7cbf8e765f75c0a5a7cac88f96960968', '1921-10-21')\n",
      "(7, 'tanisha patil', 'tanisha', 'sha256$hEFHH2bIvs3zjl3e$c56be81867f31a8ef02148b973caefd04e04039177946e0360efd3ad575f4728', '2023-07-03')\n"
     ]
    }
   ],
   "source": [
    "import sqlite3\n",
    "\n",
    "def read():\n",
    "    # Connect to the database file\n",
    "    conn = sqlite3.connect(database)\n",
    "\n",
    "    # Create a cursor object to execute SQL queries\n",
    "    cursor = conn.cursor()\n",
    "    \n",
    "    # Execute a SELECT statement to retrieve data from a table\n",
    "    results = cursor.execute('SELECT * FROM users').fetchall()\n",
    "\n",
    "    # Print the results\n",
    "    if len(results) == 0:\n",
    "        print(\"Table is empty\")\n",
    "    else:\n",
    "        for row in results:\n",
    "            print(row)\n",
    "\n",
    "    # Close the cursor and connection objects\n",
    "    cursor.close()\n",
    "    conn.close()\n",
    "    \n",
    "read()\n"
   ]
  },
  {
   "attachments": {},
   "cell_type": "markdown",
   "metadata": {},
   "source": [
    "## Create a new User in table in Sqlite.db\n",
    "> Uses SQL INSERT to add row\n",
    "-  Compare create() in both SQL lessons.  What is better or worse in the two implementations?\n",
    "create() in the first lesson utilizes object oriented programming while the second one takes a more imperitave approach, based on individual functions. In OOP , large databases stay organized while in Imperitave may become diffucult to navigate and add to after a certain amount of data. However, imperitave is easier to understand and can therefore be easier to work with at times. \n",
    "-  Explain purpose of SQL INSERT.   Is this the same as User __init__?\n",
    "SQL INSERT inserts data into a specified schema of the table. User _init_ initiallizes the dataset. They are not the same thing. "
   ]
  },
  {
   "cell_type": "code",
   "execution_count": 6,
   "metadata": {},
   "outputs": [
    {
     "name": "stdout",
     "output_type": "stream",
     "text": [
      "A new user record thehall has been created\n"
     ]
    }
   ],
   "source": [
    "import sqlite3\n",
    "\n",
    "def create():\n",
    "    name = input(\"Enter your name:\")\n",
    "    uid = input(\"Enter your user id:\")\n",
    "    password = input(\"Enter your password\")\n",
    "    dob = input(\"Enter your date of birth 'YYYY-MM-DD'\")\n",
    "    \n",
    "    # Connect to the database file\n",
    "    conn = sqlite3.connect(database)\n",
    "\n",
    "    # Create a cursor object to execute SQL commands\n",
    "    cursor = conn.cursor()\n",
    "\n",
    "    try:\n",
    "        # Execute an SQL command to insert data into a table\n",
    "        cursor.execute(\"INSERT INTO users (_name, _uid, _password, _dob) VALUES (?, ?, ?, ?)\", (name, uid, password, dob))\n",
    "        \n",
    "        # Commit the changes to the database\n",
    "        conn.commit()\n",
    "        print(f\"A new user record {uid} has been created\")\n",
    "                \n",
    "    except sqlite3.Error as error:\n",
    "        print(\"Error while executing the INSERT:\", error)\n",
    "\n",
    "\n",
    "    # Close the cursor and connection objects\n",
    "    cursor.close()\n",
    "    conn.close()\n",
    "    \n",
    "create()"
   ]
  },
  {
   "attachments": {},
   "cell_type": "markdown",
   "metadata": {},
   "source": [
    "## Updating a User in table in Sqlite.db\n",
    "> Uses SQL UPDATE to modify password\n",
    "- What does the hacked part do? \n",
    "The hacked part ensures that the length of the password is greater than 2. If it is not, the message is updated to hacked. \n",
    "\n",
    "- Explain try/except, when would except occur?\n",
    "Except would occur when there was a problem connecting to the sqlite database or performing a function on the database\n",
    "\n",
    "- What code seems to be repeated in each of these examples to point, why is it repeated?\n",
    "Defining conn and cursor is repeated in all of these exmaples, because otherwise a connection to the swlite database can not be formed. "
   ]
  },
  {
   "cell_type": "code",
   "execution_count": 13,
   "metadata": {},
   "outputs": [
    {
     "name": "stdout",
     "output_type": "stream",
     "text": [
      "(1, 'Thomas Edison', 'toby', 'sha256$8gMqHiwNVm0kXKKI$e159a432d7ac4cb4bd17a8619f131b71430a17ed69cb5d3ba765655d5d1afe4d', '1847-02-11')\n",
      "(2, 'Nikola Tesla', 'niko', 'sha256$yddo2rIBRboB3CaL$9586ee89961d58e7bc162a21333e205d595905a56a4c240bcfdbfe68397ab91f', '2023-03-15')\n",
      "(3, 'Alexander Graham Bell', 'lex', 'sha256$fAA6oCO9HY0x45gn$50a2c9838da05300f9856613f09f687b56c7e3ae315f2fd9b99efe9dcc0eed40', '2023-03-15')\n",
      "(4, 'Eli Whitney', 'whit', 'sha256$skWViWpiKMTlpuzt$700a3e766ef4ac7bd8828ec63256e307169757a59b4dbfe0ca7063f190eec1cc', '2023-03-15')\n",
      "(5, 'Indiana Jones', 'indi', 'sha256$MjzIZS0QvsCMAILH$2df094760bd8e2b3fe2ff6bcde9cddc5cacb0c3eb34a79bc4c9a725ddf5fac66', '1920-10-21')\n",
      "(6, 'Marion Ravenwood', 'raven', 'sha256$9XHd8Q0dQ8mq8CE5$00c3fbbdcff0edec3bfc5971b468d2bf7cbf8e765f75c0a5a7cac88f96960968', '1921-10-21')\n",
      "(7, 'tanisha patil', 'tanisha', '56784', '2023-07-03')\n",
      "The row with user id tanisha the password has been successfully updated\n",
      "(1, 'Thomas Edison', 'toby', 'sha256$8gMqHiwNVm0kXKKI$e159a432d7ac4cb4bd17a8619f131b71430a17ed69cb5d3ba765655d5d1afe4d', '1847-02-11')\n",
      "(2, 'Nikola Tesla', 'niko', 'sha256$yddo2rIBRboB3CaL$9586ee89961d58e7bc162a21333e205d595905a56a4c240bcfdbfe68397ab91f', '2023-03-15')\n",
      "(3, 'Alexander Graham Bell', 'lex', 'sha256$fAA6oCO9HY0x45gn$50a2c9838da05300f9856613f09f687b56c7e3ae315f2fd9b99efe9dcc0eed40', '2023-03-15')\n",
      "(4, 'Eli Whitney', 'whit', 'sha256$skWViWpiKMTlpuzt$700a3e766ef4ac7bd8828ec63256e307169757a59b4dbfe0ca7063f190eec1cc', '2023-03-15')\n",
      "(5, 'Indiana Jones', 'indi', 'sha256$MjzIZS0QvsCMAILH$2df094760bd8e2b3fe2ff6bcde9cddc5cacb0c3eb34a79bc4c9a725ddf5fac66', '1920-10-21')\n",
      "(6, 'Marion Ravenwood', 'raven', 'sha256$9XHd8Q0dQ8mq8CE5$00c3fbbdcff0edec3bfc5971b468d2bf7cbf8e765f75c0a5a7cac88f96960968', '1921-10-21')\n",
      "(7, 'tanisha patil', 'tanisha', 'newpassword', '2023-07-03')\n"
     ]
    }
   ],
   "source": [
    "import sqlite3\n",
    "\n",
    "def update():\n",
    "    uid = input(\"Enter user id to update\")\n",
    "    password = input(\"Enter updated password\")\n",
    "    if len(password) < 2:\n",
    "        message = \"hacked\"\n",
    "        password = 'gothackednewpassword123'\n",
    "    else:\n",
    "        message = \"successfully updated\"\n",
    "\n",
    "    # Connect to the database file\n",
    "    conn = sqlite3.connect(database)\n",
    "\n",
    "    # Create a cursor object to execute SQL commands\n",
    "    cursor = conn.cursor()\n",
    "\n",
    "    try:\n",
    "        # Execute an SQL command to update data in a table\n",
    "        cursor.execute(\"UPDATE users SET _password = ? WHERE _uid = ?\", (password, uid))\n",
    "        if cursor.rowcount == 0:\n",
    "            # The uid was not found in the table\n",
    "            print(f\"No uid {uid} was not found in the table\")\n",
    "        else:\n",
    "            print(f\"The row with user id {uid} the password has been {message}\")\n",
    "            conn.commit()\n",
    "    except sqlite3.Error as error:\n",
    "        print(\"Error while executing the UPDATE:\", error)\n",
    "        \n",
    "    \n",
    "    # Close the cursor and connection objects\n",
    "    cursor.close()\n",
    "    conn.close()\n",
    "\n",
    "read()   \n",
    "update()\n",
    "read()\n"
   ]
  },
  {
   "attachments": {},
   "cell_type": "markdown",
   "metadata": {},
   "source": [
    "## Delete a User in table in Sqlite.db\n",
    "> Uses a delete function to remove a user based on a user input of the id.\n",
    "- Is DELETE a dangerous operation?  Why?\n",
    "Yes delete can be a dangerous operation when the database is public because of the fact that people may attempt to wipe the entire database. \n",
    "- What is the \"f\" and {uid} do?\n",
    "f is a replacement for .format, and allows any variables in the string to automatically be converted into string format. This is called an f-string. \n",
    "{uid} allows the program to access data based on the userinput of uid. "
   ]
  },
  {
   "cell_type": "code",
   "execution_count": 14,
   "metadata": {},
   "outputs": [
    {
     "name": "stdout",
     "output_type": "stream",
     "text": [
      "(1, 'Thomas Edison', 'toby', 'sha256$8gMqHiwNVm0kXKKI$e159a432d7ac4cb4bd17a8619f131b71430a17ed69cb5d3ba765655d5d1afe4d', '1847-02-11')\n",
      "(2, 'Nikola Tesla', 'niko', 'sha256$yddo2rIBRboB3CaL$9586ee89961d58e7bc162a21333e205d595905a56a4c240bcfdbfe68397ab91f', '2023-03-15')\n",
      "(3, 'Alexander Graham Bell', 'lex', 'sha256$fAA6oCO9HY0x45gn$50a2c9838da05300f9856613f09f687b56c7e3ae315f2fd9b99efe9dcc0eed40', '2023-03-15')\n",
      "(4, 'Eli Whitney', 'whit', 'sha256$skWViWpiKMTlpuzt$700a3e766ef4ac7bd8828ec63256e307169757a59b4dbfe0ca7063f190eec1cc', '2023-03-15')\n",
      "(5, 'Indiana Jones', 'indi', 'sha256$MjzIZS0QvsCMAILH$2df094760bd8e2b3fe2ff6bcde9cddc5cacb0c3eb34a79bc4c9a725ddf5fac66', '1920-10-21')\n",
      "(6, 'Marion Ravenwood', 'raven', 'sha256$9XHd8Q0dQ8mq8CE5$00c3fbbdcff0edec3bfc5971b468d2bf7cbf8e765f75c0a5a7cac88f96960968', '1921-10-21')\n",
      "(7, 'tanisha patil', 'tanisha', 'newpassword', '2023-07-03')\n",
      "The row with uid tanisha was successfully deleted\n",
      "(1, 'Thomas Edison', 'toby', 'sha256$8gMqHiwNVm0kXKKI$e159a432d7ac4cb4bd17a8619f131b71430a17ed69cb5d3ba765655d5d1afe4d', '1847-02-11')\n",
      "(2, 'Nikola Tesla', 'niko', 'sha256$yddo2rIBRboB3CaL$9586ee89961d58e7bc162a21333e205d595905a56a4c240bcfdbfe68397ab91f', '2023-03-15')\n",
      "(3, 'Alexander Graham Bell', 'lex', 'sha256$fAA6oCO9HY0x45gn$50a2c9838da05300f9856613f09f687b56c7e3ae315f2fd9b99efe9dcc0eed40', '2023-03-15')\n",
      "(4, 'Eli Whitney', 'whit', 'sha256$skWViWpiKMTlpuzt$700a3e766ef4ac7bd8828ec63256e307169757a59b4dbfe0ca7063f190eec1cc', '2023-03-15')\n",
      "(5, 'Indiana Jones', 'indi', 'sha256$MjzIZS0QvsCMAILH$2df094760bd8e2b3fe2ff6bcde9cddc5cacb0c3eb34a79bc4c9a725ddf5fac66', '1920-10-21')\n",
      "(6, 'Marion Ravenwood', 'raven', 'sha256$9XHd8Q0dQ8mq8CE5$00c3fbbdcff0edec3bfc5971b468d2bf7cbf8e765f75c0a5a7cac88f96960968', '1921-10-21')\n"
     ]
    }
   ],
   "source": [
    "import sqlite3\n",
    "\n",
    "def delete():\n",
    "    uid = input(\"Enter user id to delete\")\n",
    "\n",
    "    # Connect to the database file\n",
    "    conn = sqlite3.connect(database)\n",
    "\n",
    "    # Create a cursor object to execute SQL commands\n",
    "    cursor = conn.cursor()\n",
    "    \n",
    "    try:\n",
    "        cursor.execute(\"DELETE FROM users WHERE _uid = ?\", (uid,))\n",
    "        if cursor.rowcount == 0:\n",
    "            # The uid was not found in the table\n",
    "            print(f\"No uid {uid} was not found in the table\")\n",
    "        else:\n",
    "            # The uid was found in the table and the row was deleted\n",
    "            print(f\"The row with uid {uid} was successfully deleted\")\n",
    "        conn.commit()\n",
    "    except sqlite3.Error as error:\n",
    "        print(\"Error while executing the DELETE:\", error)\n",
    "        \n",
    "    # Close the cursor and connection objects\n",
    "    cursor.close()\n",
    "    conn.close()\n",
    "\n",
    "read()\n",
    "delete()\n",
    "read()"
   ]
  },
  {
   "attachments": {},
   "cell_type": "markdown",
   "metadata": {},
   "source": [
    "# OOP vs Imperitive \n",
    "I think for our case imperitive is more effective since we are dealing with a small database. However Object Oriented Programming is more useful for larger database, or is more scalable. "
   ]
  },
  {
   "attachments": {},
   "cell_type": "markdown",
   "metadata": {},
   "source": [
    "# Menu Interface to CRUD operations\n",
    "> CRUD and Schema interactions from one location by running menu. Observe input at the top of VSCode, observe output underneath code cell.\n",
    "- Why does the menu repeat? \n",
    "menu() repeats because menu() is a recurssive function, meaning it calls menu() within itself. \n",
    "- Could you refactor this menu?  Make it work with a List? If this means make the input a list or c, r, u, d that the program should run then yes this could be done. The program could split the user input into each of the methods that must be run and continue accordingly. \n"
   ]
  },
  {
   "cell_type": "code",
   "execution_count": 10,
   "metadata": {},
   "outputs": [
    {
     "name": "stdout",
     "output_type": "stream",
     "text": [
      "(1, 'Thomas Edison', 'toby', 'sha256$8gMqHiwNVm0kXKKI$e159a432d7ac4cb4bd17a8619f131b71430a17ed69cb5d3ba765655d5d1afe4d', '1847-02-11')\n",
      "(2, 'Nikola Tesla', 'niko', 'sha256$yddo2rIBRboB3CaL$9586ee89961d58e7bc162a21333e205d595905a56a4c240bcfdbfe68397ab91f', '2023-03-15')\n",
      "(3, 'Alexander Graham Bell', 'lex', 'sha256$fAA6oCO9HY0x45gn$50a2c9838da05300f9856613f09f687b56c7e3ae315f2fd9b99efe9dcc0eed40', '2023-03-15')\n",
      "(4, 'Eli Whitney', 'whit', 'sha256$skWViWpiKMTlpuzt$700a3e766ef4ac7bd8828ec63256e307169757a59b4dbfe0ca7063f190eec1cc', '2023-03-15')\n",
      "(5, 'Indiana Jones', 'indi', 'sha256$MjzIZS0QvsCMAILH$2df094760bd8e2b3fe2ff6bcde9cddc5cacb0c3eb34a79bc4c9a725ddf5fac66', '1920-10-21')\n",
      "(6, 'Marion Ravenwood', 'raven', 'sha256$9XHd8Q0dQ8mq8CE5$00c3fbbdcff0edec3bfc5971b468d2bf7cbf8e765f75c0a5a7cac88f96960968', '1921-10-21')\n",
      "(7, 'tanisha patil', 'tanisha', 'sha256$hEFHH2bIvs3zjl3e$c56be81867f31a8ef02148b973caefd04e04039177946e0360efd3ad575f4728', '2023-07-03')\n",
      "(1, 'Thomas Edison', 'toby', 'sha256$8gMqHiwNVm0kXKKI$e159a432d7ac4cb4bd17a8619f131b71430a17ed69cb5d3ba765655d5d1afe4d', '1847-02-11')\n",
      "(2, 'Nikola Tesla', 'niko', 'sha256$yddo2rIBRboB3CaL$9586ee89961d58e7bc162a21333e205d595905a56a4c240bcfdbfe68397ab91f', '2023-03-15')\n",
      "(3, 'Alexander Graham Bell', 'lex', 'sha256$fAA6oCO9HY0x45gn$50a2c9838da05300f9856613f09f687b56c7e3ae315f2fd9b99efe9dcc0eed40', '2023-03-15')\n",
      "(4, 'Eli Whitney', 'whit', 'sha256$skWViWpiKMTlpuzt$700a3e766ef4ac7bd8828ec63256e307169757a59b4dbfe0ca7063f190eec1cc', '2023-03-15')\n",
      "(5, 'Indiana Jones', 'indi', 'sha256$MjzIZS0QvsCMAILH$2df094760bd8e2b3fe2ff6bcde9cddc5cacb0c3eb34a79bc4c9a725ddf5fac66', '1920-10-21')\n",
      "(6, 'Marion Ravenwood', 'raven', 'sha256$9XHd8Q0dQ8mq8CE5$00c3fbbdcff0edec3bfc5971b468d2bf7cbf8e765f75c0a5a7cac88f96960968', '1921-10-21')\n",
      "(7, 'tanisha patil', 'tanisha', 'sha256$hEFHH2bIvs3zjl3e$c56be81867f31a8ef02148b973caefd04e04039177946e0360efd3ad575f4728', '2023-07-03')\n",
      "(1, 'Thomas Edison', 'toby', 'sha256$8gMqHiwNVm0kXKKI$e159a432d7ac4cb4bd17a8619f131b71430a17ed69cb5d3ba765655d5d1afe4d', '1847-02-11')\n",
      "(2, 'Nikola Tesla', 'niko', 'sha256$yddo2rIBRboB3CaL$9586ee89961d58e7bc162a21333e205d595905a56a4c240bcfdbfe68397ab91f', '2023-03-15')\n",
      "(3, 'Alexander Graham Bell', 'lex', 'sha256$fAA6oCO9HY0x45gn$50a2c9838da05300f9856613f09f687b56c7e3ae315f2fd9b99efe9dcc0eed40', '2023-03-15')\n",
      "(4, 'Eli Whitney', 'whit', 'sha256$skWViWpiKMTlpuzt$700a3e766ef4ac7bd8828ec63256e307169757a59b4dbfe0ca7063f190eec1cc', '2023-03-15')\n",
      "(5, 'Indiana Jones', 'indi', 'sha256$MjzIZS0QvsCMAILH$2df094760bd8e2b3fe2ff6bcde9cddc5cacb0c3eb34a79bc4c9a725ddf5fac66', '1920-10-21')\n",
      "(6, 'Marion Ravenwood', 'raven', 'sha256$9XHd8Q0dQ8mq8CE5$00c3fbbdcff0edec3bfc5971b468d2bf7cbf8e765f75c0a5a7cac88f96960968', '1921-10-21')\n",
      "(7, 'tanisha patil', 'tanisha', 'sha256$hEFHH2bIvs3zjl3e$c56be81867f31a8ef02148b973caefd04e04039177946e0360efd3ad575f4728', '2023-07-03')\n",
      "(1, 'Thomas Edison', 'toby', 'sha256$8gMqHiwNVm0kXKKI$e159a432d7ac4cb4bd17a8619f131b71430a17ed69cb5d3ba765655d5d1afe4d', '1847-02-11')\n",
      "(2, 'Nikola Tesla', 'niko', 'sha256$yddo2rIBRboB3CaL$9586ee89961d58e7bc162a21333e205d595905a56a4c240bcfdbfe68397ab91f', '2023-03-15')\n",
      "(3, 'Alexander Graham Bell', 'lex', 'sha256$fAA6oCO9HY0x45gn$50a2c9838da05300f9856613f09f687b56c7e3ae315f2fd9b99efe9dcc0eed40', '2023-03-15')\n",
      "(4, 'Eli Whitney', 'whit', 'sha256$skWViWpiKMTlpuzt$700a3e766ef4ac7bd8828ec63256e307169757a59b4dbfe0ca7063f190eec1cc', '2023-03-15')\n",
      "(5, 'Indiana Jones', 'indi', 'sha256$MjzIZS0QvsCMAILH$2df094760bd8e2b3fe2ff6bcde9cddc5cacb0c3eb34a79bc4c9a725ddf5fac66', '1920-10-21')\n",
      "(6, 'Marion Ravenwood', 'raven', 'sha256$9XHd8Q0dQ8mq8CE5$00c3fbbdcff0edec3bfc5971b468d2bf7cbf8e765f75c0a5a7cac88f96960968', '1921-10-21')\n",
      "(7, 'tanisha patil', 'tanisha', 'sha256$hEFHH2bIvs3zjl3e$c56be81867f31a8ef02148b973caefd04e04039177946e0360efd3ad575f4728', '2023-07-03')\n"
     ]
    }
   ],
   "source": [
    "# Menu, to run other cells from one control point\n",
    "def menu():\n",
    "    operation = input(\"Enter: (C)reate (R)ead (U)pdate or (D)elete or (S)chema\")\n",
    "    if operation.lower() == 'c':\n",
    "        create()\n",
    "    elif operation.lower() == 'r':\n",
    "        read()\n",
    "    elif operation.lower() == 'u':\n",
    "        update()\n",
    "    elif operation.lower() == 'd':\n",
    "        delete()\n",
    "    elif operation.lower() == 's':\n",
    "        schema()\n",
    "    elif len(operation)==0: # Escape Key\n",
    "        return\n",
    "    else:\n",
    "        print(\"Please enter c, r, u, or d\") \n",
    "    menu() # recursion, repeat menu\n",
    "        \n",
    "try:\n",
    "    menu() # start menu\n",
    "except:\n",
    "    print(\"Perform Jupyter 'Run All' prior to starting menu\")\n"
   ]
  },
  {
   "attachments": {},
   "cell_type": "markdown",
   "metadata": {},
   "source": [
    "# Hacks\n",
    "- Add this Blog to you own Blogging site.  In the Blog add notes and observations on each code cell.\n",
    "- Create a new Table or do something new, [sqlite documentation](https://www.sqlitetutorial.net/sqlite-python/creating-tables/)\n",
    "- In implementation in previous bullet, do you see procedural abstraction?"
   ]
  }
 ],
 "metadata": {
  "kernelspec": {
   "display_name": "Python 3",
   "language": "python",
   "name": "python3"
  },
  "language_info": {
   "codemirror_mode": {
    "name": "ipython",
    "version": 3
   },
   "file_extension": ".py",
   "mimetype": "text/x-python",
   "name": "python",
   "nbconvert_exporter": "python",
   "pygments_lexer": "ipython3",
   "version": "3.8.10"
  },
  "orig_nbformat": 4,
  "vscode": {
   "interpreter": {
    "hash": "916dbcbb3f70747c44a77c7bcd40155683ae19c65e1c03b4aa3499c5328201f1"
   }
  }
 },
 "nbformat": 4,
 "nbformat_minor": 2
}
