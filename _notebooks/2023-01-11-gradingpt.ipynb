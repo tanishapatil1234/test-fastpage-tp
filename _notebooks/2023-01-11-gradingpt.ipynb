{
 "cells": [
  {
   "attachments": {},
   "cell_type": "markdown",
   "metadata": {},
   "source": [
    "# PT Grading\n",
    "- PT Grading\n",
    "- toc: true\n",
    "- categories: []\n",
    "- type: pbl\n",
    "- week: 18"
   ]
  },
  {
   "attachments": {},
   "cell_type": "markdown",
   "metadata": {},
   "source": [
    "# Performance Task Scoring 1\n",
    "## Grading 1.1\n",
    "| Reporting Category \t| My Score \t| College Board Score \t| Comments \t|\n",
    "|---\t|---\t|---\t|---\t|\n",
    "| Program Purpose/ Function \t| 1 \t| 0\t| The person did not distinguish between program purpose and functionality. The person only described functionality  \t|\n",
    "| Data Abstraction \t| 1 \t| 1 \t| Includes two code segments, implements a list for a desired function\t|\n",
    "| Managing Complexity \t| 0 \t| 0 \t| The provided explanation did not support how the use of a list would manage the program’s complexity. The use of a list did not have any benefit or advantage to fixing errors in the code over something else such as a variable.  \t|\n",
    "| Procedural Abstraction \t| 1 \t| 1 \t| A procedure, ratioCalculate was defined and called. Person also described how the procedure is used and relted to the overall function of the program. |\n",
    "| Algorithm Implementation \t| 1 \t| 1 \t| Program uses all three: sequencing,selection (if), and iteration (through a list) \t|\n",
    "| Testing \t| 1 \t| 1 \t| Program is tests and when functions are called they properly run. \t|\n",
    "\n",
    "## Grading 1.2\n",
    "| Reporting Category \t| My Score \t| College Board Score \t| Comments \t|\n",
    "|---\t|---\t|---\t|---\t|\n",
    "| Program Purpose/ Function \t| 1 \t| 1 \t| The person distinguished<br>between program purpose and <br>functionality. Had a clear purpose <br>and clear function.  \t|\n",
    "| Data Abstraction \t| 1 \t| 1 \t| mplements three lists: startGrid, <br>currentGrid and nextGrid.  \t|\n",
    "| Managing Complexity \t| 1 \t| 1 \t| The provided explanation<br>supports how the use of a list<br>would manage the program's <br>complexity by explaining how the<br>use of variables or other resources <br>would be inefficient. The use of a list <br>did have great benefit. \t|\n",
    "| Procedural Abstraction \t| 1 \t| 1 \t| A procedure, resetall<br>was defined and called. <br>The function is used to <br>simply reset the game. Also, <br>newGen was defined which copies<br>information from the old generation to <br>the new one.  \t|\n",
    "| Algorithm Implementation \t| 1 \t| 1 \t| Program uses all three: sequencing, <br>selection (if), and iteration (through <br>a list) \t|\n",
    "| Testing \t| 1 \t| 1 \t| Program is tests and when functions are<br>called they properly run. Clearly describe <br>results in written report as well.  \t|"
   ]
  },
  {
   "attachments": {},
   "cell_type": "markdown",
   "metadata": {},
   "source": [
    "# Performance Task Scoring 2\n",
    "## Grading 2.1\n",
    "| Reporting Category \t| My Score \t| College Board Score \t| Comments \t|\n",
    "|---\t|---\t|---\t|---\t|\n",
    "| Program Purpose/ Function \t| 0\t| 0\t| The person did not distinguish between program purpose and functionality. The person only described the function of the program.   \t|\n",
    "| Data Abstraction \t| 0 \t| 0 \t| Includes two code segments, But the code segments are of two different lists. The second code segment should show how the first list is being implemented in the program to meet its purpose.\t|\n",
    "| Managing Complexity \t| 0 \t| 0 \t| Code segment not provided, explanation claims that using a list manages complexity but does not explain why.  \t|\n",
    "| Procedural Abstraction \t| 1 \t| 0 \t| I thought the student got the point because the function, Evaluateguess has one parameter, 'guess' but college board did not score it that way because the person did not explain how the code segment contrbuted to the overall purpose of the program |\n",
    "| Algorithm Implementation \t| 0 \t| 0 \t| Program uses all three: sequencing,selection (if), and iteration (through Evaluate list function), but criteria says to explain process in enough detail that somebody else could recreate it. The response was not very detailed \t|\n",
    "| Testing \t| 1 \t| 1 \t| Program is tests and when functions are called they properly run. Two different tests are run with dog and mouse, showing their appropriate outputs.\t|\n",
    "## Grading 2.2\n",
    "| Reporting Category \t| My Score \t| College Board Score \t| Comments \t|\n",
    "|---\t|---\t|---\t|---\t|\n",
    "| Program Purpose/ Function \t| 1\t| 1\t| Purpose, fucntionality, and input/output are stated. Video shows the program function properly and display the outputs predicted.   \t|\n",
    "| Data Abstraction \t| 1 \t| 1 \t| nounList is used, and later called in the selectWord procedure. Response explains the purpose of this list for the overall program. \t|\n",
    "| Managing Complexity \t| 1 \t| 1 \t| Shows use of nounList. nounList is called in a later procedure, selctWord as a paramter. Person explained how the use of list enables 'efficient random selection' and explains how without the list, multiple variables would have to be used and called, making the program inefficient.  \t|\n",
    "| Procedural Abstraction \t| 1 \t| 1 \t| Procedure, createPoems is shown in response. Response explains how this procedure incorporates all previous user input to display the final poem. Then the person clearly explains the functionality of the procedure.  |\n",
    "| Algorithm Implementation \t| 1 \t| 1 \t| Algorithm is within createPoems function, and includes all three: sequencing, iterations(while), and selection (if). The response describes how the algorithms and procedure works in detail that it can be recreated. \t|\n",
    "| Testing \t| 1 \t| 1 \t| Testing describes outputs of two calls, one including articles and one without including articles. Both successful outputs are portrayed according to their specific inputs. \t|\n",
    "## Grading 2.3\n",
    "| Reporting Category \t| My Score \t| College Board Score \t| Comments \t|\n",
    "|---\t|---\t|---\t|---\t|\n",
    "| Program Purpose/ Function \t| 1\t| 0\t| I thought the response described both the purpose and function, but it only describes the function of the program. The program runs successfully.   \t|\n",
    "| Data Abstraction \t| 1 \t| 1 \t| Response included two code segments. The first one shows firstChracterList being defined. The second segment shows the list being used in the function findWinner.   \t|\n",
    "| Managing Complexity \t| 1 \t| 1 \t| Shows how use of firstCharacterlist condenses the program. Allows simple iteration through the list rather than storage in 7 variables.  \t|\n",
    "| Procedural Abstraction \t| 1 \t| 1 \t| Procedure findWinner with parameters character1 and character2 are shown. Procedure's function and purpose, to determine hypothetical winner, are clearly described.  |\n",
    "| Algorithm Implementation \t| 1 \t| 1 \t| Algorithm is within findWinner function. It includes sequencing , selection(if) and interation (for). Response is explained in detailed manner, so much so that it can be recreated. \t|\n",
    "| Testing \t| 1 \t| 1 \t| Testing describes outputs of two calls, one between Vision and Bishop and the other between Carnage and Venom. First call displays a winner output, and the second one displays a tie output. COnditions for each call are clearly explained\t|\n",
    "## Grading 2.4\n",
    "| Reporting Category \t| My Score \t| College Board Score \t| Comments \t|\n",
    "|---\t|---\t|---\t|---\t|\n",
    "| Program Purpose/ Function \t| 1\t| 1\t| Program runs correctly. Input is user entered letters. Output are the letter appearing on the screen, color coordinated based on their correctness. The purpose is to test critical thinking skills and functionality was described in the response.   \t|\n",
    "| Data Abstraction \t| 1 \t| 0 \t| List guesses is showed in first segment. I thought it was being used in the second code segment, but it's length was only being assessed, which apparently doesn't contribute to the program's overall function.   \t|\n",
    "| Managing Complexity \t| 1 \t| 0 \t| Shows how use of guesses list condenses the program. I thought the list helped mangae complexity by deceasing the amount of variables needed, but the list only functions as a counter.  \t|\n",
    "| Procedural Abstraction \t| 1 \t| 1 \t| Program isitcorrect with parameter checkanswer is shown. Explains when the procedure is needed, showing how it contributes to the program's overall functionality.  |\n",
    "| Algorithm Implementation \t| 1 \t| 1 \t| Algorithm is within isitcorrect function. It includes sequencing , selection(if) and interation (for). Response is explained in detailed manner, so much so that it can be recreated. \t|\n",
    "| Testing \t| 0 \t| 0 \t| Testing response doesn't really test different outputs from the program, but rather tests the color of the blocks which are more of a condition. The conditions are what should be varied to give different outputs in the two calls. The video shows this completely but the response lacks it.\t|"
   ]
  }
 ],
 "metadata": {
  "kernelspec": {
   "display_name": "Python 3",
   "language": "python",
   "name": "python3"
  },
  "language_info": {
   "name": "python",
   "version": "3.8.10 (default, Jun 22 2022, 20:18:18) \n[GCC 9.4.0]"
  },
  "orig_nbformat": 4,
  "vscode": {
   "interpreter": {
    "hash": "916dbcbb3f70747c44a77c7bcd40155683ae19c65e1c03b4aa3499c5328201f1"
   }
  }
 },
 "nbformat": 4,
 "nbformat_minor": 2
}
